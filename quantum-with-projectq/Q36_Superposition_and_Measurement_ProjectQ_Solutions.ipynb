{
 "cells": [
  {
   "cell_type": "markdown",
   "metadata": {},
   "source": [
    "<a href=\"https://qworld.net\" target=\"_blank\" align=\"left\"><img src=\"./images/header.jpg\"  align=\"left\"></a>\n",
    "$ \\newcommand{\\bra}[1]{\\langle #1|} $\n",
    "$ \\newcommand{\\ket}[1]{|#1\\rangle} $\n",
    "$ \\newcommand{\\braket}[2]{\\langle #1|#2\\rangle} $\n",
    "$ \\newcommand{\\dot}[2]{ #1 \\cdot #2} $\n",
    "$ \\newcommand{\\biginner}[2]{\\left\\langle #1,#2\\right\\rangle} $\n",
    "$ \\newcommand{\\mymatrix}[2]{\\left( \\begin{array}{#1} #2\\end{array} \\right)} $\n",
    "$ \\newcommand{\\myvector}[1]{\\mymatrix{c}{#1}} $\n",
    "$ \\newcommand{\\myrvector}[1]{\\mymatrix{r}{#1}} $\n",
    "$ \\newcommand{\\mypar}[1]{\\left( #1 \\right)} $\n",
    "$ \\newcommand{\\mybigpar}[1]{ \\Big( #1 \\Big)} $\n",
    "$ \\newcommand{\\sqrttwo}{\\frac{1}{\\sqrt{2}}} $\n",
    "$ \\newcommand{\\dsqrttwo}{\\dfrac{1}{\\sqrt{2}}} $\n",
    "$ \\newcommand{\\onehalf}{\\frac{1}{2}} $\n",
    "$ \\newcommand{\\donehalf}{\\dfrac{1}{2}} $\n",
    "$ \\newcommand{\\hadamard}{ \\mymatrix{rr}{ \\sqrttwo & \\sqrttwo \\\\ \\sqrttwo & -\\sqrttwo }} $\n",
    "$ \\newcommand{\\vzero}{\\myvector{1\\\\0}} $\n",
    "$ \\newcommand{\\vone}{\\myvector{0\\\\1}} $\n",
    "$ \\newcommand{\\stateplus}{\\myvector{ \\sqrttwo \\\\  \\sqrttwo } } $\n",
    "$ \\newcommand{\\stateminus}{ \\myrvector{ \\sqrttwo \\\\ -\\sqrttwo } } $\n",
    "$ \\newcommand{\\myarray}[2]{ \\begin{array}{#1}#2\\end{array}} $\n",
    "$ \\newcommand{\\X}{ \\mymatrix{cc}{0 & 1 \\\\ 1 & 0}  } $\n",
    "$ \\newcommand{\\I}{ \\mymatrix{rr}{1 & 0 \\\\ 0 & 1}  } $\n",
    "$ \\newcommand{\\Z}{ \\mymatrix{rr}{1 & 0 \\\\ 0 & -1}  } $\n",
    "$ \\newcommand{\\Htwo}{ \\mymatrix{rrrr}{ \\frac{1}{2} & \\frac{1}{2} & \\frac{1}{2} & \\frac{1}{2} \\\\ \\frac{1}{2} & -\\frac{1}{2} & \\frac{1}{2} & -\\frac{1}{2} \\\\ \\frac{1}{2} & \\frac{1}{2} & -\\frac{1}{2} & -\\frac{1}{2} \\\\ \\frac{1}{2} & -\\frac{1}{2} & -\\frac{1}{2} & \\frac{1}{2} } } $\n",
    "$ \\newcommand{\\CNOT}{ \\mymatrix{cccc}{1 & 0 & 0 & 0 \\\\ 0 & 1 & 0 & 0 \\\\ 0 & 0 & 0 & 1 \\\\ 0 & 0 & 1 & 0} } $\n",
    "$ \\newcommand{\\norm}[1]{ \\left\\lVert #1 \\right\\rVert } $\n",
    "$ \\newcommand{\\pstate}[1]{ \\lceil \\mspace{-1mu} #1 \\mspace{-1.5mu} \\rfloor } $\n",
    "$ \\newcommand{\\greenbit}[1] {\\mathbf{{\\color{green}#1}}} $\n",
    "$ \\newcommand{\\bluebit}[1] {\\mathbf{{\\color{blue}#1}}} $\n",
    "$ \\newcommand{\\redbit}[1] {\\mathbf{{\\color{red}#1}}} $\n",
    "$ \\newcommand{\\brownbit}[1] {\\mathbf{{\\color{brown}#1}}} $\n",
    "$ \\newcommand{\\blackbit}[1] {\\mathbf{{\\color{black}#1}}} $"
   ]
  },
  {
   "cell_type": "markdown",
   "metadata": {},
   "source": [
    "<font style=\"font-size:28px;\" align=\"left\"><b> <font color=\"blue\"> Solutions for </font>Superposition and Measurement </b></font>\n",
    "<br>\n",
    "_prepared by Abuzer Yakaryilmaz_\n",
    "<br><br>"
   ]
  },
  {
   "cell_type": "markdown",
   "metadata": {},
   "source": [
    "<a id=\"task3\"></a>\n",
    "<h3> Task 3</h3>\n",
    "\n",
    "Repeat the second experiment with the following modifications.\n",
    "\n",
    "Start in state $ \\ket{1} $.\n",
    "\n",
    "Apply a Hadamard gate.\n",
    "\n",
    "Make a measurement. \n",
    "\n",
    "If the measurement outcome is 0, stop.\n",
    "\n",
    "Otherwise, apply a second Hadamard, and then make a measurement.\n",
    "\n",
    "Execute your circuit 1000 times.\n",
    "\n",
    "Calculate the expected values of observing '0' and '1', and then compare your result with the simulator result."
   ]
  },
  {
   "cell_type": "markdown",
   "metadata": {},
   "source": [
    "<h3> Solution </h3>"
   ]
  },
  {
   "cell_type": "code",
   "execution_count": 1,
   "metadata": {},
   "outputs": [],
   "source": [
    "# Import necessary objects and methods for creating circuits \n",
    "from projectq import MainEngine\n",
    "from projectq.ops import H,X,Measure,All\n",
    "from projectq.backends import CircuitDrawerMatplotlib, Simulator\n",
    "from projectq.setups.default import get_engine_list\n",
    "from projectq.meta import Loop\n",
    "\n",
    "# Let us create a dictionary to store measurements\n",
    "measurement_dict = {\"Zero\":0, \"One\":0}\n",
    "\n",
    "# Looping the circuit 10000 times\n",
    "for _ in range (1000):\n",
    "    drawing_engine = CircuitDrawerMatplotlib()\n",
    "    eng = MainEngine(backend = Simulator(), engine_list = [drawing_engine]+get_engine_list())\n",
    "\n",
    "    # Define number of qubits and allocate them. Lets name them qreg\n",
    "    qubit = eng.allocate_qureg(1)\n",
    "    \n",
    "    # Start with state |1>\n",
    "    X | qubit[0]\n",
    "    \n",
    "    # Apply first Hadamard\n",
    "    H | qubit[0]\n",
    "\n",
    "    # Flush circuit to backend\n",
    "    eng.flush()\n",
    "\n",
    "    # Measure first time\n",
    "    Measure | qubit[0]\n",
    "\n",
    "    # if condition to do additional task with the measured value. Remember the circuit will still exist untill you declare the engine again or use another engine\n",
    "    if int(qubit[0]) == 1:\n",
    "        H | qubit[0]\n",
    "        Measure | qubit\n",
    "        \n",
    "    # Store measured result in dictionary    \n",
    "    if (int(qubit[0]) == 0):\n",
    "        measurement_dict[\"Zero\"] += 1\n",
    "    else:\n",
    "        measurement_dict[\"One\"] += 1\n",
    "        \n",
    "    del qubit  "
   ]
  },
  {
   "cell_type": "markdown",
   "metadata": {},
   "source": [
    "We expect to see outcome '0' and '1' with frequency %75 and %25, respectively."
   ]
  },
  {
   "cell_type": "code",
   "execution_count": 2,
   "metadata": {},
   "outputs": [
    {
     "name": "stdout",
     "output_type": "stream",
     "text": [
      "{'Zero': 751, 'One': 249}\n",
      "State 0 is observed with frequency % 75.1\n",
      "State 1 is observed with frequency % 24.9\n"
     ]
    }
   ],
   "source": [
    "# Print values\n",
    "print(measurement_dict) \n",
    "print(\"State 0 is observed with frequency %\",100*measurement_dict[\"Zero\"]/(1000))\n",
    "print(\"State 1 is observed with frequency %\",100*measurement_dict[\"One\"]/(1000))"
   ]
  },
  {
   "cell_type": "markdown",
   "metadata": {},
   "source": [
    "<a id=\"task4\"></a>\n",
    "<h3> Task 4</h3>\n",
    "\n",
    "Design the following quantum circuit.\n",
    "\n",
    "Start in state $ \\ket{0} $.\n",
    "\n",
    "    Repeat 3 times:\n",
    "        if the classical bit is 0:\n",
    "            apply a Hadamard operator\n",
    "        make a measurement\n",
    "\n",
    "Execute your circuit 1000 times.\n",
    "\n",
    "Calculate the expected values of observing '0' and '1', and then compare your result with the simulator result."
   ]
  },
  {
   "cell_type": "markdown",
   "metadata": {},
   "source": [
    "<h3> Solution </h3>"
   ]
  },
  {
   "cell_type": "code",
   "execution_count": 3,
   "metadata": {},
   "outputs": [],
   "source": [
    "# Import necessary objects and methods for creating circuits \n",
    "from projectq import MainEngine\n",
    "from projectq.ops import H,X,Measure,All\n",
    "from projectq.backends import CircuitDrawerMatplotlib, Simulator\n",
    "from projectq.setups.default import get_engine_list\n",
    "from projectq.meta import Loop\n",
    "\n",
    "# Let us create a dictionary to store measurements\n",
    "measurement_dict = {\"Zero\":0, \"One\":0}\n",
    "\n",
    "# Looping the circuit 10000 times\n",
    "for _ in range (1000):\n",
    "    drawing_engine = CircuitDrawerMatplotlib()\n",
    "    eng = MainEngine(backend = Simulator(), engine_list = [drawing_engine]+get_engine_list())\n",
    "\n",
    "    # Define number of qubits and allocate them. Lets name them qreg\n",
    "    qubit = eng.allocate_qureg(1)\n",
    "    \n",
    "    # Apply first Hadamard\n",
    "    H | qubit[0]\n",
    "\n",
    "    # Flush circuit to backend\n",
    "    eng.flush()\n",
    "\n",
    "    # Measure first time\n",
    "    Measure | qubit[0]\n",
    "\n",
    "    # Repeat 2 times (Since we already measured once)\n",
    "    for i in range(2):\n",
    "        \n",
    "    # if condition to do additional task with the measured value. Remember the circuit will still exist untill you declare the engine again or use another engine    \n",
    "        if int(qubit[0]) == 0:\n",
    "            H | qubit[0]\n",
    "            Measure | qubit\n",
    "        \n",
    "    # Store measured result in dictionary    \n",
    "    if (int(qubit[0]) == 0):\n",
    "        measurement_dict[\"Zero\"] += 1\n",
    "    else:\n",
    "        measurement_dict[\"One\"] += 1\n",
    "        \n",
    "    del qubit  "
   ]
  },
  {
   "cell_type": "code",
   "execution_count": 4,
   "metadata": {},
   "outputs": [
    {
     "name": "stdout",
     "output_type": "stream",
     "text": [
      "{'Zero': 107, 'One': 893}\n",
      "State 0 is observed with frequency % 10.7\n",
      "State 1 is observed with frequency % 89.3\n"
     ]
    }
   ],
   "source": [
    "# Print values\n",
    "print(measurement_dict) \n",
    "print(\"State 0 is observed with frequency %\",100*measurement_dict[\"Zero\"]/(1000))\n",
    "print(\"State 1 is observed with frequency %\",100*measurement_dict[\"One\"]/(1000))"
   ]
  },
  {
   "cell_type": "markdown",
   "metadata": {},
   "source": [
    "<a id=\"task5\"></a>\n",
    "<h3> Task 5</h3>\n",
    "\n",
    "Design the following randomly created quantum circuit.\n",
    "\n",
    "Start in state $ \\ket{0} $.\n",
    "\n",
    "    apply a Hadamard operator\n",
    "    make a measurement\n",
    "    REPEAT 4 times: \n",
    "        randomly pick x in {0,1}\n",
    "        if the classical bit is x:\n",
    "            apply a Hadamard operator\n",
    "        make a measurement\n",
    "        \n",
    "Draw your circuit, and guess the expected frequency of observing '0' and '1' if the circuit is executed 10000 times.\n",
    "\n",
    "Then, execute your circuit 10000 times, and compare your result with the simulator result.\n",
    "\n",
    "Repeat execution a few more times."
   ]
  },
  {
   "cell_type": "markdown",
   "metadata": {},
   "source": [
    "<h3> Solution </h3>\n",
    "\n",
    "We can calculate the frequencies iteratively by python."
   ]
  },
  {
   "cell_type": "code",
   "execution_count": 5,
   "metadata": {},
   "outputs": [
    {
     "name": "stdout",
     "output_type": "stream",
     "text": [
      "0: 938 1: 9062\n",
      "{'Zero': 4989, 'One': 5011}\n",
      "State 0 is observed with frequency % 49.89\n",
      "State 1 is observed with frequency % 50.11\n"
     ]
    }
   ],
   "source": [
    "# Import necessary objects and methods for creating circuits \n",
    "from projectq import MainEngine\n",
    "from projectq.ops import H,X,Measure,All\n",
    "from projectq.backends import CircuitDrawerMatplotlib, Simulator\n",
    "from projectq.setups.default import get_engine_list\n",
    "from random import randrange \n",
    "from projectq.meta import Loop\n",
    "\n",
    "# Let us create a dictionary to store measurements\n",
    "measurement_dict = {\"Zero\":0, \"One\":0}\n",
    "\n",
    "# Looping the circuit 10000 times\n",
    "\n",
    "# Uncomment the line below to see the difference @Marija\n",
    "#with Loop(eng, 10000):\n",
    "\n",
    "for i in range (10000):\n",
    "    drawing_engine = CircuitDrawerMatplotlib()\n",
    "    eng = MainEngine(backend = Simulator(), engine_list = [drawing_engine]+get_engine_list())\n",
    "\n",
    "\n",
    "    # Define number of qubits and allocate them. Lets name them qreg\n",
    "    qubit = eng.allocate_qureg(1)\n",
    "    \n",
    "    # Start with state |1>\n",
    "    X | qubit[0]\n",
    "    \n",
    "    # Apply first Hadamard\n",
    "    H | qubit[0]\n",
    "\n",
    "    # Flush circuit to backend\n",
    "    eng.flush()\n",
    "    \n",
    "    shot = 10000\n",
    "    observe = [0,0]\n",
    "    Measure | qubit\n",
    "    observe = [shot/2,shot/2]\n",
    "       \n",
    "    for i in range(4):\n",
    "        x = randrange(2)\n",
    "        if x==0:\n",
    "            observe[0] = observe[0] / 2 \n",
    "            observe[1] = observe[1] + observe[0]\n",
    "        else:\n",
    "            observe[1] = observe[1] / 2 \n",
    "            observe[0] = observe[0] + observe[1]\n",
    "            \n",
    "        # if condition to do additional task with the measured value. Remember the circuit will still exist untill you declare the engine again or use another engine\n",
    "        \n",
    "        if int(qubit[0]) == x:\n",
    "            H | qubit[0]\n",
    "            Measure | qubit\n",
    "\n",
    "    # Recording inner if values\n",
    "    if (int(qubit[0]) == 0):\n",
    "        measurement_dict[\"Zero\"] += 1\n",
    "    else:\n",
    "        measurement_dict[\"One\"] += 1\n",
    "            \n",
    "    del qubit\n",
    "\n",
    "# Print values\n",
    "print('0:',round(observe[0]),'1:',round(observe[1]))\n",
    "\n",
    "print(measurement_dict) \n",
    "print(\"State 0 is observed with frequency %\",100*measurement_dict[\"Zero\"]/(10000))\n",
    "print(\"State 1 is observed with frequency %\",100*measurement_dict[\"One\"]/(10000))"
   ]
  },
  {
   "cell_type": "code",
   "execution_count": null,
   "metadata": {},
   "outputs": [],
   "source": []
  }
 ],
 "metadata": {
  "kernelspec": {
   "display_name": "Python 3",
   "language": "python",
   "name": "python3"
  },
  "language_info": {
   "codemirror_mode": {
    "name": "ipython",
    "version": 3
   },
   "file_extension": ".py",
   "mimetype": "text/x-python",
   "name": "python",
   "nbconvert_exporter": "python",
   "pygments_lexer": "ipython3",
   "version": "3.8.10"
  }
 },
 "nbformat": 4,
 "nbformat_minor": 4
}
