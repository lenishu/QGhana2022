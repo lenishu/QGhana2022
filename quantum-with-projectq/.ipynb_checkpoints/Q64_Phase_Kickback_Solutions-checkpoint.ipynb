{
 "cells": [
  {
   "cell_type": "markdown",
   "metadata": {},
   "source": [
    "<a href=\"https://qworld.net\" target=\"_blank\" align=\"left\"><img src=\"../qworld/images/header.jpg\"  align=\"left\"></a>\n",
    "$ \\newcommand{\\bra}[1]{\\langle #1|} $\n",
    "$ \\newcommand{\\ket}[1]{|#1\\rangle} $\n",
    "$ \\newcommand{\\braket}[2]{\\langle #1|#2\\rangle} $\n",
    "$ \\newcommand{\\dot}[2]{ #1 \\cdot #2} $\n",
    "$ \\newcommand{\\biginner}[2]{\\left\\langle #1,#2\\right\\rangle} $\n",
    "$ \\newcommand{\\mymatrix}[2]{\\left( \\begin{array}{#1} #2\\end{array} \\right)} $\n",
    "$ \\newcommand{\\myvector}[1]{\\mymatrix{c}{#1}} $\n",
    "$ \\newcommand{\\myrvector}[1]{\\mymatrix{r}{#1}} $\n",
    "$ \\newcommand{\\mypar}[1]{\\left( #1 \\right)} $\n",
    "$ \\newcommand{\\mybigpar}[1]{ \\Big( #1 \\Big)} $\n",
    "$ \\newcommand{\\sqrttwo}{\\frac{1}{\\sqrt{2}}} $\n",
    "$ \\newcommand{\\dsqrttwo}{\\dfrac{1}{\\sqrt{2}}} $\n",
    "$ \\newcommand{\\onehalf}{\\frac{1}{2}} $\n",
    "$ \\newcommand{\\donehalf}{\\dfrac{1}{2}} $\n",
    "$ \\newcommand{\\hadamard}{ \\mymatrix{rr}{ \\sqrttwo & \\sqrttwo \\\\ \\sqrttwo & -\\sqrttwo }} $\n",
    "$ \\newcommand{\\vzero}{\\myvector{1\\\\0}} $\n",
    "$ \\newcommand{\\vone}{\\myvector{0\\\\1}} $\n",
    "$ \\newcommand{\\stateplus}{\\myvector{ \\sqrttwo \\\\  \\sqrttwo } } $\n",
    "$ \\newcommand{\\stateminus}{ \\myrvector{ \\sqrttwo \\\\ -\\sqrttwo } } $\n",
    "$ \\newcommand{\\myarray}[2]{ \\begin{array}{#1}#2\\end{array}} $\n",
    "$ \\newcommand{\\X}{ \\mymatrix{cc}{0 & 1 \\\\ 1 & 0}  } $\n",
    "$ \\newcommand{\\I}{ \\mymatrix{rr}{1 & 0 \\\\ 0 & 1}  } $\n",
    "$ \\newcommand{\\Z}{ \\mymatrix{rr}{1 & 0 \\\\ 0 & -1}  } $\n",
    "$ \\newcommand{\\Htwo}{ \\mymatrix{rrrr}{ \\frac{1}{2} & \\frac{1}{2} & \\frac{1}{2} & \\frac{1}{2} \\\\ \\frac{1}{2} & -\\frac{1}{2} & \\frac{1}{2} & -\\frac{1}{2} \\\\ \\frac{1}{2} & \\frac{1}{2} & -\\frac{1}{2} & -\\frac{1}{2} \\\\ \\frac{1}{2} & -\\frac{1}{2} & -\\frac{1}{2} & \\frac{1}{2} } } $\n",
    "$ \\newcommand{\\CNOT}{ \\mymatrix{cccc}{1 & 0 & 0 & 0 \\\\ 0 & 1 & 0 & 0 \\\\ 0 & 0 & 0 & 1 \\\\ 0 & 0 & 1 & 0} } $\n",
    "$ \\newcommand{\\norm}[1]{ \\left\\lVert #1 \\right\\rVert } $\n",
    "$ \\newcommand{\\pstate}[1]{ \\lceil \\mspace{-1mu} #1 \\mspace{-1.5mu} \\rfloor } $\n",
    "$ \\newcommand{\\greenbit}[1] {\\mathbf{{\\color{green}#1}}} $\n",
    "$ \\newcommand{\\bluebit}[1] {\\mathbf{{\\color{blue}#1}}} $\n",
    "$ \\newcommand{\\redbit}[1] {\\mathbf{{\\color{red}#1}}} $\n",
    "$ \\newcommand{\\brownbit}[1] {\\mathbf{{\\color{brown}#1}}} $\n",
    "$ \\newcommand{\\blackbit}[1] {\\mathbf{{\\color{black}#1}}} $"
   ]
  },
  {
   "cell_type": "markdown",
   "metadata": {},
   "source": [
    "<font style=\"font-size:28px;\" align=\"left\"><b> <font color=\"blue\"> Solutions for </font>Phase Kickback with ProjectQ</b></font>\n",
    "<br>\n",
    "_prepared by Abuzer Yakaryilmaz_\n",
    "<br><br>"
   ]
  },
  {
   "cell_type": "markdown",
   "metadata": {},
   "source": [
    "<a id=\"task1\"></a>\n",
    "<h3> Task 1</h3>\n",
    "\n",
    "Create a quantum circuit with two qubits, say $ q[1] $ and $ q[0] $ in the reading order of Qiskit.\n",
    "\n",
    "We start in quantum state $ \\ket{01} $:\n",
    "- set the state of $ q[1] $ to $ \\ket{0} $, and\n",
    "- set the state of $ q[0] $ to $ \\ket{1} $.\n",
    "\n",
    "Apply Hadamard to both qubits.\n",
    "\n",
    "Apply CNOT operator, where the controller qubit is $ q[1] $ and the target qubit is $ q[0] $.\n",
    "\n",
    "Apply Hadamard to both qubits.\n",
    "\n",
    "Measure the outcomes."
   ]
  },
  {
   "cell_type": "markdown",
   "metadata": {},
   "source": [
    "<h3> Solution </h3>"
   ]
  },
  {
   "cell_type": "code",
   "execution_count": 2,
   "metadata": {},
   "outputs": [
    {
     "name": "stdout",
     "output_type": "stream",
     "text": [
      "(<Figure size 461.851x216 with 1 Axes>, <AxesSubplot:>)\n",
      "Measured [1, 1]\n"
     ]
    },
    {
     "data": {
      "image/png": "[encoded data removed]",
      "text/plain": [
       "<Figure size 461.851x216 with 1 Axes>"
      ]
     },
     "metadata": {},
     "output_type": "display_data"
    }
   ],
   "source": [
    "# Import all required objects and methods\n",
    "from projectq import MainEngine\n",
    "from projectq.ops import H,X,Measure,All, C, NOT, Barrier\n",
    "from projectq.backends import CircuitDrawerMatplotlib, Simulator\n",
    "from projectq.setups.default import get_engine_list\n",
    "\n",
    "# Initialize engine objects for simulation and drawings\n",
    "drawing_engine = CircuitDrawerMatplotlib()\n",
    "eng = MainEngine(backend = Simulator(), engine_list = [drawing_engine]+get_engine_list())\n",
    "\n",
    "# Define number of qubits and allocate them\n",
    "qubit = eng.allocate_qureg(2)\n",
    "\n",
    "# the up_qubit is in |0>\n",
    "# set the down qubit to |1>\n",
    "X | qubit[0]\n",
    "\n",
    "# Apply barrier gate\n",
    "Barrier | qubit\n",
    "\n",
    "# Apply Hadamard to both qubits\n",
    "All(H) | qubit\n",
    "\n",
    "# Apply CNOT operator, where the controller qubit is the up qubit and the target qubit is the down qubit.\n",
    "C(NOT) | (qubit[1],qubit[0])\n",
    "\n",
    "# Apply Hadamard to both qubits\n",
    "All(H) | qubit\n",
    "\n",
    "# Flush engine to backend\n",
    "eng.flush()\n",
    "\n",
    "# Measure Qubits\n",
    "All(Measure)| qubit\n",
    "\n",
    "# Draw Circuit and print measurements\n",
    "print(drawing_engine.draw())\n",
    "print(\"Measured {}\".format([int(q) for q in qubit]))"
   ]
  },
  {
   "cell_type": "markdown",
   "metadata": {},
   "source": [
    "<a id=\"task2\"></a>\n",
    "<h3> Task 2 </h3>\n",
    "\n",
    "Create a circuit with 7 qubits, say $ q[6],\\ldots,q[0] $ in the reading order of Qiskit.\n",
    "\n",
    "Set the states of the top six qubits to $ \\ket{0} $.\n",
    "\n",
    "Set the state of the bottom qubit to $ \\ket{1} $.\n",
    "\n",
    "Apply Hadamard operators to all qubits.\n",
    "\n",
    "Apply CNOT operator ($q[1]$,$q[0]$) \n",
    "<br>\n",
    "Apply CNOT operator ($q[4]$,$q[0]$) \n",
    "<br>\n",
    "Apply CNOT operator ($q[5]$,$q[0]$) \n",
    "\n",
    "Apply Hadamard operators to all qubits.\n",
    "\n",
    "Measure all qubits. \n",
    "\n",
    "For each CNOT operator, is there a phase-kickback effect?"
   ]
  },
  {
   "cell_type": "markdown",
   "metadata": {},
   "source": [
    "<h3> Solution </h3>"
   ]
  },
  {
   "cell_type": "code",
   "execution_count": 5,
   "metadata": {},
   "outputs": [
    {
     "name": "stdout",
     "output_type": "stream",
     "text": [
      "(<Figure size 665.102x576 with 1 Axes>, <AxesSubplot:>)\n",
      "Measured [1, 1, 0, 0, 1, 1, 0]\n"
     ]
    },
    {
     "data": {
      "image/png": "[encoded data removed]",
      "text/plain": [
       "<Figure size 665.102x576 with 1 Axes>"
      ]
     },
     "metadata": {},
     "output_type": "display_data"
    }
   ],
   "source": [
    "# Import all required objects and methods\n",
    "from projectq import MainEngine\n",
    "from projectq.ops import H,X,Measure,All, C, NOT, Barrier\n",
    "from projectq.backends import CircuitDrawerMatplotlib, Simulator\n",
    "from projectq.setups.default import get_engine_list\n",
    "\n",
    "# Initialize engine objects for simulation and drawings\n",
    "drawing_engine = CircuitDrawerMatplotlib()\n",
    "eng = MainEngine(backend = Simulator(), engine_list = [drawing_engine]+get_engine_list())\n",
    "\n",
    "# Define number of qubits and allocate them\n",
    "qubit = eng.allocate_qureg(7)\n",
    "\n",
    "# Set the first qubit to |1>\n",
    "X | qubit[0] # Apply x-gate (NOT operator)\n",
    "\n",
    "# Apply Hadamard to all qubits\n",
    "All(H) | qubit\n",
    "\n",
    "# Apply Barrier\n",
    "Barrier | qubit\n",
    "\n",
    "# Apply CNOT - (qubit[1],qubit[0]) & (qubit[4],qubit[0]) & (qubit[5],qubit[0])\n",
    "C(NOT) | (qubit[1],qubit[0])\n",
    "C(NOT) | (qubit[4],qubit[0])\n",
    "C(NOT) | (qubit[5],qubit[0])\n",
    "\n",
    "# Apply Hadamard to all qubits\n",
    "All(H) | qubit\n",
    "\n",
    "# Apply Barrier\n",
    "Barrier | qubit\n",
    "\n",
    "# Flush engine to backend\n",
    "eng.flush()\n",
    "\n",
    "# Measure Qubits\n",
    "All(Measure)| qubit\n",
    "\n",
    "# Draw Circuit and print measurements\n",
    "print(drawing_engine.draw())\n",
    "print(\"Measured {}\".format([int(q) for q in qubit]))"
   ]
  }
 ],
 "metadata": {
  "kernelspec": {
   "display_name": "Python 3",
   "language": "python",
   "name": "python3"
  },
  "language_info": {
   "codemirror_mode": {
    "name": "ipython",
    "version": 3
   },
   "file_extension": ".py",
   "mimetype": "text/x-python",
   "name": "python",
   "nbconvert_exporter": "python",
   "pygments_lexer": "ipython3",
   "version": "3.8.10"
  }
 },
 "nbformat": 4,
 "nbformat_minor": 4
}
