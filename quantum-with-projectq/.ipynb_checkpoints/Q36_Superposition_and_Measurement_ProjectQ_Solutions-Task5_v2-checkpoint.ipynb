{
 "cells": [
  {
   "cell_type": "code",
   "execution_count": 7,
   "metadata": {},
   "outputs": [
    {
     "name": "stdout",
     "output_type": "stream",
     "text": [
      "(Note: This is the (slow) Python simulator.)\n",
      "(Note: This is the (slow) Python simulator.)\n"
     ]
    }
   ],
   "source": [
    "# Import necessary objects and methods for creating circuits \n",
    "from projectq import MainEngine,meta\n",
    "from projectq.ops import H,X,Measure,All\n",
    "from projectq.backends import CircuitDrawerMatplotlib, Simulator\n",
    "from projectq.setups.default import get_engine_list\n",
    "from random import randrange \n",
    "\n",
    "drawing_engine = CircuitDrawerMatplotlib()\n",
    "eng = MainEngine(backend = Simulator(), engine_list = [drawing_engine]+get_engine_list())\n",
    "    \n",
    "# Looping the circuit 10000 times\n",
    "with meta.Loop(eng, 10000):     \n",
    "    eng = MainEngine(backend = Simulator(), engine_list = [drawing_engine]+get_engine_list())\n",
    "    # Define number of qubits and allocate them. Lets name them qreg\n",
    "    qubit = eng.allocate_qureg(1)    \n",
    "          \n",
    "    shot = 10000\n",
    "    observe = [0,0]\n",
    "\n",
    "    # Apply first Hadamard\n",
    "    H | qubit[0]\n",
    "\n",
    "    # Flush circuit to backend\n",
    "    eng.flush()\n",
    "    # Measure first time\n",
    "    Measure | qubit[0]\n",
    "    observe = [shot/2,shot/2]\n",
    "\n",
    "    for i in range(4):\n",
    "        x = randrange(2)\n",
    "        if x==0:\n",
    "            observe[0] = observe[0] / 2 \n",
    "            observe[1] = observe[1] + observe[0]\n",
    "        else:\n",
    "            observe[1] = observe[1] / 2 \n",
    "            observe[0] = observe[0] + observe[1]\n",
    "        if int(qubit[0]) == x:\n",
    "            H | qubit[0]\n",
    "            eng.flush()\n",
    "            Measure | qubit \n",
    "    del qubit[0]   "
   ]
  },
  {
   "cell_type": "code",
   "execution_count": 8,
   "metadata": {},
   "outputs": [
    {
     "name": "stdout",
     "output_type": "stream",
     "text": [
      "0: 6562 1: 3438\n"
     ]
    }
   ],
   "source": [
    "print('0:',round(observe[0]),'1:',round(observe[1]))"
   ]
  }
 ],
 "metadata": {
  "kernelspec": {
   "display_name": "Python 3",
   "language": "python",
   "name": "python3"
  },
  "language_info": {
   "codemirror_mode": {
    "name": "ipython",
    "version": 3
   },
   "file_extension": ".py",
   "mimetype": "text/x-python",
   "name": "python",
   "nbconvert_exporter": "python",
   "pygments_lexer": "ipython3",
   "version": "3.8.5"
  }
 },
 "nbformat": 4,
 "nbformat_minor": 4
}
