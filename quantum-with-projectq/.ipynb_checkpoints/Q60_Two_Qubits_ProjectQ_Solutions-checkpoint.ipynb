{
 "cells": [
  {
   "cell_type": "markdown",
   "metadata": {},
   "source": [
    "<a href=\"https://qworld.net\" target=\"_blank\" align=\"left\"><img src=\"../qworld/images/header.jpg\"  align=\"left\"></a>\n",
    "$ \\newcommand{\\bra}[1]{\\langle #1|} $\n",
    "$ \\newcommand{\\ket}[1]{|#1\\rangle} $\n",
    "$ \\newcommand{\\braket}[2]{\\langle #1|#2\\rangle} $\n",
    "$ \\newcommand{\\dot}[2]{ #1 \\cdot #2} $\n",
    "$ \\newcommand{\\biginner}[2]{\\left\\langle #1,#2\\right\\rangle} $\n",
    "$ \\newcommand{\\mymatrix}[2]{\\left( \\begin{array}{#1} #2\\end{array} \\right)} $\n",
    "$ \\newcommand{\\myvector}[1]{\\mymatrix{c}{#1}} $\n",
    "$ \\newcommand{\\myrvector}[1]{\\mymatrix{r}{#1}} $\n",
    "$ \\newcommand{\\mypar}[1]{\\left( #1 \\right)} $\n",
    "$ \\newcommand{\\mybigpar}[1]{ \\Big( #1 \\Big)} $\n",
    "$ \\newcommand{\\sqrttwo}{\\frac{1}{\\sqrt{2}}} $\n",
    "$ \\newcommand{\\dsqrttwo}{\\dfrac{1}{\\sqrt{2}}} $\n",
    "$ \\newcommand{\\onehalf}{\\frac{1}{2}} $\n",
    "$ \\newcommand{\\donehalf}{\\dfrac{1}{2}} $\n",
    "$ \\newcommand{\\hadamard}{ \\mymatrix{rr}{ \\sqrttwo & \\sqrttwo \\\\ \\sqrttwo & -\\sqrttwo }} $\n",
    "$ \\newcommand{\\vzero}{\\myvector{1\\\\0}} $\n",
    "$ \\newcommand{\\vone}{\\myvector{0\\\\1}} $\n",
    "$ \\newcommand{\\stateplus}{\\myvector{ \\sqrttwo \\\\  \\sqrttwo } } $\n",
    "$ \\newcommand{\\stateminus}{ \\myrvector{ \\sqrttwo \\\\ -\\sqrttwo } } $\n",
    "$ \\newcommand{\\myarray}[2]{ \\begin{array}{#1}#2\\end{array}} $\n",
    "$ \\newcommand{\\X}{ \\mymatrix{cc}{0 & 1 \\\\ 1 & 0}  } $\n",
    "$ \\newcommand{\\I}{ \\mymatrix{rr}{1 & 0 \\\\ 0 & 1}  } $\n",
    "$ \\newcommand{\\Z}{ \\mymatrix{rr}{1 & 0 \\\\ 0 & -1}  } $\n",
    "$ \\newcommand{\\Htwo}{ \\mymatrix{rrrr}{ \\frac{1}{2} & \\frac{1}{2} & \\frac{1}{2} & \\frac{1}{2} \\\\ \\frac{1}{2} & -\\frac{1}{2} & \\frac{1}{2} & -\\frac{1}{2} \\\\ \\frac{1}{2} & \\frac{1}{2} & -\\frac{1}{2} & -\\frac{1}{2} \\\\ \\frac{1}{2} & -\\frac{1}{2} & -\\frac{1}{2} & \\frac{1}{2} } } $\n",
    "$ \\newcommand{\\CNOT}{ \\mymatrix{cccc}{1 & 0 & 0 & 0 \\\\ 0 & 1 & 0 & 0 \\\\ 0 & 0 & 0 & 1 \\\\ 0 & 0 & 1 & 0} } $\n",
    "$ \\newcommand{\\norm}[1]{ \\left\\lVert #1 \\right\\rVert } $\n",
    "$ \\newcommand{\\pstate}[1]{ \\lceil \\mspace{-1mu} #1 \\mspace{-1.5mu} \\rfloor } $\n",
    "$ \\newcommand{\\greenbit}[1] {\\mathbf{{\\color{green}#1}}} $\n",
    "$ \\newcommand{\\bluebit}[1] {\\mathbf{{\\color{blue}#1}}} $\n",
    "$ \\newcommand{\\redbit}[1] {\\mathbf{{\\color{red}#1}}} $\n",
    "$ \\newcommand{\\brownbit}[1] {\\mathbf{{\\color{brown}#1}}} $\n",
    "$ \\newcommand{\\blackbit}[1] {\\mathbf{{\\color{black}#1}}} $"
   ]
  },
  {
   "cell_type": "markdown",
   "metadata": {},
   "source": [
    "<font style=\"font-size:28px;\" align=\"left\"><b> <font color=\"blue\"> Solutions for </font>Two Qubits </b></font>\n",
    "<br>\n",
    "_prepared by Abuzer Yakaryilmaz_\n",
    "<br><br>"
   ]
  },
  {
   "cell_type": "markdown",
   "metadata": {},
   "source": [
    "<a id=\"task3\"></a>\n",
    "<h3> Task 3 </h3>\n",
    "\n",
    "We define a quantum circuit with two qubits: $ q_0 $ and $ q_1 $. They are tensored as $ q_1 \\otimes q_0 $ in ProjectQ.\n",
    "\n",
    "We apply the Hadamard operator to $q_1$."
   ]
  },
  {
   "cell_type": "code",
   "execution_count": 1,
   "metadata": {},
   "outputs": [
    {
     "name": "stdout",
     "output_type": "stream",
     "text": [
      "(<Figure size 161.7x216 with 1 Axes>, <AxesSubplot:>)\n"
     ]
    },
    {
     "data": {
      "image/png": "[encoded data removed]",
      "text/plain": [
       "<Figure size 161.7x216 with 1 Axes>"
      ]
     },
     "metadata": {},
     "output_type": "display_data"
    }
   ],
   "source": [
    "# Import all required objects and methods\n",
    "from projectq import MainEngine\n",
    "from projectq.ops import H,X,Measure,All\n",
    "from projectq.backends import CircuitDrawerMatplotlib, Simulator\n",
    "from projectq.setups.default import get_engine_list\n",
    "\n",
    "# Initialize engine objects for simulation and drawings\n",
    "drawing_engine = CircuitDrawerMatplotlib()\n",
    "eng = MainEngine(backend = Simulator(), engine_list = [drawing_engine]+get_engine_list())\n",
    "\n",
    "# Define number of qubits and allocate them\n",
    "qubit = eng.allocate_qureg(2)\n",
    "\n",
    "#Aplly Hadamard to the two qubits\n",
    "H | qubit[0]\n",
    "\n",
    "print(drawing_engine.draw())"
   ]
  },
  {
   "cell_type": "markdown",
   "metadata": {},
   "source": [
    "Then, the quantum operator applied to both qubits will be $ H \\otimes I $.\n",
    "\n",
    "Read the quantum operator of the above circuit by using 'unitary_simulator' and then verify that it is $ H \\otimes I $."
   ]
  },
  {
   "cell_type": "markdown",
   "metadata": {},
   "source": [
    "<h3> Solution </h3>"
   ]
  },
  {
   "cell_type": "markdown",
   "metadata": {},
   "source": [
    "$ H \\otimes I = \\hadamard \\otimes \\I =  \\mymatrix{c|c}{ \\sqrttwo \\I & \\sqrttwo \\I \\\\ \\hline \\sqrttwo \\I & -\\sqrttwo \\I } = \\mymatrix{rr|rr} { \\sqrttwo & 0 & \\sqrttwo & 0 \\\\ 0 & \\sqrttwo & 0 & \\sqrttwo \\\\ \\hline \\sqrttwo & 0 & -\\sqrttwo & 0 \\\\ 0 & \\sqrttwo & 0 & -\\sqrttwo } $"
   ]
  },
  {
   "cell_type": "code",
   "execution_count": null,
   "metadata": {},
   "outputs": [],
   "source": [
    "## Yet to figure out Unitary_Simulator substitute"
   ]
  },
  {
   "cell_type": "markdown",
   "metadata": {},
   "source": [
    "<a id=\"task5\"></a>\n",
    "<h3> Task 5 </h3>\n",
    "\n",
    "Create a quantum curcuit with $ n=5 $ qubits.\n",
    "\n",
    "Set each qubit to $ \\ket{1} $.\n",
    "\n",
    "Repeat 4 times:\n",
    "<ul>\n",
    "    <li>Randomly pick a pair of qubits, and apply cx-gate (CNOT operator) on the pair.</li>\n",
    "</ul>\n",
    "\n",
    "Draw your circuit, and execute your program 100 times.\n",
    "\n",
    "Verify your measurement results by checking the diagram of the circuit. "
   ]
  },
  {
   "cell_type": "markdown",
   "metadata": {},
   "source": [
    "<h3> Solution </h3>"
   ]
  },
  {
   "cell_type": "code",
   "execution_count": 2,
   "metadata": {},
   "outputs": [
    {
     "name": "stderr",
     "output_type": "stream",
     "text": [
      "Exception ignored in: <function Qubit.__del__ at 0x000001A17F9B69D0>\n",
      "Traceback (most recent call last):\n",
      "  File \"C:\\Users\\visha\\AppData\\Roaming\\Python\\Python38\\site-packages\\projectq\\types\\_qubit.py\", line 119, in __del__\n",
      "    self.engine.deallocate_qubit(weak_copy)\n",
      "  File \"C:\\Users\\visha\\AppData\\Roaming\\Python\\Python38\\site-packages\\projectq\\cengines\\_basics.py\", line 147, in deallocate_qubit\n",
      "    self.send(\n",
      "  File \"C:\\Users\\visha\\AppData\\Roaming\\Python\\Python38\\site-packages\\projectq\\cengines\\_main.py\", line 305, in send\n",
      "    raise compact_exception from err  # use verbose=True for more info\n",
      "RuntimeError: Error: Qubit has not been measured / uncomputed! There is most likely a bug in your code.\n",
      " raised in:\n",
      "'  File \"C:\\\\Users\\\\visha\\\\AppData\\\\Roaming\\\\Python\\\\Python38\\\\site-packages\\\\projectq\\\\backends\\\\_sim\\\\_simulator.py\", line 372, in _handle'\n",
      "'    self._simulator.deallocate_qubit(qubit_id)'\n"
     ]
    },
    {
     "name": "stdout",
     "output_type": "stream",
     "text": [
      "the indices of the controller and target qubits are 1 0\n",
      "the indices of the controller and target qubits are 2 0\n",
      "the indices of the controller and target qubits are 1 3\n",
      "the indices of the controller and target qubits are 4 2\n",
      "(<Figure size 522.715x432 with 1 Axes>, <AxesSubplot:>)\n",
      "Measured [1, 1, 0, 0, 1]\n",
      "Our result is 11001\n"
     ]
    },
    {
     "data": {
      "image/png": "[encoded data removed]",
      "text/plain": [
       "<Figure size 522.715x432 with 1 Axes>"
      ]
     },
     "metadata": {},
     "output_type": "display_data"
    }
   ],
   "source": [
    "# Import all required objects and methods\n",
    "from projectq import MainEngine\n",
    "from projectq.ops import H,X,Measure,All, Barrier, C, NOT\n",
    "from projectq.backends import CircuitDrawerMatplotlib, Simulator\n",
    "from projectq.setups.default import get_engine_list\n",
    "from random import randrange\n",
    "\n",
    "# Initialize engine objects for simulation and drawings\n",
    "drawing_engine = CircuitDrawerMatplotlib()\n",
    "eng = MainEngine(backend = Simulator(), engine_list = [drawing_engine]+get_engine_list())\n",
    "\n",
    "# Define nuber of qubits\n",
    "n = 5\n",
    "\n",
    "\n",
    "# Define number of qubits and allocate them\n",
    "qubit = eng.allocate_qureg(n)\n",
    "\n",
    "states_of_qubits = [] # we trace the state of each qubit also by ourselves\n",
    "\n",
    "for i in range(n):\n",
    "    X | qubit[i] # Apply x-gate (NOT operator)\n",
    "    states_of_qubits.append(1) # The state of each qubit is set to 1\n",
    "\n",
    "for i in range(4):\n",
    "    controller_qubit = randrange(n)\n",
    "    target_qubit = randrange(n)\n",
    "    \n",
    "    # Controller and target qubits should be different\n",
    "    while controller_qubit == target_qubit: # If they are the same, we pick the target_qubit again\n",
    "        target_qubit = randrange(n)\n",
    "        \n",
    "    # Print our picked qubits\n",
    "    print(\"the indices of the controller and target qubits are\",controller_qubit,target_qubit)\n",
    "    \n",
    "    # Apply cx-gate (CNOT operator)\n",
    "    C(NOT) | (qubit[controller_qubit],qubit[target_qubit])\n",
    "              \n",
    "    # We also trace the results\n",
    "    if (states_of_qubits[controller_qubit] == 1): # If the value of the controller qubit is 1\n",
    "        # Remark that 1-x gives the negation of x\n",
    "        states_of_qubits[target_qubit] = 1 - states_of_qubits[target_qubit] # Then flips the value of the target qubit \n",
    "\n",
    "# Flush Engine\n",
    "eng.flush()\n",
    "    \n",
    "# Measure qubit\n",
    "Barrier | qubit\n",
    "All(Measure) | qubit\n",
    "\n",
    "# Draw Circuit\n",
    "print(drawing_engine.draw())\n",
    "print(\"Measured {}\".format([int(q) for q in qubit]))\n",
    "\n",
    "\n",
    "# Our Traced result\n",
    "our_result=\"\"\n",
    "for state in states_of_qubits:\n",
    "    our_result = our_result + str(state) \n",
    "print(\"Our result is\",our_result)"
   ]
  },
  {
   "cell_type": "markdown",
   "metadata": {},
   "source": [
    "<a id=\"task6\"></a>\n",
    "<h3>Task 6</h3>\n",
    "\n",
    "Our task is to learn the behavior of the following quantum circuit by doing experiments.\n",
    "\n",
    "Our circuit has two qubits: $ q_0 $ and $ q_1 $. They are tensored as $ q_1 \\otimes q_0 $ in Qiskit.\n",
    "<ul>\n",
    "    <li> Apply Hadamard to the both qubits.\n",
    "    <li> Apply CNOT($q_1$,$q_0$).\n",
    "    <li> Apply Hadamard to the both qubits.\n",
    "    <li> Measure the circuit.\n",
    "</ul>\n",
    "\n",
    "Iteratively initialize  the qubits to $ \\ket{00} $, $ \\ket{01} $, $ \\ket{10} $, and $ \\ket{11} $.\n",
    "\n",
    "Execute your program 100 times for each iteration, and then check the outcomes for each iteration. \n",
    "\n",
    "Observe that the overall circuit implements CNOT($q_0$,$q_1$)."
   ]
  },
  {
   "cell_type": "markdown",
   "metadata": {},
   "source": [
    "<h3> Solution </h3>"
   ]
  },
  {
   "cell_type": "code",
   "execution_count": 3,
   "metadata": {},
   "outputs": [
    {
     "name": "stdout",
     "output_type": "stream",
     "text": [
      "(<Figure size 405.763x216 with 1 Axes>, <AxesSubplot:>)\n",
      "00 is mapped to 00\n",
      "(<Figure size 461.851x216 with 1 Axes>, <AxesSubplot:>)\n",
      "01 is mapped to 01\n",
      "(<Figure size 461.851x216 with 1 Axes>, <AxesSubplot:>)\n",
      "10 is mapped to 11\n",
      "(<Figure size 461.851x216 with 1 Axes>, <AxesSubplot:>)\n",
      "11 is mapped to 10\n"
     ]
    },
    {
     "data": {
      "image/png": "[encoded data removed]",
      "text/plain": [
       "<Figure size 405.763x216 with 1 Axes>"
      ]
     },
     "metadata": {},
     "output_type": "display_data"
    },
    {
     "data": {
      "image/png": "[encoded data removed]",
      "text/plain": [
       "<Figure size 461.851x216 with 1 Axes>"
      ]
     },
     "metadata": {},
     "output_type": "display_data"
    },
    {
     "data": {
      "image/png": "[encoded data removed]",
      "text/plain": [
       "<Figure size 461.851x216 with 1 Axes>"
      ]
     },
     "metadata": {},
     "output_type": "display_data"
    },
    {
     "data": {
      "image/png": "[encoded data removed]",
      "text/plain": [
       "<Figure size 461.851x216 with 1 Axes>"
      ]
     },
     "metadata": {},
     "output_type": "display_data"
    }
   ],
   "source": [
    "# Import all required objects and methods\n",
    "from projectq import MainEngine\n",
    "from projectq.ops import H,X,Measure,All, Barrier, C, NOT\n",
    "from projectq.backends import CircuitDrawerMatplotlib, Simulator\n",
    "from projectq.setups.default import get_engine_list\n",
    "from random import randrange\n",
    "\n",
    "all_inputs=['00','01','10','11']\n",
    "\n",
    "for input in all_inputs:\n",
    "    # Initialize engine objects for simulation and drawings\n",
    "    drawing_engine = CircuitDrawerMatplotlib()\n",
    "    eng = MainEngine(backend = Simulator(), engine_list = [drawing_engine]+get_engine_list())\n",
    "    \n",
    "     # Define number of qubits and allocate them\n",
    "    qubit = eng.allocate_qureg(2)\n",
    "    \n",
    "    # Apply X gate if the starting state has a 1 in it.\n",
    "    if input[0] == '1':\n",
    "        X | qubit[0]\n",
    "    if input[1] =='1':\n",
    "        X | qubit[1]\n",
    "    \n",
    "    # Apply Hadamard to both qubits\n",
    "    All(H) | qubit\n",
    "    \n",
    "    # Apply CNOT(up_qubit, down_qubit)\n",
    "    C(NOT) | (qubit[1],qubit[0])\n",
    "    \n",
    "    # Apply Hadamard to both qubits\n",
    "    All(H) | qubit\n",
    "    \n",
    "    # Flush Engine\n",
    "    eng.flush()\n",
    "    \n",
    "    # Measure qubit\n",
    "    Barrier | qubit\n",
    "    All(Measure) | qubit\n",
    "\n",
    "    # Draw Circuit\n",
    "    print(drawing_engine.draw())\n",
    "    print(input, \"is mapped to {}{}\".format(int(qubit[0]),int(qubit[1])))"
   ]
  },
  {
   "cell_type": "markdown",
   "metadata": {},
   "source": [
    "<a id=\"task7\"></a>\n",
    "<h3>Task 7</h3>\n",
    "\n",
    "Our task is to learn the behavior of the following quantum circuit by doing experiments.\n",
    "\n",
    "Our circuit has two qubits: $ q_0 $ and $ q_1 $. They are tensored as $ q_1 \\otimes q_0 $ in Qiskit.\n",
    "<ul>\n",
    "    <li> Apply CNOT($q_1$,$q_0$).\n",
    "    <li> Apply CNOT($q_0$,$q_1$).\n",
    "    <li> Apply CNOT($q_1$,$q_0$).\n",
    "</ul>\n",
    "\n",
    "Iteratively initialize  the qubits to $ \\ket{00} $, $ \\ket{01} $, $ \\ket{10} $, and $ \\ket{11} $.\n",
    "\n",
    "Execute your program 100 times for each iteration, and then check the outcomes for each iteration. \n",
    "\n",
    "Observe that the overall circuit swaps the values of the first and second qubits:\n",
    "<ul>\n",
    "    <li> $\\ket{00} \\rightarrow \\ket{00} $ </li>\n",
    "    <li> $\\ket{01} \\rightarrow \\ket{10} $ </li>\n",
    "    <li> $\\ket{10} \\rightarrow \\ket{01} $ </li>\n",
    "    <li> $\\ket{11} \\rightarrow \\ket{11} $ </li>\n",
    "</ul>"
   ]
  },
  {
   "cell_type": "markdown",
   "metadata": {},
   "source": [
    "<h3> Solution </h3>"
   ]
  },
  {
   "cell_type": "code",
   "execution_count": 4,
   "metadata": {},
   "outputs": [
    {
     "name": "stdout",
     "output_type": "stream",
     "text": [
      "(<Figure size 410.539x216 with 1 Axes>, <AxesSubplot:>)\n",
      "00 is mapped to 00\n",
      "(<Figure size 466.627x216 with 1 Axes>, <AxesSubplot:>)\n",
      "01 is mapped to 10\n",
      "(<Figure size 466.627x216 with 1 Axes>, <AxesSubplot:>)\n",
      "10 is mapped to 01\n",
      "(<Figure size 466.627x216 with 1 Axes>, <AxesSubplot:>)\n",
      "11 is mapped to 11\n"
     ]
    },
    {
     "data": {
      "image/png": "[encoded data removed]",
      "text/plain": [
       "<Figure size 410.539x216 with 1 Axes>"
      ]
     },
     "metadata": {},
     "output_type": "display_data"
    },
    {
     "data": {
      "image/png": "[encoded data removed]",
      "text/plain": [
       "<Figure size 466.627x216 with 1 Axes>"
      ]
     },
     "metadata": {},
     "output_type": "display_data"
    },
    {
     "data": {
      "image/png": "[encoded data removed]",
      "text/plain": [
       "<Figure size 466.627x216 with 1 Axes>"
      ]
     },
     "metadata": {},
     "output_type": "display_data"
    },
    {
     "data": {
      "image/png": "[encoded data removed]",
      "text/plain": [
       "<Figure size 466.627x216 with 1 Axes>"
      ]
     },
     "metadata": {},
     "output_type": "display_data"
    }
   ],
   "source": [
    "# Import all required objects and methods\n",
    "from projectq import MainEngine\n",
    "from projectq.ops import H,X,Measure,All, Barrier, C, NOT\n",
    "from projectq.backends import CircuitDrawerMatplotlib, Simulator\n",
    "from projectq.setups.default import get_engine_list\n",
    "from random import randrange\n",
    "\n",
    "all_inputs=['00','01','10','11']\n",
    "\n",
    "for input in all_inputs:\n",
    "    # Initialize engine objects for simulation and drawings\n",
    "    drawing_engine = CircuitDrawerMatplotlib()\n",
    "    eng = MainEngine(backend = Simulator(), engine_list = [drawing_engine]+get_engine_list())\n",
    "    \n",
    "     # Define number of qubits and allocate them\n",
    "    qubit = eng.allocate_qureg(2)\n",
    "    \n",
    "    # Apply X gate if the starting state has a 1 in it.\n",
    "    if input[0] == '1':\n",
    "        X | qubit[0]\n",
    "    if input[1] =='1':\n",
    "        X | qubit[1]\n",
    "        \n",
    "    # Apply CNOT(up_qubit, down_qubit)\n",
    "    C(NOT) | (qubit[1],qubit[0])\n",
    "    # Apply CNOT(down_qubit, up_qubit)\n",
    "    C(NOT) | (qubit[0],qubit[1])\n",
    "    # Apply CNOT(up_qubit, down_qubit)\n",
    "    C(NOT) | (qubit[1],qubit[0])\n",
    "    \n",
    "    # Flush Engine\n",
    "    eng.flush()\n",
    "    \n",
    "    # Measure qubit\n",
    "    Barrier | qubit\n",
    "    All(Measure) | qubit\n",
    "\n",
    "    # Draw Circuit\n",
    "    print(drawing_engine.draw())\n",
    "    print(input, \"is mapped to {}{}\".format(int(qubit[0]),int(qubit[1])))"
   ]
  }
 ],
 "metadata": {
  "kernelspec": {
   "display_name": "Python 3",
   "language": "python",
   "name": "python3"
  },
  "language_info": {
   "codemirror_mode": {
    "name": "ipython",
    "version": 3
   },
   "file_extension": ".py",
   "mimetype": "text/x-python",
   "name": "python",
   "nbconvert_exporter": "python",
   "pygments_lexer": "ipython3",
   "version": "3.8.10"
  }
 },
 "nbformat": 4,
 "nbformat_minor": 4
}
