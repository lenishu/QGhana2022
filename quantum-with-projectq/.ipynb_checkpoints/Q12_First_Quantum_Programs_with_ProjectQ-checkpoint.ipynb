{
 "cells": [
  {
   "cell_type": "markdown",
   "metadata": {},
   "source": [
    "<a href=\"https://qworld.net\" target=\"_blank\" align=\"left\"><img src=\"./images/header.jpg\"  align=\"left\"></a>\n",
    "$ \\newcommand{\\bra}[1]{\\langle #1|} $\n",
    "$ \\newcommand{\\ket}[1]{|#1\\rangle} $\n",
    "$ \\newcommand{\\braket}[2]{\\langle #1|#2\\rangle} $\n",
    "$ \\newcommand{\\dot}[2]{ #1 \\cdot #2} $\n",
    "$ \\newcommand{\\biginner}[2]{\\left\\langle #1,#2\\right\\rangle} $\n",
    "$ \\newcommand{\\mymatrix}[2]{\\left( \\begin{array}{#1} #2\\end{array} \\right)} $\n",
    "$ \\newcommand{\\myvector}[1]{\\mymatrix{c}{#1}} $\n",
    "$ \\newcommand{\\myrvector}[1]{\\mymatrix{r}{#1}} $\n",
    "$ \\newcommand{\\mypar}[1]{\\left( #1 \\right)} $\n",
    "$ \\newcommand{\\mybigpar}[1]{ \\Big( #1 \\Big)} $\n",
    "$ \\newcommand{\\sqrttwo}{\\frac{1}{\\sqrt{2}}} $\n",
    "$ \\newcommand{\\dsqrttwo}{\\dfrac{1}{\\sqrt{2}}} $\n",
    "$ \\newcommand{\\onehalf}{\\frac{1}{2}} $\n",
    "$ \\newcommand{\\donehalf}{\\dfrac{1}{2}} $\n",
    "$ \\newcommand{\\hadamard}{ \\mymatrix{rr}{ \\sqrttwo & \\sqrttwo \\\\ \\sqrttwo & -\\sqrttwo }} $\n",
    "$ \\newcommand{\\vzero}{\\myvector{1\\\\0}} $\n",
    "$ \\newcommand{\\vone}{\\myvector{0\\\\1}} $\n",
    "$ \\newcommand{\\stateplus}{\\myvector{ \\sqrttwo \\\\  \\sqrttwo } } $\n",
    "$ \\newcommand{\\stateminus}{ \\myrvector{ \\sqrttwo \\\\ -\\sqrttwo } } $\n",
    "$ \\newcommand{\\myarray}[2]{ \\begin{array}{#1}#2\\end{array}} $\n",
    "$ \\newcommand{\\X}{ \\mymatrix{cc}{0 & 1 \\\\ 1 & 0}  } $\n",
    "$ \\newcommand{\\I}{ \\mymatrix{rr}{1 & 0 \\\\ 0 & 1}  } $\n",
    "$ \\newcommand{\\Z}{ \\mymatrix{rr}{1 & 0 \\\\ 0 & -1}  } $\n",
    "$ \\newcommand{\\Htwo}{ \\mymatrix{rrrr}{ \\frac{1}{2} & \\frac{1}{2} & \\frac{1}{2} & \\frac{1}{2} \\\\ \\frac{1}{2} & -\\frac{1}{2} & \\frac{1}{2} & -\\frac{1}{2} \\\\ \\frac{1}{2} & \\frac{1}{2} & -\\frac{1}{2} & -\\frac{1}{2} \\\\ \\frac{1}{2} & -\\frac{1}{2} & -\\frac{1}{2} & \\frac{1}{2} } } $\n",
    "$ \\newcommand{\\CNOT}{ \\mymatrix{cccc}{1 & 0 & 0 & 0 \\\\ 0 & 1 & 0 & 0 \\\\ 0 & 0 & 0 & 1 \\\\ 0 & 0 & 1 & 0} } $\n",
    "$ \\newcommand{\\norm}[1]{ \\left\\lVert #1 \\right\\rVert } $\n",
    "$ \\newcommand{\\pstate}[1]{ \\lceil \\mspace{-1mu} #1 \\mspace{-1.5mu} \\rfloor } $\n",
    "$ \\newcommand{\\greenbit}[1] {\\mathbf{{\\color{green}#1}}} $\n",
    "$ \\newcommand{\\bluebit}[1] {\\mathbf{{\\color{blue}#1}}} $\n",
    "$ \\newcommand{\\redbit}[1] {\\mathbf{{\\color{red}#1}}} $\n",
    "$ \\newcommand{\\brownbit}[1] {\\mathbf{{\\color{brown}#1}}} $\n",
    "$ \\newcommand{\\blackbit}[1] {\\mathbf{{\\color{black}#1}}} $"
   ]
  },
  {
   "cell_type": "markdown",
   "metadata": {},
   "source": [
    "<font style=\"font-size:28px;\" align=\"left\"><b> First Quantum Programs with ProjectQ </b></font>\n",
    "<br>\n",
    "_prepared by Abuzer Yakaryilmaz_\n",
    "<br>\n",
    "\n",
    "<br><br>"
   ]
  },
  {
   "cell_type": "markdown",
   "metadata": {},
   "source": [
    "In principle, every reversible classical program (i.e., a classical program containing only reversible operators) is also a quantum program. \n",
    " \n",
    "NOT operator is a classical reversible operator, and so we can design quantum programs by using NOT operator.\n",
    "<hr>"
   ]
  },
  {
   "cell_type": "markdown",
   "metadata": {},
   "source": [
    "For our quantum programs, we will design quantum circuits by using quantum programming framework <a href=\"https://projectq.ch/\" target=\"_blank\">ProjectQ</a>.\n",
    "Click on the link highlighted to learn more about the framework.\n",
    "\n",
    "As a warm-up example, here we design a circuit with a single quantum bit (qubit).\n",
    "\n",
    "We highlight the details on designing quantum circuits as comments along with our codes."
   ]
  },
  {
   "cell_type": "markdown",
   "metadata": {},
   "source": [
    "<h3> Design a circuit</h3>\n",
    "\n",
    "We design a quantum circuit with a single quantum bit and a single classical bit.\n",
    "\n",
    "We apply the NOT operator on the quantum bit, and then we measure the quantum bit, the outcome of which will be saved on the classical bit."
   ]
  },
  {
   "cell_type": "code",
   "execution_count": 1,
   "metadata": {},
   "outputs": [
    {
     "name": "stdout",
     "output_type": "stream",
     "text": [
      "(Note: This is the (slow) Python simulator.)\n"
     ]
    }
   ],
   "source": [
    "# We begin our circuit creation by first importing the objects required for our quantum circuit\n",
    "\"\"\"\n",
    "The first object we import is the MainEngine. The MainEngine object is responsible for  creation of qubits and provides\n",
    "all basic functionality to our quantum program. Here we use it to initialize our qubit and keep track of measurement results \n",
    "\"\"\"\n",
    "\n",
    "from projectq import MainEngine # import the main compiler engine\n",
    "\n",
    "# Now next, we import all the operations that we want to perform on our qubit \n",
    "from projectq.ops import X,Measure  # import the operations we want to perform (Measurement operator)\n",
    "\n",
    "# Let us now create a default compiler object to call it for every operation. Let us name it \"eng\" for engine.\n",
    "eng = MainEngine() # create a default compiler (the back-end is a simulator)\n",
    "\n",
    "# Now let us allocate our qubit. Here we are allocating one qubit named \"qubit\". Here we have no concept of a classical qubit as Qiskit so we do not need to allocate the same.\n",
    "qubit = eng.allocate_qubit()  # allocate 1 qubit. Notice we are allocating using the engine object we created before.\n",
    "\n",
    "# Our Quantum circuit is now defined. Let us apply operations on our circuit now.\n",
    "\n",
    "\"\"\"\n",
    "Operators are called as gates. Let us apply the NOT operator represented as \"X\" in ProjectQ. We need to specify which\n",
    "qubit we are applying our operator to after the \"|\" symbol. We use our previous qubit named \"qubit\" in this example\n",
    "\"\"\"\n",
    "# Let us apply the X gate to our \"qubit\" object. \n",
    "X | qubit # apply X gate\n",
    "\n",
    "# Let us now Measure the circuit. for the same, we use the \"Measure\" operation applied to our qubit to be measured\n",
    "Measure | qubit # apply Measurement operation\n"
   ]
  },
  {
   "cell_type": "markdown",
   "metadata": {},
   "source": [
    "<h3>Execute the circuit</h3>\n",
    "\n",
    "A quantum program can be executed on a real quantum computer or a local classical simulator or a simulator in the cloud. Here we use a local classical simulator provided by ProjectQ and so our results will be (almost) accurate. Note that we can also use IBM backends using ProjectQ provided you have your IBMQ experience API token key\n",
    "\n",
    "*Remark that the existing real quantum computers are still noisy and so the observed results will be inaccurate.*\n",
    "\n",
    "To measure, we first flush the circuit to the backend using the flush() function following which we can print our result as int as shown below:\n"
   ]
  },
  {
   "cell_type": "code",
   "execution_count": 2,
   "metadata": {},
   "outputs": [
    {
     "name": "stdout",
     "output_type": "stream",
     "text": [
      "Measured: 1\n",
      "The design of the circuit is done.\n"
     ]
    }
   ],
   "source": [
    "# We flush the circuit to print the value. We first need to call the flush() function on our \"eng\" object followed by our print statement\n",
    "eng.flush() # flush all gates (and execute measurements). Default backend is the ProjectQ Simulator.\n",
    "\n",
    "# Now we print our flushed measurement value and convert it to an integer using the int() command\n",
    "print(\"Measured: {}\".format(int(qubit)))  # output measurement result\n",
    "\n",
    "# We run our codes until now, and lets look at drawing our circuit next\n",
    "print(\"The design of the circuit is done.\")\n"
   ]
  },
  {
   "cell_type": "markdown",
   "metadata": {},
   "source": [
    "That is, the outcome 1 and the circuit has executed as expected\n",
    "\n",
    "<i>The output is composed directly of the measurement outcome unlike some other implementations </i>\n",
    "\n",
    "After executing the above program on a real quantum computer by using <a href=\"https://quantum-computing.ibm.com\" target=\"_blank\">IBM Quantum Experience</a>, we obtained the value of '0' 62 times and the value of '1' 962 times."
   ]
  },
  {
   "cell_type": "markdown",
   "metadata": {},
   "source": [
    "<h3> Visualize the circuit </h3>\n",
    "\n",
    "Visualizing quantum circuits are always helpful to see the whole program at once. \n",
    "\n",
    "Circuit drawing in ProjectQ requires a few prequisite steps. Let us look at it in this circuit. This circuit is based similar to the circuit we just created above."
   ]
  },
  {
   "cell_type": "code",
   "execution_count": 3,
   "metadata": {},
   "outputs": [
    {
     "name": "stdout",
     "output_type": "stream",
     "text": [
      "(Note: This is the (slow) Python simulator.)\n",
      "(<Figure size 207.288x144 with 1 Axes>, <AxesSubplot:>)\n"
     ]
    },
    {
     "data": {
      "image/png": "[encoded data removed]",
      "text/plain": [
       "<Figure size 207.288x144 with 1 Axes>"
      ]
     },
     "metadata": {},
     "output_type": "display_data"
    }
   ],
   "source": [
    "# To draw in ProjectQ we need to call in a special CircuitDrawerMatplotlib backend. Let is import the same.\n",
    "from projectq.backends import CircuitDrawerMatplotlib\n",
    "# The default drawing method uses LaTex as a code generator\n",
    "\n",
    "# Let us now create an engine object for drawing. We shall name it \"drawing_engine\"\n",
    "drawing_engine = CircuitDrawerMatplotlib()\n",
    "\n",
    "# Let us now create an engine object for our circuit like the previous example. We shall pass our drawing engine in the MainEngine routine for drawing the circuit. Notice the extra parameter of \"engine_list\" passed.\n",
    "eng = MainEngine(engine_list=[drawing_engine])\n",
    "\n",
    "# Creating our qubit and naming it \"qubit\"\n",
    "qubit = eng.allocate_qubit() # allocate 1 qubit\n",
    "\n",
    "# Applying NOT gate to our \"qubit\" and Measuring the same\n",
    "X | qubit # apply X gate\n",
    "Measure | qubit # apply Measurement operation\n",
    "\n",
    "# Now we flush the circuit to print the value.\n",
    "eng.flush()\n",
    "\n",
    "# We now print the circuit. The CircuitDrawerMatplotlib engine returns us a circuit figure as shown below\n",
    "print(drawing_engine.draw())"
   ]
  },
  {
   "cell_type": "markdown",
   "metadata": {},
   "source": [
    "<h3> The Circuit </h3>\n",
    "As seen explicitly in the first diagram, each quantum or classical bit is set to value/state 0 at the beginning. \n",
    "\n",
    "<i>As a convention in quantum computing (mechanics), state 0 is denoted as $ \\ket{0} $. This notation is called as <b>ket</b>.</i>\n",
    "\n",
    "Each quantum bit is represented as a single straight line which you may think of as wires.\n",
    "\n",
    "The X-gate is shown as the circular operator and measurement operators are shown as boxes. *Remark that the measurement operator is represented differently in the diagrams. Both are used in the literature.* \n",
    "\n",
    "The number of qubits and the variable name associated with it represents the index of storing the measuremnt outcome.\n",
    "\n",
    "The state of the quantum bit is expected to be $ \\ket{1} $ after the operator. So, the value of the classical bit after the measurement is expected to be 1."
   ]
  },
  {
   "cell_type": "markdown",
   "metadata": {},
   "source": [
    "<h3> A quantum circuit with more quantum bits</h3>\n",
    "\n",
    "We design a new quantum circuit with four quantum bits.  "
   ]
  },
  {
   "cell_type": "code",
   "execution_count": 4,
   "metadata": {},
   "outputs": [
    {
     "name": "stdout",
     "output_type": "stream",
     "text": [
      "(Note: This is the (slow) Python simulator.)\n",
      "Measured: 0011\n",
      "The design of the circuit is done.\n"
     ]
    }
   ],
   "source": [
    "# A quantum circuit with four quantum bits\n",
    "\n",
    "# Import all objects and methods at once\n",
    "from projectq.backends import Simulator\n",
    "from projectq import MainEngine \n",
    "from projectq.backends import CircuitDrawerMatplotlib\n",
    "from projectq.ops import X,Measure,Barrier,All\n",
    "from projectq.setups.default import get_engine_list\n",
    "\n",
    "\"\"\" A small note regarding MainEngine initialization. In the previous examples we were either only measuring or printing the circuit. Here, we need\n",
    "to do both which is why we are explicitly specifying the backend as the default Simulator() and engine_list as our CircuitDrawerMatplotlib(). This will enable\n",
    "us to call both the Simulator for measurement as well as the CircuitDrawerMatplotlib for generating our circuit preview\"\"\"\n",
    "\n",
    "# Initialize Simulator() and CircuitDrawerMatplotlib()\n",
    "drawing_engine = CircuitDrawerMatplotlib()\n",
    "eng = MainEngine(backend = Simulator(), engine_list=[drawing_engine]+get_engine_list())\n",
    "\n",
    "# Allocate qubits. Here we use allocate_qureg to allocate multiple qubits as a list\n",
    "qubit = eng.allocate_qureg(4)\n",
    "\n",
    "# Apply x-gate to the first quantum bit twice. Notice we can address qubits as a list\n",
    "X | qubit[0]\n",
    "X | qubit[0]\n",
    "\n",
    "# Apply x-gate to the fourth quantum bit once\n",
    "X | qubit[3]\n",
    "\n",
    "# Apply x-gate to the third quantum bit three times\n",
    "X | qubit[2]\n",
    "X | qubit[2]\n",
    "X | qubit[2]\n",
    "\n",
    "# Apply x-gate to the second quantum bit four times\n",
    "# Let us apply the gates using a for loop this time for a change.\n",
    "for i in range (4):\n",
    "    X | qubit[1]\n",
    "\n",
    "# Define a barrier (for a better visualization)\n",
    "Barrier | qubit\n",
    "\n",
    "# Flush circuit to backend\n",
    "eng.flush()\n",
    "\n",
    "# Let us measure our values. The All function allows us to measure all values together and pass qubits as a list\n",
    "All(Measure) | qubit\n",
    "\n",
    "# Print the measured output\n",
    "print(\"Measured: {}{}{}{}\".format(int(qubit[0]),int(qubit[1]),int(qubit[2]),int(qubit[3])))\n",
    "\n",
    "# Confirm circuit run\n",
    "print(\"The design of the circuit is done.\")"
   ]
  },
  {
   "cell_type": "code",
   "execution_count": 5,
   "metadata": {},
   "outputs": [
    {
     "name": "stdout",
     "output_type": "stream",
     "text": [
      "(<Figure size 466.627x360 with 1 Axes>, <AxesSubplot:>)\n"
     ]
    },
    {
     "data": {
      "image/png": "[encoded data removed]",
      "text/plain": [
       "<Figure size 466.627x360 with 1 Axes>"
      ]
     },
     "metadata": {},
     "output_type": "display_data"
    }
   ],
   "source": [
    "# Print the circuit designed using draw function for visualization\n",
    "print(drawing_engine.draw())"
   ]
  },
  {
   "cell_type": "markdown",
   "metadata": {},
   "source": [
    "<h3> Ordering of qubits </h3>\n",
    "\n",
    "The default order of quantum bits from top to down is $ qubit[0], qubit[1], qubit[2], qubit[3] $.\n",
    "\n",
    "The order depends on the qubit registers, hence we can reverse it if we reverse the list while printing."
   ]
  },
  {
   "cell_type": "markdown",
   "metadata": {},
   "source": [
    "<h3> Task 1 </h3>\n",
    "\n",
    "Guess the outcome by checking the circuit above.\n",
    "\n",
    "Then, compare your guess with the result obtained after executing our circuit 10 times."
   ]
  },
  {
   "cell_type": "code",
   "execution_count": 6,
   "metadata": {},
   "outputs": [],
   "source": [
    "# Enter your answer here"
   ]
  },
  {
   "cell_type": "markdown",
   "metadata": {},
   "source": [
    "<h3>Reading order</h3> \n",
    "\n",
    "ProjectQ combines the four quantum bits in the following order:\n",
    "\n",
    "$$ qubit[0], qubit[1], qubit[2], qubit[3] .$$\n",
    "\n",
    "Then, each outcome is read in the same order.\n",
    "\n",
    "The outcome is a binary number, and so the first digit is expected to be the most significant bit and the last digit is expected to be the least significant bit.\n",
    "\n",
    "For example, $ 13 =  \\mathbf{1} \\cdot 2^3 + \\mathbf{1} \\cdot 2^2 + \\mathbf{0} \\cdot 2^1 + \\mathbf{1} \\cdot 2^0 $, which is equal to $ \\mathbf{1101} $ in binary.\n",
    "\n",
    "In this case, $ qubit[0] = 1 $, $ qubit[1] = 1 $, $ qubit[2] = 0 $, and $ qubit[3] = 1$. \n",
    "\n",
    "Note: Since the qubit list we are printing is in our control, we can print in any order which we want. In the examples we have printed in the order specified above."
   ]
  },
  {
   "cell_type": "markdown",
   "metadata": {},
   "source": [
    "<h3>Pick a random number in python</h3>\n",
    "\n",
    "In the following task, you will be asked to apply x-gate to randomly picked quantum bits.\n",
    "\n",
    "Here is one of the methods to pick a random number in python."
   ]
  },
  {
   "cell_type": "code",
   "execution_count": 7,
   "metadata": {},
   "outputs": [
    {
     "name": "stdout",
     "output_type": "stream",
     "text": [
      "9\n",
      "8\n",
      "3\n",
      "19\n",
      "19\n",
      "4\n",
      "5\n",
      "14\n",
      "2\n",
      "3\n",
      "7\n"
     ]
    }
   ],
   "source": [
    "from random import randrange\n",
    "n = 20\n",
    "r=randrange(n) # pick a number from the list {0,1,...,n-1}\n",
    "print(r)\n",
    "\n",
    "# test this method by using a loop\n",
    "for i in range(10):\n",
    "    print(randrange(n))"
   ]
  },
  {
   "cell_type": "markdown",
   "metadata": {},
   "source": [
    "<h3> Task 2: Randomly picking an 8-bit binary number </h3>\n",
    "\n",
    "Design a quantum circuit with 8 quantum bits.\n",
    "\n",
    "For each quantum bit, flip a coin by python, and apply x-gate if the outcome is head.\n",
    "\n",
    "Measure your quantum bits.\n",
    "\n",
    "Execute your circuit 10 times.\n",
    "\n",
    "Repeat this task as much as you want, and enjoy your random choices."
   ]
  },
  {
   "cell_type": "code",
   "execution_count": null,
   "metadata": {},
   "outputs": [],
   "source": [
    "######################\n",
    "# Enter your code here\n",
    "######################\n"
   ]
  },
  {
   "cell_type": "markdown",
   "metadata": {},
   "source": [
    "[click for our solution](Q12_First_Quantum_Programs_with_ProjectQ_Solution.ipynb)"
   ]
  }
 ],
 "metadata": {
  "kernelspec": {
   "display_name": "Python 3",
   "language": "python",
   "name": "python3"
  },
  "language_info": {
   "codemirror_mode": {
    "name": "ipython",
    "version": 3
   },
   "file_extension": ".py",
   "mimetype": "text/x-python",
   "name": "python",
   "nbconvert_exporter": "python",
   "pygments_lexer": "ipython3",
   "version": "3.8.10"
  }
 },
 "nbformat": 4,
 "nbformat_minor": 4
}
