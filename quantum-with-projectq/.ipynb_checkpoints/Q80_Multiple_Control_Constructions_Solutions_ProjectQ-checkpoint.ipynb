{
 "cells": [
  {
   "cell_type": "markdown",
   "metadata": {},
   "source": [
    "<a href=\"https://qworld.net\" target=\"_blank\" align=\"left\"><img src=\"../qworld/images/header.jpg\"  align=\"left\"></a>\n",
    "$ \\newcommand{\\bra}[1]{\\langle #1|} $\n",
    "$ \\newcommand{\\ket}[1]{|#1\\rangle} $\n",
    "$ \\newcommand{\\braket}[2]{\\langle #1|#2\\rangle} $\n",
    "$ \\newcommand{\\dot}[2]{ #1 \\cdot #2} $\n",
    "$ \\newcommand{\\biginner}[2]{\\left\\langle #1,#2\\right\\rangle} $\n",
    "$ \\newcommand{\\mymatrix}[2]{\\left( \\begin{array}{#1} #2\\end{array} \\right)} $\n",
    "$ \\newcommand{\\myvector}[1]{\\mymatrix{c}{#1}} $\n",
    "$ \\newcommand{\\myrvector}[1]{\\mymatrix{r}{#1}} $\n",
    "$ \\newcommand{\\mypar}[1]{\\left( #1 \\right)} $\n",
    "$ \\newcommand{\\mybigpar}[1]{ \\Big( #1 \\Big)} $\n",
    "$ \\newcommand{\\sqrttwo}{\\frac{1}{\\sqrt{2}}} $\n",
    "$ \\newcommand{\\dsqrttwo}{\\dfrac{1}{\\sqrt{2}}} $\n",
    "$ \\newcommand{\\onehalf}{\\frac{1}{2}} $\n",
    "$ \\newcommand{\\donehalf}{\\dfrac{1}{2}} $\n",
    "$ \\newcommand{\\hadamard}{ \\mymatrix{rr}{ \\sqrttwo & \\sqrttwo \\\\ \\sqrttwo & -\\sqrttwo }} $\n",
    "$ \\newcommand{\\vzero}{\\myvector{1\\\\0}} $\n",
    "$ \\newcommand{\\vone}{\\myvector{0\\\\1}} $\n",
    "$ \\newcommand{\\stateplus}{\\myvector{ \\sqrttwo \\\\  \\sqrttwo } } $\n",
    "$ \\newcommand{\\stateminus}{ \\myrvector{ \\sqrttwo \\\\ -\\sqrttwo } } $\n",
    "$ \\newcommand{\\myarray}[2]{ \\begin{array}{#1}#2\\end{array}} $\n",
    "$ \\newcommand{\\X}{ \\mymatrix{cc}{0 & 1 \\\\ 1 & 0}  } $\n",
    "$ \\newcommand{\\I}{ \\mymatrix{rr}{1 & 0 \\\\ 0 & 1}  } $\n",
    "$ \\newcommand{\\Z}{ \\mymatrix{rr}{1 & 0 \\\\ 0 & -1}  } $\n",
    "$ \\newcommand{\\Htwo}{ \\mymatrix{rrrr}{ \\frac{1}{2} & \\frac{1}{2} & \\frac{1}{2} & \\frac{1}{2} \\\\ \\frac{1}{2} & -\\frac{1}{2} & \\frac{1}{2} & -\\frac{1}{2} \\\\ \\frac{1}{2} & \\frac{1}{2} & -\\frac{1}{2} & -\\frac{1}{2} \\\\ \\frac{1}{2} & -\\frac{1}{2} & -\\frac{1}{2} & \\frac{1}{2} } } $\n",
    "$ \\newcommand{\\CNOT}{ \\mymatrix{cccc}{1 & 0 & 0 & 0 \\\\ 0 & 1 & 0 & 0 \\\\ 0 & 0 & 0 & 1 \\\\ 0 & 0 & 1 & 0} } $\n",
    "$ \\newcommand{\\norm}[1]{ \\left\\lVert #1 \\right\\rVert } $\n",
    "$ \\newcommand{\\pstate}[1]{ \\lceil \\mspace{-1mu} #1 \\mspace{-1.5mu} \\rfloor } $\n",
    "$ \\newcommand{\\greenbit}[1] {\\mathbf{{\\color{green}#1}}} $\n",
    "$ \\newcommand{\\bluebit}[1] {\\mathbf{{\\color{blue}#1}}} $\n",
    "$ \\newcommand{\\redbit}[1] {\\mathbf{{\\color{red}#1}}} $\n",
    "$ \\newcommand{\\brownbit}[1] {\\mathbf{{\\color{brown}#1}}} $\n",
    "$ \\newcommand{\\blackbit}[1] {\\mathbf{{\\color{black}#1}}} $"
   ]
  },
  {
   "cell_type": "markdown",
   "metadata": {},
   "source": [
    "<font style=\"font-size:28px;\" align=\"left\"><b> <font color=\"blue\"> Solutions for </font> Multiple Control Constructions with ProjectQ </b></font>\n",
    "<br>\n",
    "_prepared by Maksim Dimitrijev and Abuzer Yakaryilmaz_\n",
    "<br><br>"
   ]
  },
  {
   "cell_type": "markdown",
   "metadata": {},
   "source": [
    "<a id=\"task1\"></a>\n",
    "<h3> Task 1 </h3>\n",
    "\n",
    "Implement each of the following operators in ProjectQ by using three qubits. Verify your implementation. <br><br>\n",
    "\n",
    "<font size=\"-2\">\n",
    "$$\n",
    "    C_0C_0NOT = \\mymatrix{cc|cc|cc|cc}{0 & \\bluebit{1} & 0 & 0 & 0 & 0 & 0 & 0 \\\\ \\bluebit{1} & 0 & 0 & 0 & 0 & 0 & 0 & 0 \\\\ \\hline 0 & 0 & \\blackbit{1} & 0 & 0 & 0 & 0 & 0 \\\\ 0 & 0 & 0 & \\blackbit{1} & 0 & 0 & 0 & 0 \\\\ \\hline 0 & 0 & 0 & 0 & \\blackbit{1} & 0 & 0 & 0 \\\\ 0 & 0 & 0 & 0 & 0 & \\blackbit{1} & 0 & 0 \\\\ \\hline 0 & 0 & 0 & 0 & 0 & 0 & \\blackbit{1} & 0 \\\\ 0 & 0 & 0 & 0 & 0 & 0 & 0 & \\blackbit{1}}, ~~\n",
    "    C_0C_1NOT = \\mymatrix{cc|cc|cc|cc}{ \\blackbit{1} & 0 & 0 & 0 & 0 & 0 & 0 & 0 \\\\ 0 & \\blackbit{1} & 0 & 0 & 0 & 0 & 0 & 0 \\\\ \\hline 0 & 0 & 0 & \\bluebit{1}  & 0 & 0 & 0 & 0 \\\\ 0 & 0 & \\bluebit{1}  & 0 & 0 & 0 & 0 & 0 \\\\ \\hline 0 & 0 & 0 & 0 & \\blackbit{1} & 0 & 0 & 0 \\\\ 0 & 0 & 0 & 0 & 0 & \\blackbit{1} & 0 & 0 \\\\ \\hline 0 & 0 & 0 & 0 & 0 & 0 & \\blackbit{1} & 0 \\\\ 0 & 0 & 0 & 0 & 0 & 0 & 0 & \\blackbit{1}}, ~~ \\mbox{and} ~~\n",
    "    C_1C_0NOT = \\mymatrix{cc|cc|cc|cc}{\\blackbit{1} & 0 & 0 & 0 & 0 & 0 & 0 & 0 \\\\ 0 & \\blackbit{1} & 0 & 0 & 0 & 0 & 0 & 0 \\\\ \\hline 0 & 0 & \\blackbit{1} & 0 & 0 & 0 & 0 & 0 \\\\ 0 & 0 & 0 & \\blackbit{1} & 0 & 0 & 0 & 0 \\\\ \\hline 0 & 0 & 0 & 0 & 0 & \\bluebit{1} & 0 & 0 \\\\ 0 & 0 & 0 & 0 & \\bluebit{1} & 0 & 0 & 0 \\\\ \\hline 0 & 0 & 0 & 0 & 0 & 0 & \\blackbit{1} & 0 \\\\ 0 & 0 & 0 & 0 & 0 & 0 & 0 & \\blackbit{1}}.   \n",
    "$$\n",
    "    </font>"
   ]
  },
  {
   "cell_type": "markdown",
   "metadata": {},
   "source": [
    "<h3>Solution</h3>"
   ]
  },
  {
   "cell_type": "markdown",
   "metadata": {},
   "source": [
    "#### Implementation of $ C_0C_0NOT $ operator"
   ]
  },
  {
   "cell_type": "code",
   "execution_count": 1,
   "metadata": {},
   "outputs": [
    {
     "name": "stdout",
     "output_type": "stream",
     "text": [
      "(<Figure size 319.464x288 with 1 Axes>, <AxesSubplot:>)\n",
      "CNOT(0) = \n",
      "0.0  1.0  0.0  0.0  0.0  0.0  0.0  0.0  \n",
      "1.0  0.0  0.0  0.0  0.0  0.0  0.0  0.0  \n",
      "0.0  0.0  1.0  0.0  0.0  0.0  0.0  0.0  \n",
      "0.0  0.0  0.0  1.0  0.0  0.0  0.0  0.0  \n",
      "0.0  0.0  0.0  0.0  1.0  0.0  0.0  0.0  \n",
      "0.0  0.0  0.0  0.0  0.0  1.0  0.0  0.0  \n",
      "0.0  0.0  0.0  0.0  0.0  0.0  1.0  0.0  \n",
      "0.0  0.0  0.0  0.0  0.0  0.0  0.0  1.0  \n"
     ]
    },
    {
     "data": {
      "image/png": "[encoded data removed]",
      "text/plain": [
       "<Figure size 319.464x288 with 1 Axes>"
      ]
     },
     "metadata": {},
     "output_type": "display_data"
    }
   ],
   "source": [
    "# Import all required objects and methods\n",
    "from projectq import MainEngine\n",
    "from projectq.ops import H,X,Measure,All, C, NOT, Barrier\n",
    "from projectq.backends import CircuitDrawerMatplotlib, UnitarySimulator\n",
    "from projectq.setups.default import get_engine_list\n",
    "\n",
    "# Initialize engine objects for simulation and drawings\n",
    "qdrawer = CircuitDrawerMatplotlib()\n",
    "qengine = MainEngine(backend = UnitarySimulator(), engine_list = [qdrawer]+get_engine_list())\n",
    "\n",
    "# Define number of qubits and allocate them\n",
    "qubit = qengine.allocate_qureg(3)\n",
    "\n",
    "# Apply gates for a C0C0NOT operator\n",
    "X | qubit[2]\n",
    "X | qubit[1]\n",
    "C(NOT,2) | (qubit[2],qubit[1],qubit[0])\n",
    "X | qubit[2]\n",
    "X | qubit[1]\n",
    "\n",
    "# Flush engine\n",
    "qengine.flush()\n",
    "\n",
    "# Measure Qubits\n",
    "All(Measure)| qubit\n",
    "\n",
    "# Draw Circuit and print measurements\n",
    "print(qdrawer.draw())\n",
    "\n",
    "# Obtain circuit unitary\n",
    "circuit_unitary = qengine.backend.unitary\n",
    "\n",
    "print(\"CCNOT(00) = \")\n",
    "for row in circuit_unitary:\n",
    "    column_val = \"\"\n",
    "    for value in row:\n",
    "        column_val = column_val + str(round(value.real,10)) + \"  \"\n",
    "    print(column_val)"
   ]
  },
  {
   "cell_type": "markdown",
   "metadata": {},
   "source": [
    "#### Implementation of $ C_0C_1NOT $ operator"
   ]
  },
  {
   "cell_type": "code",
   "execution_count": 2,
   "metadata": {},
   "outputs": [
    {
     "name": "stdout",
     "output_type": "stream",
     "text": [
      "(<Figure size 319.464x288 with 1 Axes>, <AxesSubplot:>)\n",
      "CCNOT(01) = \n",
      "1.0  0.0  0.0  0.0  0.0  0.0  0.0  0.0  \n",
      "0.0  1.0  0.0  0.0  0.0  0.0  0.0  0.0  \n",
      "0.0  0.0  0.0  1.0  0.0  0.0  0.0  0.0  \n",
      "0.0  0.0  1.0  0.0  0.0  0.0  0.0  0.0  \n",
      "0.0  0.0  0.0  0.0  1.0  0.0  0.0  0.0  \n",
      "0.0  0.0  0.0  0.0  0.0  1.0  0.0  0.0  \n",
      "0.0  0.0  0.0  0.0  0.0  0.0  1.0  0.0  \n",
      "0.0  0.0  0.0  0.0  0.0  0.0  0.0  1.0  \n"
     ]
    },
    {
     "data": {
      "image/png": "[encoded data removed]",
      "text/plain": [
       "<Figure size 319.464x288 with 1 Axes>"
      ]
     },
     "metadata": {},
     "output_type": "display_data"
    }
   ],
   "source": [
    "# Import all required objects and methods\n",
    "from projectq import MainEngine\n",
    "from projectq.ops import H,X,Measure,All, C, NOT, Barrier\n",
    "from projectq.backends import CircuitDrawerMatplotlib, UnitarySimulator\n",
    "from projectq.setups.default import get_engine_list\n",
    "\n",
    "# Initialize engine objects for simulation and drawings\n",
    "qdrawer = CircuitDrawerMatplotlib()\n",
    "qengine = MainEngine(backend = UnitarySimulator(), engine_list = [qdrawer]+get_engine_list())\n",
    "\n",
    "# Define number of qubits and allocate them\n",
    "qubit = qengine.allocate_qureg(3)\n",
    "\n",
    "# Apply gates for a C0C1NOT operator\n",
    "X | qubit[2]\n",
    "C(NOT,2) | (qubit[2],qubit[1],qubit[0])\n",
    "X | qubit[2]\n",
    "\n",
    "\n",
    "# Flush engine\n",
    "qengine.flush()\n",
    "\n",
    "# Measure Qubits\n",
    "All(Measure)| qubit\n",
    "\n",
    "# Draw Circuit and print measurements\n",
    "print(qdrawer.draw())\n",
    "\n",
    "# Obtain circuit unitary\n",
    "circuit_unitary = qengine.backend.unitary\n",
    "\n",
    "print(\"CCNOT(01) = \")\n",
    "for row in circuit_unitary:\n",
    "    column_val = \"\"\n",
    "    for value in row:\n",
    "        column_val = column_val + str(round(value.real,10)) + \"  \"\n",
    "    print(column_val)"
   ]
  },
  {
   "cell_type": "markdown",
   "metadata": {},
   "source": [
    "#### Implementation of $ C_1C_0NOT $ operator"
   ]
  },
  {
   "cell_type": "code",
   "execution_count": 3,
   "metadata": {},
   "outputs": [
    {
     "name": "stdout",
     "output_type": "stream",
     "text": [
      "(<Figure size 319.464x288 with 1 Axes>, <AxesSubplot:>)\n"
     ]
    },
    {
     "data": {
      "image/png": "[encoded data removed]",
      "text/plain": [
       "<Figure size 319.464x288 with 1 Axes>"
      ]
     },
     "metadata": {},
     "output_type": "display_data"
    }
   ],
   "source": [
    "# Import all required objects and methods\n",
    "from projectq import MainEngine\n",
    "from projectq.ops import H,X,Measure,All, C, NOT, Barrier\n",
    "from projectq.backends import CircuitDrawerMatplotlib, UnitarySimulator\n",
    "from projectq.setups.default import get_engine_list\n",
    "\n",
    "# Initialize engine objects for simulation and drawings\n",
    "qdrawer = CircuitDrawerMatplotlib()\n",
    "qengine = MainEngine(backend = UnitarySimulator(), engine_list = [qdrawer]+get_engine_list())\n",
    "\n",
    "# Define number of qubits and allocate them\n",
    "qubit = qengine.allocate_qureg(3)\n",
    "\n",
    "# Apply gates for a C1C0NOT operator\n",
    "X | qubit[1]\n",
    "C(NOT,2) | (qubit[2],qubit[1],qubit[0])\n",
    "X | qubit[1]\n",
    "\n",
    "\n",
    "# Flush engine\n",
    "qengine.flush()\n",
    "\n",
    "# Measure Qubits\n",
    "All(Measure)| qubit\n",
    "\n",
    "# Draw Circuit and print measurements\n",
    "print(qdrawer.draw())\n",
    "\n",
    "# Obtain circuit unitary\n",
    "circuit_unitary = qengine.backend.unitary\n",
    "\n",
    "for row in circuit_unitary:\n",
    "    column_val = \"\"\n",
    "    for value in row:\n",
    "        column_val = column_val + str(round(value.real,10)) + \"  \"\n",
    "    print(column_val)"
   ]
  },
  {
   "cell_type": "markdown",
   "metadata": {},
   "source": [
    "<a id=\"task2\"></a>\n",
    "<h3>Task 2</h3>\n",
    "\n",
    "Provide an implementation of the NOT operator controlled by 4 qubits ($CCCCNOT$) in ProjectQ. Verify its correctness by executing your solution on all possible inputs. (See the above example)\n",
    "\n",
    "*You may use two auxiliary qubits.*"
   ]
  },
  {
   "cell_type": "markdown",
   "metadata": {},
   "source": [
    "<h3>Solution</h3>"
   ]
  },
  {
   "cell_type": "markdown",
   "metadata": {},
   "source": [
    "#### Desinging the operator"
   ]
  },
  {
   "cell_type": "code",
   "execution_count": 4,
   "metadata": {},
   "outputs": [
    {
     "name": "stdout",
     "output_type": "stream",
     "text": [
      "(<Figure size 388.44x576 with 1 Axes>, <AxesSubplot:>)\n"
     ]
    },
    {
     "data": {
      "image/png": "[encoded data removed]",
      "text/plain": [
       "<Figure size 388.44x576 with 1 Axes>"
      ]
     },
     "metadata": {},
     "output_type": "display_data"
    }
   ],
   "source": [
    "# Import all required objects and methods\n",
    "from projectq import MainEngine\n",
    "from projectq.ops import H,X,Measure,All, C, NOT, Barrier\n",
    "from projectq.backends import CircuitDrawerMatplotlib, Simulator\n",
    "from projectq.setups.default import get_engine_list\n",
    "\n",
    "# Initialize engine objects for simulation and drawings\n",
    "qdrawer = CircuitDrawerMatplotlib()\n",
    "qengine = MainEngine(backend = Simulator(), engine_list = [qdrawer]+get_engine_list())\n",
    "\n",
    "# Define number of qubits and allocate them\n",
    "qubit = qengine.allocate_qureg(5)\n",
    "qaux = qengine.allocate_qureg(2)\n",
    "\n",
    "# Apply CCNOT operations\n",
    "C(NOT,2) | (qubit[4],qubit[3],qaux[1])\n",
    "C(NOT,2) | (qubit[2],qubit[1],qaux[0])\n",
    "C(NOT,2) | (qaux[1],qaux[0],qubit[0])\n",
    "C(NOT,2) | (qubit[4],qubit[3],qaux[1])\n",
    "C(NOT,2) | (qubit[2],qubit[1],qaux[0])\n",
    "\n",
    "print(qdrawer.draw())"
   ]
  },
  {
   "cell_type": "markdown",
   "metadata": {},
   "source": [
    "#### Executing this circuit on every possible inputs and verify the correctness of the implementation experimentially."
   ]
  },
  {
   "cell_type": "code",
   "execution_count": 5,
   "metadata": {},
   "outputs": [
    {
     "name": "stdout",
     "output_type": "stream",
     "text": [
      "input --> output\n",
      "0000 0 --> 0000 0\n",
      "1000 0 --> 1000 0\n",
      "0100 0 --> 0100 0\n",
      "1100 0 --> 1100 0\n",
      "0010 0 --> 0010 0\n",
      "1010 0 --> 1010 0\n",
      "0110 0 --> 0110 0\n",
      "1110 0 --> 1110 0\n",
      "0001 0 --> 0001 0\n",
      "1001 0 --> 1001 0\n",
      "0101 0 --> 0101 0\n",
      "1101 0 --> 1101 0\n",
      "0011 0 --> 0011 0\n",
      "1011 0 --> 1011 0\n",
      "0111 0 --> 0111 0\n",
      "1111 0 --> 1111 1 the output is different than the input\n",
      "0000 1 --> 0000 1\n",
      "1000 1 --> 1000 1\n",
      "0100 1 --> 0100 1\n",
      "1100 1 --> 1100 1\n",
      "0010 1 --> 0010 1\n",
      "1010 1 --> 1010 1\n",
      "0110 1 --> 0110 1\n",
      "1110 1 --> 1110 1\n",
      "0001 1 --> 0001 1\n",
      "1001 1 --> 1001 1\n",
      "0101 1 --> 0101 1\n",
      "1101 1 --> 1101 1\n",
      "0011 1 --> 0011 1\n",
      "1011 1 --> 1011 1\n",
      "0111 1 --> 0111 1\n",
      "1111 1 --> 1111 0 the output is different than the input\n"
     ]
    }
   ],
   "source": [
    "# Import all required objects and methods\n",
    "from projectq import MainEngine\n",
    "from projectq.ops import H,X,Measure,All, C, NOT, Barrier\n",
    "from projectq.backends import CircuitDrawerMatplotlib, Simulator\n",
    "from projectq.setups.default import get_engine_list\n",
    "\n",
    "all_inputs=[]\n",
    "for q4 in ['0','1']: \n",
    "    for q3 in ['0','1']:\n",
    "        for q2 in ['0','1']:\n",
    "            for q1 in ['0','1']:\n",
    "                for q0 in ['0','1']:\n",
    "                    all_inputs.append(q4+q3+q2+q1+q0)\n",
    "                    \n",
    "print(\"input --> output\")\n",
    "for the_input in all_inputs:\n",
    "    # Initialize engine objects for simulation and drawings\n",
    "    qdrawer = CircuitDrawerMatplotlib()\n",
    "    qengine = MainEngine(backend = Simulator(), engine_list = [qdrawer]+get_engine_list())\n",
    "\n",
    "    # Define number of qubits and allocate them\n",
    "    qubit = qengine.allocate_qureg(5)\n",
    "    qaux = qengine.allocate_qureg(2)\n",
    "    \n",
    "    # Set the initial value of the circuit w.r.t. the input\n",
    "    if the_input[0] =='1': X | qubit[0]\n",
    "    if the_input[1] =='1': X | qubit[1]\n",
    "    if the_input[2] =='1': X | qubit[2]\n",
    "    if the_input[3] =='1': X | qubit[3]\n",
    "    if the_input[4] =='1': X | qubit[4]\n",
    "\n",
    "    # Apply CCNOT operations\n",
    "    C(NOT,2) | (qubit[4],qubit[3],qaux[1])\n",
    "    C(NOT,2) | (qubit[2],qubit[1],qaux[0])\n",
    "    C(NOT,2) | (qaux[1],qaux[0],qubit[0])\n",
    "    C(NOT,2) | (qubit[4],qubit[3],qaux[1])\n",
    "    C(NOT,2) | (qubit[2],qubit[1],qaux[0])\n",
    "\n",
    "    # Flush Engine\n",
    "    qengine.flush()\n",
    "    \n",
    "    # Measure all qubits\n",
    "    All(Measure) | qubit\n",
    "    \n",
    "    # Get Measurement results\n",
    "    counts = [int(q) for q in qubit]\n",
    "    strings = [str(integer) for integer in counts]\n",
    "    string_counts = \"\".join(strings)\n",
    "    counts = int(string_counts)\n",
    "    \n",
    "    #for key in counts: \n",
    "    the_output = string_counts\n",
    "    #print(the_output)\n",
    "    printed_str = the_input[4:0:-1]+\" \"+the_input[0]+\" --> \"+the_output[4:0:-1]+\" \"+the_output[0]\n",
    "    if (the_input!=the_output): printed_str = printed_str + \" the output is different than the input\"\n",
    "    print(printed_str)"
   ]
  },
  {
   "cell_type": "markdown",
   "metadata": {},
   "source": [
    "<a id=\"task3\"></a>\n",
    "<h3>Task 3</h3>\n",
    "\n",
    "Repeat Task 2 for the operator $C_1C_0C_1C_0NOT$: $NOT$ operator is applied to the target qubit if the four control qubits are in state $ \\ket{1010} $."
   ]
  },
  {
   "cell_type": "markdown",
   "metadata": {},
   "source": [
    "<h3>Solution</h3>"
   ]
  },
  {
   "cell_type": "markdown",
   "metadata": {},
   "source": [
    "#### Desinging the operator"
   ]
  },
  {
   "cell_type": "code",
   "execution_count": 6,
   "metadata": {},
   "outputs": [
    {
     "name": "stdout",
     "output_type": "stream",
     "text": [
      "(<Figure size 500.616x576 with 1 Axes>, <AxesSubplot:>)\n"
     ]
    },
    {
     "data": {
      "image/png": "[encoded data removed]",
      "text/plain": [
       "<Figure size 500.616x576 with 1 Axes>"
      ]
     },
     "metadata": {},
     "output_type": "display_data"
    }
   ],
   "source": [
    "# Import all required objects and methods\n",
    "from projectq import MainEngine\n",
    "from projectq.ops import H,X,Measure,All, C, NOT, Barrier\n",
    "from projectq.backends import CircuitDrawerMatplotlib, Simulator\n",
    "from projectq.setups.default import get_engine_list\n",
    "\n",
    "# Initialize engine objects for simulation and drawings\n",
    "qdrawer = CircuitDrawerMatplotlib()\n",
    "qengine = MainEngine(backend = Simulator(), engine_list = [qdrawer]+get_engine_list())\n",
    "\n",
    "# Define number of qubits and allocate them\n",
    "qubit = qengine.allocate_qureg(5)\n",
    "qaux = qengine.allocate_qureg(2)\n",
    "\n",
    "# Apply X operations\n",
    "X | qubit[3]\n",
    "X | qubit[1]\n",
    "\n",
    "# Apply CCNOT operations\n",
    "C(NOT,2) | (qubit[4],qubit[3],qaux[1])\n",
    "C(NOT,2) | (qubit[2],qubit[1],qaux[0])\n",
    "C(NOT,2) | (qaux[1],qaux[0],qubit[0])\n",
    "C(NOT,2) | (qubit[4],qubit[3],qaux[1])\n",
    "C(NOT,2) | (qubit[2],qubit[1],qaux[0])\n",
    "\n",
    "# Apply X operations\n",
    "X | qubit[3]\n",
    "X | qubit[1]\n",
    "\n",
    "print(qdrawer.draw())"
   ]
  },
  {
   "cell_type": "markdown",
   "metadata": {},
   "source": [
    "#### Executing this circuit on every possible inputs and verify the correctness of the implementation experimentially."
   ]
  },
  {
   "cell_type": "code",
   "execution_count": 7,
   "metadata": {},
   "outputs": [
    {
     "name": "stdout",
     "output_type": "stream",
     "text": [
      "input --> output\n",
      "0000 0 --> 0000 0\n",
      "1000 0 --> 1000 0\n",
      "0100 0 --> 0100 0\n",
      "1100 0 --> 1100 0\n",
      "0010 0 --> 0010 0\n",
      "1010 0 --> 1010 1 the output is different than the input\n",
      "0110 0 --> 0110 0\n",
      "1110 0 --> 1110 0\n",
      "0001 0 --> 0001 0\n",
      "1001 0 --> 1001 0\n",
      "0101 0 --> 0101 0\n",
      "1101 0 --> 1101 0\n",
      "0011 0 --> 0011 0\n",
      "1011 0 --> 1011 0\n",
      "0111 0 --> 0111 0\n",
      "1111 0 --> 1111 0\n",
      "0000 1 --> 0000 1\n",
      "1000 1 --> 1000 1\n",
      "0100 1 --> 0100 1\n",
      "1100 1 --> 1100 1\n",
      "0010 1 --> 0010 1\n",
      "1010 1 --> 1010 0 the output is different than the input\n",
      "0110 1 --> 0110 1\n",
      "1110 1 --> 1110 1\n",
      "0001 1 --> 0001 1\n",
      "1001 1 --> 1001 1\n",
      "0101 1 --> 0101 1\n",
      "1101 1 --> 1101 1\n",
      "0011 1 --> 0011 1\n",
      "1011 1 --> 1011 1\n",
      "0111 1 --> 0111 1\n",
      "1111 1 --> 1111 1\n"
     ]
    }
   ],
   "source": [
    "# Import all required objects and methods\n",
    "from projectq import MainEngine\n",
    "from projectq.ops import H,X,Measure,All, C, NOT, Barrier\n",
    "from projectq.backends import CircuitDrawerMatplotlib, Simulator\n",
    "from projectq.setups.default import get_engine_list\n",
    "\n",
    "all_inputs=[]\n",
    "for q4 in ['0','1']: \n",
    "    for q3 in ['0','1']:\n",
    "        for q2 in ['0','1']:\n",
    "            for q1 in ['0','1']:\n",
    "                for q0 in ['0','1']:\n",
    "                    all_inputs.append(q4+q3+q2+q1+q0)\n",
    "                    \n",
    "print(\"input --> output\")\n",
    "for the_input in all_inputs:\n",
    "    # Initialize engine objects for simulation and drawings\n",
    "    qdrawer = CircuitDrawerMatplotlib()\n",
    "    qengine = MainEngine(backend = Simulator(), engine_list = [qdrawer]+get_engine_list())\n",
    "\n",
    "    # Define number of qubits and allocate them\n",
    "    qubit = qengine.allocate_qureg(5)\n",
    "    qaux = qengine.allocate_qureg(2)\n",
    "    \n",
    "    # Set the initial value of the circuit w.r.t. the input\n",
    "    if the_input[0] =='1': X | qubit[0]\n",
    "    if the_input[1] =='1': X | qubit[1]\n",
    "    if the_input[2] =='1': X | qubit[2]\n",
    "    if the_input[3] =='1': X | qubit[3]\n",
    "    if the_input[4] =='1': X | qubit[4]\n",
    "    \n",
    "    # Apply X operations\n",
    "    X | qubit[3]\n",
    "    X | qubit[1]\n",
    "\n",
    "    # Apply CCNOT operations\n",
    "    C(NOT,2) | (qubit[4],qubit[3],qaux[1])\n",
    "    C(NOT,2) | (qubit[2],qubit[1],qaux[0])\n",
    "    C(NOT,2) | (qaux[1],qaux[0],qubit[0])\n",
    "    C(NOT,2) | (qubit[4],qubit[3],qaux[1])\n",
    "    C(NOT,2) | (qubit[2],qubit[1],qaux[0])\n",
    "\n",
    "    # Apply X operations\n",
    "    X | qubit[3]\n",
    "    X | qubit[1]\n",
    "\n",
    "    # Flush qengine\n",
    "    qengine.flush()\n",
    "    \n",
    "    # Measure all qubits\n",
    "    All(Measure) | qubit\n",
    "    \n",
    "    # Get Measurement results\n",
    "    counts = [int(q) for q in qubit]\n",
    "    strings = [str(integer) for integer in counts]\n",
    "    string_counts = \"\".join(strings)\n",
    "    counts = int(string_counts)\n",
    "    \n",
    "    #for key in counts: \n",
    "    the_output = string_counts\n",
    "    #print(the_output)\n",
    "    printed_str = the_input[4:0:-1]+\" \"+the_input[0]+\" --> \"+the_output[4:0:-1]+\" \"+the_output[0]\n",
    "    if (the_input!=the_output): printed_str = printed_str + \" the output is different than the input\"\n",
    "    print(printed_str)"
   ]
  },
  {
   "cell_type": "markdown",
   "metadata": {},
   "source": [
    "<a id=\"task4\"></a>\n",
    "<h3>Task 4 (extra)</h3>\n",
    "\n",
    "Write a function taking a binary string \"$ b_1 b_2 b_3 b_4$ that repeats Task 2 for the operator $ C_{b_1}C_{b_2}C_{b_3}C_{b_4}NOT $ gate, where $ b_1,\\ldots,b_4$ are bits and $ NOT $ operator is applied to target qubit if the control qubits are in state $ \\ket{b_1b_2b_3b_4} $."
   ]
  },
  {
   "cell_type": "markdown",
   "metadata": {},
   "source": [
    "<h3>Solution</h3>"
   ]
  },
  {
   "cell_type": "code",
   "execution_count": 8,
   "metadata": {},
   "outputs": [],
   "source": [
    "# Import all required objects and methods\n",
    "from projectq import MainEngine\n",
    "from projectq.ops import H,X,Measure,All, C, NOT, Barrier\n",
    "from projectq.backends import CircuitDrawerMatplotlib, Simulator\n",
    "from projectq.setups.default import get_engine_list\n",
    "\n",
    "all_inputs=[]\n",
    "for q4 in ['0','1']: \n",
    "    for q3 in ['0','1']:\n",
    "        for q2 in ['0','1']:\n",
    "            for q1 in ['0','1']:\n",
    "                for q0 in ['0','1']:\n",
    "                    all_inputs.append(q4+q3+q2+q1+q0)\n",
    "\n",
    "def c4not(control_state='1111'):\n",
    "    print(\"Control state is\",control_state)\n",
    "    print(\"Drawing the circuit:\")\n",
    "    \n",
    "    # Initialize engine objects for simulation and drawings\n",
    "    qdrawer = CircuitDrawerMatplotlib()\n",
    "    qengine = MainEngine(backend = Simulator(), engine_list = [qdrawer]+get_engine_list())\n",
    "\n",
    "    # Define number of qubits and allocate them\n",
    "    qubit = qengine.allocate_qureg(5)\n",
    "    qaux = qengine.allocate_qureg(2)\n",
    "    \n",
    "    \n",
    "    # Apply X operation\n",
    "    for b in range(4):\n",
    "        if control_state[b] == '0':\n",
    "            X | qubit[4-b]\n",
    "    \n",
    "    # Apply CCNOT operations\n",
    "    C(NOT,2) | (qubit[4],qubit[3],qaux[1])\n",
    "    C(NOT,2) | (qubit[2],qubit[1],qaux[0])\n",
    "    C(NOT,2) | (qaux[1],qaux[0],qubit[0])\n",
    "    C(NOT,2) | (qubit[4],qubit[3],qaux[1])\n",
    "    C(NOT,2) | (qubit[2],qubit[1],qaux[0])\n",
    "    \n",
    "    # Apply X operation\n",
    "    for b in range(4):\n",
    "        if control_state[b] == '0':\n",
    "            X | qubit[4-b]\n",
    "            \n",
    "    print(qdrawer.draw())\n",
    "    \n",
    "    print(\"Control state is\",control_state)\n",
    "    print(\"input --> output\")\n",
    "    for the_input in all_inputs:\n",
    "        # Initialize engine objects for simulation and drawings\n",
    "        qdrawer = CircuitDrawerMatplotlib()\n",
    "        qengine = MainEngine(backend = Simulator(), engine_list = [qdrawer]+get_engine_list())\n",
    "\n",
    "        # Define number of qubits and allocate them\n",
    "        qubit = qengine.allocate_qureg(5)\n",
    "        qaux = qengine.allocate_qureg(2)\n",
    "        \n",
    "        # Set the initial value of the circuit w.r.t. the input\n",
    "        if the_input[0] =='1': X | qubit[0]\n",
    "        if the_input[1] =='1': X | qubit[1]\n",
    "        if the_input[2] =='1': X | qubit[2]\n",
    "        if the_input[3] =='1': X | qubit[3]\n",
    "        if the_input[4] =='1': X | qubit[4]\n",
    "\n",
    "        # Apply X operation\n",
    "        for b in range(4):\n",
    "            if control_state[b] == '0':\n",
    "                X | qubit[4-b]\n",
    "                \n",
    "        # Apply CCNOT operations\n",
    "        C(NOT,2) | (qubit[4],qubit[3],qaux[1])\n",
    "        C(NOT,2) | (qubit[2],qubit[1],qaux[0])\n",
    "        C(NOT,2) | (qaux[1],qaux[0],qubit[0])\n",
    "        C(NOT,2) | (qubit[4],qubit[3],qaux[1])\n",
    "        C(NOT,2) | (qubit[2],qubit[1],qaux[0])\n",
    "\n",
    "        # Apply X operation\n",
    "        for b in range(4):\n",
    "            if control_state[b] == '0':\n",
    "                X | qubit[4-b]\n",
    "                \n",
    "        # Flush Engine\n",
    "        qengine.flush()\n",
    "\n",
    "        # Measure all qubits\n",
    "        All(Measure) | qubit\n",
    "\n",
    "        # Get Measurement results\n",
    "        counts = [int(q) for q in qubit]\n",
    "        strings = [str(integer) for integer in counts]\n",
    "        string_counts = \"\".join(strings)\n",
    "        counts = int(string_counts)\n",
    "\n",
    "        #for key in counts: \n",
    "        the_output = string_counts\n",
    "        #print(the_output)\n",
    "        printed_str = the_input[4:0:-1]+\" \"+the_input[0]+\" --> \"+the_output[4:0:-1]+\" \"+the_output[0]\n",
    "        if (the_input!=the_output): printed_str = printed_str + \" the output is different than the input\"\n",
    "        print(printed_str)"
   ]
  },
  {
   "cell_type": "code",
   "execution_count": 9,
   "metadata": {},
   "outputs": [
    {
     "name": "stdout",
     "output_type": "stream",
     "text": [
      "Control state is 0011\n",
      "Drawing the circuit:\n",
      "(<Figure size 444.528x576 with 1 Axes>, <AxesSubplot:>)\n",
      "Control state is 0011\n",
      "input --> output\n",
      "0000 0 --> 0000 0\n",
      "1000 0 --> 1000 0\n",
      "0100 0 --> 0100 0\n",
      "1100 0 --> 1100 0\n",
      "0010 0 --> 0010 0\n",
      "1010 0 --> 1010 0\n",
      "0110 0 --> 0110 0\n",
      "1110 0 --> 1110 0\n",
      "0001 0 --> 0001 0\n",
      "1001 0 --> 1001 0\n",
      "0101 0 --> 0101 0\n",
      "1101 0 --> 1101 0\n",
      "0011 0 --> 0011 1 the output is different than the input\n",
      "1011 0 --> 1011 0\n",
      "0111 0 --> 0111 0\n",
      "1111 0 --> 1111 0\n",
      "0000 1 --> 0000 1\n",
      "1000 1 --> 1000 1\n",
      "0100 1 --> 0100 1\n",
      "1100 1 --> 1100 1\n",
      "0010 1 --> 0010 1\n",
      "1010 1 --> 1010 1\n",
      "0110 1 --> 0110 1\n",
      "1110 1 --> 1110 1\n",
      "0001 1 --> 0001 1\n",
      "1001 1 --> 1001 1\n",
      "0101 1 --> 0101 1\n",
      "1101 1 --> 1101 1\n",
      "0011 1 --> 0011 0 the output is different than the input\n",
      "1011 1 --> 1011 1\n",
      "0111 1 --> 0111 1\n",
      "1111 1 --> 1111 1\n"
     ]
    },
    {
     "data": {
      "image/png": "[encoded data removed]",
      "text/plain": [
       "<Figure size 444.528x576 with 1 Axes>"
      ]
     },
     "metadata": {},
     "output_type": "display_data"
    }
   ],
   "source": [
    "# try different values\n",
    "\n",
    "#c4not('1001')\n",
    "c4not('0011')\n",
    "#c4not('1101')\n",
    "#c4not('0000')"
   ]
  }
 ],
 "metadata": {
  "kernelspec": {
   "display_name": "Python 3",
   "language": "python",
   "name": "python3"
  },
  "language_info": {
   "codemirror_mode": {
    "name": "ipython",
    "version": 3
   },
   "file_extension": ".py",
   "mimetype": "text/x-python",
   "name": "python",
   "nbconvert_exporter": "python",
   "pygments_lexer": "ipython3",
   "version": "3.8.10"
  }
 },
 "nbformat": 4,
 "nbformat_minor": 4
}
