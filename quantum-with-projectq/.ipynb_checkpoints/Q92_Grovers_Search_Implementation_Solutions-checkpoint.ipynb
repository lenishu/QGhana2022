{
 "cells": [
  {
   "cell_type": "markdown",
   "metadata": {},
   "source": [
    "<a href=\"https://qworld.net\" target=\"_blank\" align=\"left\"><img src=\"../qworld/images/header.jpg\"  align=\"left\"></a>\n",
    "$ \\newcommand{\\bra}[1]{\\langle #1|} $\n",
    "$ \\newcommand{\\ket}[1]{|#1\\rangle} $\n",
    "$ \\newcommand{\\braket}[2]{\\langle #1|#2\\rangle} $\n",
    "$ \\newcommand{\\dot}[2]{ #1 \\cdot #2} $\n",
    "$ \\newcommand{\\biginner}[2]{\\left\\langle #1,#2\\right\\rangle} $\n",
    "$ \\newcommand{\\mymatrix}[2]{\\left( \\begin{array}{#1} #2\\end{array} \\right)} $\n",
    "$ \\newcommand{\\myvector}[1]{\\mymatrix{c}{#1}} $\n",
    "$ \\newcommand{\\myrvector}[1]{\\mymatrix{r}{#1}} $\n",
    "$ \\newcommand{\\mypar}[1]{\\left( #1 \\right)} $\n",
    "$ \\newcommand{\\mybigpar}[1]{ \\Big( #1 \\Big)} $\n",
    "$ \\newcommand{\\sqrttwo}{\\frac{1}{\\sqrt{2}}} $\n",
    "$ \\newcommand{\\dsqrttwo}{\\dfrac{1}{\\sqrt{2}}} $\n",
    "$ \\newcommand{\\onehalf}{\\frac{1}{2}} $\n",
    "$ \\newcommand{\\donehalf}{\\dfrac{1}{2}} $\n",
    "$ \\newcommand{\\hadamard}{ \\mymatrix{rr}{ \\sqrttwo & \\sqrttwo \\\\ \\sqrttwo & -\\sqrttwo }} $\n",
    "$ \\newcommand{\\vzero}{\\myvector{1\\\\0}} $\n",
    "$ \\newcommand{\\vone}{\\myvector{0\\\\1}} $\n",
    "$ \\newcommand{\\stateplus}{\\myvector{ \\sqrttwo \\\\  \\sqrttwo } } $\n",
    "$ \\newcommand{\\stateminus}{ \\myrvector{ \\sqrttwo \\\\ -\\sqrttwo } } $\n",
    "$ \\newcommand{\\myarray}[2]{ \\begin{array}{#1}#2\\end{array}} $\n",
    "$ \\newcommand{\\X}{ \\mymatrix{cc}{0 & 1 \\\\ 1 & 0}  } $\n",
    "$ \\newcommand{\\I}{ \\mymatrix{rr}{1 & 0 \\\\ 0 & 1}  } $\n",
    "$ \\newcommand{\\Z}{ \\mymatrix{rr}{1 & 0 \\\\ 0 & -1}  } $\n",
    "$ \\newcommand{\\Htwo}{ \\mymatrix{rrrr}{ \\frac{1}{2} & \\frac{1}{2} & \\frac{1}{2} & \\frac{1}{2} \\\\ \\frac{1}{2} & -\\frac{1}{2} & \\frac{1}{2} & -\\frac{1}{2} \\\\ \\frac{1}{2} & \\frac{1}{2} & -\\frac{1}{2} & -\\frac{1}{2} \\\\ \\frac{1}{2} & -\\frac{1}{2} & -\\frac{1}{2} & \\frac{1}{2} } } $\n",
    "$ \\newcommand{\\CNOT}{ \\mymatrix{cccc}{1 & 0 & 0 & 0 \\\\ 0 & 1 & 0 & 0 \\\\ 0 & 0 & 0 & 1 \\\\ 0 & 0 & 1 & 0} } $\n",
    "$ \\newcommand{\\norm}[1]{ \\left\\lVert #1 \\right\\rVert } $\n",
    "$ \\newcommand{\\pstate}[1]{ \\lceil \\mspace{-1mu} #1 \\mspace{-1.5mu} \\rfloor } $\n",
    "$ \\newcommand{\\greenbit}[1] {\\mathbf{{\\color{green}#1}}} $\n",
    "$ \\newcommand{\\bluebit}[1] {\\mathbf{{\\color{blue}#1}}} $\n",
    "$ \\newcommand{\\redbit}[1] {\\mathbf{{\\color{red}#1}}} $\n",
    "$ \\newcommand{\\brownbit}[1] {\\mathbf{{\\color{brown}#1}}} $\n",
    "$ \\newcommand{\\blackbit}[1] {\\mathbf{{\\color{black}#1}}} $"
   ]
  },
  {
   "cell_type": "markdown",
   "metadata": {},
   "source": [
    "<font style=\"font-size:28px;\" align=\"left\"><b><font color=\"blue\"> Solutions for </font>Grover's Search: Implementation </b></font>\n",
    "<br>\n",
    "_prepared by Maksim Dimitrijev and Özlem Salehi_\n",
    "<br><br>"
   ]
  },
  {
   "cell_type": "markdown",
   "metadata": {},
   "source": [
    "<a id=\"task2\"></a>\n",
    "\n",
    "<h3>Task 2</h3>\n",
    "\n",
    "\n",
    "Let $N=4$. Implement the query phase and check the unitary matrix for the query operator. Note that we are interested in the top-left $4 \\times 4$ part of the matrix since the remaining parts are due to the ancilla qubit.\n",
    "\n",
    "You are given a function $f$ and its corresponding quantum operator $U_f$. First run the following cell to load operator $U_f$. Then you can make queries to $f$ by applying the operator $U_f$ via the following command:\n",
    "\n",
    "<pre>Uf(qengine,qubit)."
   ]
  },
  {
   "cell_type": "code",
   "execution_count": 1,
   "metadata": {},
   "outputs": [],
   "source": [
    "%run quantum.py"
   ]
  },
  {
   "cell_type": "markdown",
   "metadata": {},
   "source": [
    "Now use phase kickback to flip the sign of the marked element:\n",
    "\n",
    "<ul>\n",
    "    <li>Set output qubit (qreg[2]) to $\\ket{-}$ by applying X and H.</li>\n",
    "    <li>Apply operator $U_f$\n",
    "    <li>Set output qubit (qreg[2]) back.</li>\n",
    "</ul>\n",
    "\n",
    "(Can you guess the marked element by looking at the unitary matrix?)"
   ]
  },
  {
   "cell_type": "markdown",
   "metadata": {},
   "source": [
    "<h3>Solution</h3>"
   ]
  },
  {
   "cell_type": "code",
   "execution_count": 13,
   "metadata": {},
   "outputs": [
    {
     "name": "stdout",
     "output_type": "stream",
     "text": [
      "(<Figure size 565.814x288 with 1 Axes>, <AxesSubplot:>)\n"
     ]
    },
    {
     "data": {
      "image/png": "[encoded data removed]",
      "text/plain": [
       "<Figure size 565.814x288 with 1 Axes>"
      ]
     },
     "metadata": {},
     "output_type": "display_data"
    }
   ],
   "source": [
    "# Import all required objects and methods\n",
    "from projectq import MainEngine\n",
    "from projectq.ops import H,X,Measure,All, C, NOT, Barrier\n",
    "from projectq.backends import CircuitDrawerMatplotlib, UnitarySimulator\n",
    "from projectq.setups.default import get_engine_list\n",
    "\n",
    "\n",
    "qdrawer = CircuitDrawerMatplotlib()\n",
    "qengine = MainEngine(backend = Simulator(), engine_list = [qdrawer]+get_engine_list())\n",
    "\n",
    "qubit = qengine.allocate_qureg(3)\n",
    "\n",
    "# Apply X gate\n",
    "X | qubit[2]\n",
    "H | qubit[2]\n",
    "\n",
    "Barrier | qubit\n",
    "\n",
    "# Call oracle\n",
    "Uf(qengine,qubit)\n",
    "\n",
    "Barrier | qubit\n",
    "\n",
    "# Put ancilla back into state |0>\n",
    "H | qubit[2]\n",
    "X | qubit[2]\n",
    "\n",
    "print(qdrawer.draw())\n",
    "\n",
    "All(Measure) | qubit # Just to remove warnings"
   ]
  },
  {
   "cell_type": "markdown",
   "metadata": {},
   "source": [
    "<a id=\"task3\"></a>\n",
    "<h3>Task 3</h3>\n",
    "\n",
    "\n",
    "Let $N=4$. Implement the inversion operator and check whether you obtain the following matrix:\n",
    "\n",
    "$\\mymatrix{cccc}{-0.5 & 0.5 & 0.5 & 0.5 \\\\ 0.5 & -0.5 & 0.5 & 0.5 \\\\ 0.5 & 0.5 & -0.5 & 0.5 \\\\ 0.5 & 0.5 & 0.5 & -0.5}$."
   ]
  },
  {
   "cell_type": "markdown",
   "metadata": {},
   "source": [
    "<h3>Solution</h3>"
   ]
  },
  {
   "cell_type": "code",
   "execution_count": 8,
   "metadata": {},
   "outputs": [],
   "source": [
    "def inversion(qengine,qubit):\n",
    "    \n",
    "    # Step 1\n",
    "    H | qubit[1]\n",
    "    H | qubit[0]\n",
    "    \n",
    "    # Step 2\n",
    "    X | qubit[1]\n",
    "    X | qubit[0]\n",
    "    \n",
    "    # Step 3\n",
    "    C(NOT,2) | (qubit[1],qubit[0],qubit[2])\n",
    "    \n",
    "    # Step 4\n",
    "    X | qubit[1]\n",
    "    X | qubit[0]\n",
    "    \n",
    "    # Step 5\n",
    "    X | qubit[2]\n",
    "    \n",
    "    # Step 6\n",
    "    H | qubit[1]\n",
    "    H | qubit[0]\n",
    "    "
   ]
  },
  {
   "cell_type": "markdown",
   "metadata": {},
   "source": [
    "Below you can check the matrix of your inversion operator and how the circuit looks like. We are interested in top-left $4 \\times 4$ part of the matrix, the remaining parts are because we used ancilla qubit."
   ]
  },
  {
   "cell_type": "code",
   "execution_count": 12,
   "metadata": {},
   "outputs": [
    {
     "name": "stdout",
     "output_type": "stream",
     "text": [
      "(<Figure size 785.39x288 with 1 Axes>, <AxesSubplot:>)\n"
     ]
    },
    {
     "data": {
      "image/png": "[encoded data removed]",
      "text/plain": [
       "<Figure size 785.39x288 with 1 Axes>"
      ]
     },
     "metadata": {},
     "output_type": "display_data"
    }
   ],
   "source": [
    "# Import all required objects and methods\n",
    "from projectq import MainEngine\n",
    "from projectq.ops import H,X,Measure,All, C, NOT, Barrier\n",
    "from projectq.backends import CircuitDrawerMatplotlib, Simulator\n",
    "from projectq.setups.default import get_engine_list\n",
    "\n",
    "qdrawer = CircuitDrawerMatplotlib()\n",
    "qengine = MainEngine(backend = Simulator(), engine_list = [qdrawer]+get_engine_list())\n",
    "\n",
    "qubit = qengine.allocate_qureg(3)\n",
    "\n",
    "# Set ancilla\n",
    "X | qubit[2]\n",
    "H | qubit[2]\n",
    "\n",
    "Barrier | qubit\n",
    "\n",
    "# Call inversion function\n",
    "inversion(qengine,qubit)\n",
    "\n",
    "Barrier | qubit\n",
    "\n",
    "# Put ancilla back into state |0>\n",
    "H | qubit[2]\n",
    "X | qubit[2]\n",
    "\n",
    "print(qdrawer.draw())\n",
    "\n",
    "All(Measure) | qubit # Just to remove warnings"
   ]
  },
  {
   "cell_type": "markdown",
   "metadata": {},
   "source": [
    "<a id=\"task4\"></a>\n",
    "\n",
    "<h3>Task 4: Testing Grover's search</h3>\n",
    "\n",
    "Now we are ready to test our operations and run Grover's search. Suppose that there are 4 elements in the list and try to find the marked element.\n",
    "\n",
    "You are given the operator $U_f$. First run the following cell to load it. You can access it via <pre>Uf(qengine,qubit).</pre>\n",
    "qubit[2] is the ancilla qubit and it is shared by the query and the inversion operators.\n",
    "    \n",
    "Which state do you observe the most? "
   ]
  },
  {
   "cell_type": "code",
   "execution_count": null,
   "metadata": {},
   "outputs": [],
   "source": [
    "%run quantum.py"
   ]
  },
  {
   "cell_type": "markdown",
   "metadata": {},
   "source": [
    "<h3>Solution</h3>"
   ]
  },
  {
   "cell_type": "code",
   "execution_count": 17,
   "metadata": {},
   "outputs": [
    {
     "name": "stdout",
     "output_type": "stream",
     "text": [
      "110 is observed 5104 times\n",
      "001 is observed 1230 times\n",
      "101 is observed 1276 times\n",
      "111 is observed 1243 times\n",
      "011 is observed 1147 times\n",
      "(<Figure size 1029.45x288 with 1 Axes>, <AxesSubplot:>)\n"
     ]
    },
    {
     "data": {
      "image/png": "[encoded data removed]",
      "text/plain": [
       "<Figure size 1029.45x288 with 1 Axes>"
      ]
     },
     "metadata": {},
     "output_type": "display_data"
    }
   ],
   "source": [
    "# Import all required objects and methods\n",
    "from projectq import MainEngine\n",
    "from projectq.ops import H,X,Measure,All, C, NOT, Barrier\n",
    "from projectq.backends import CircuitDrawerMatplotlib, Simulator\n",
    "from projectq.setups.default import get_engine_list\n",
    "measurement_dict = {}\n",
    "\n",
    "for i in range(10000):\n",
    "    qdrawer = CircuitDrawerMatplotlib()\n",
    "    qengine = MainEngine(backend = Simulator(), engine_list = [qdrawer]+get_engine_list())\n",
    "\n",
    "    qubit = qengine.allocate_qureg(3)\n",
    "\n",
    "    # Grover\n",
    "\n",
    "    # Initial step - equal superposition\n",
    "    All(H) | qubit\n",
    "\n",
    "    # Set Ancilla\n",
    "    X | qubit[2]\n",
    "    H | qubit[2]\n",
    "\n",
    "    Barrier | qubit\n",
    "\n",
    "    # Change the number of iterations\n",
    "    iterations = 1\n",
    "\n",
    "    # Grover's iterations\n",
    "    for i in range(iterations):\n",
    "        # Query\n",
    "        Uf(qengine,qubit)\n",
    "        Barrier | qubit\n",
    "\n",
    "        # Inversion\n",
    "        inversion(qengine,qubit)\n",
    "        Barrier | qubit\n",
    "\n",
    "    # Put ancilla back into state |0>\n",
    "    H | qubit[2]\n",
    "    X | qubit[2]\n",
    "    \n",
    "    All(Measure) | qubit\n",
    "    \n",
    "    measured_val = \"\".join([str(int(integer)) for integer in qubit])\n",
    "    \n",
    "    if measured_val in measurement_dict.keys():\n",
    "        measurement_dict[measured_val] += 1\n",
    "    else:\n",
    "        measurement_dict[measured_val] = 1\n",
    "    \n",
    "for key in measurement_dict:\n",
    "    print(key, \"is observed\", measurement_dict.get(key), \"times\")\n",
    "\n",
    "print(qdrawer.draw())"
   ]
  },
  {
   "cell_type": "markdown",
   "metadata": {},
   "source": [
    "<a id=\"task5\"></a>\n",
    "<h3>Task 5 (Optional, challenging)</h3>\n",
    "\n",
    "Implement the inversion operation for $n=3$ ($N=8$). This time you will need 5 qubits - 3 for the operation, 1 for ancilla, and one more qubit to implement not gate controlled by three qubits.\n",
    "\n",
    "In the implementation the ancilla qubit will be qubit 3, while qubits for control are 0, 1 and 2; qubit 4 is used for the multiple control operation. As a result you should obtain the following values in the top-left $8 \\times 8$ entries:\n",
    "\n",
    "$\\mymatrix{cccccccc}{-0.75 & 0.25 & 0.25 & 0.25 & 0.25 & 0.25 & 0.25 & 0.25 \\\\ 0.25 & -0.75 & 0.25 & 0.25 & 0.25 & 0.25 & 0.25 & 0.25 \\\\ 0.25 & 0.25 & -0.75 & 0.25 & 0.25 & 0.25 & 0.25 & 0.25 \\\\ 0.25 & 0.25 & 0.25 & -0.75 & 0.25 & 0.25 & 0.25 & 0.25 \\\\ 0.25 & 0.25 & 0.25 & 0.25 & -0.75 & 0.25 & 0.25 & 0.25 \\\\ 0.25 & 0.25 & 0.25 & 0.25 & 0.25 & -0.75 & 0.25 & 0.25 \\\\ 0.25 & 0.25 & 0.25 & 0.25 & 0.25 & 0.25 & -0.75 & 0.25 \\\\ 0.25 & 0.25 & 0.25 & 0.25 & 0.25 & 0.25 & 0.25 & -0.75}$."
   ]
  },
  {
   "cell_type": "markdown",
   "metadata": {},
   "source": [
    "<h3>Solution</h3>"
   ]
  },
  {
   "cell_type": "code",
   "execution_count": 19,
   "metadata": {},
   "outputs": [],
   "source": [
    "def big_inversion(qengine,qubit):\n",
    "    \n",
    "    for i in range(3):\n",
    "        H | qubit[i]\n",
    "        X | qubit[i]\n",
    "    \n",
    "    C(NOT,2) | (qubit[1],qubit[0],qubit[4])\n",
    "    C(NOT,2) | (qubit[2],qubit[4],qubit[3])\n",
    "    C(NOT,2) | (qubit[1],qubit[0],qubit[4])\n",
    "    \n",
    "    for i in range(3):\n",
    "        X | qubit[i]\n",
    "        H | qubit[i]\n",
    "        \n",
    "    X | qubit[3]"
   ]
  },
  {
   "cell_type": "markdown",
   "metadata": {},
   "source": [
    "Below you can check the matrix of your inversion operator. We are interested in the top-left $8 \\times 8$ part of the matrix, the remaining parts are because of additional qubits."
   ]
  },
  {
   "cell_type": "code",
   "execution_count": 26,
   "metadata": {},
   "outputs": [
    {
     "name": "stdout",
     "output_type": "stream",
     "text": [
      "010 is observed 658 times\n",
      "000 is observed 5525 times\n",
      "111 is observed 670 times\n",
      "100 is observed 648 times\n",
      "101 is observed 588 times\n",
      "110 is observed 622 times\n",
      "001 is observed 646 times\n",
      "011 is observed 643 times\n",
      "(<Figure size 833.366x432 with 1 Axes>, <AxesSubplot:>)\n"
     ]
    },
    {
     "data": {
      "image/png": "[encoded data removed]",
      "text/plain": [
       "<Figure size 833.366x432 with 1 Axes>"
      ]
     },
     "metadata": {},
     "output_type": "display_data"
    }
   ],
   "source": [
    "# Import all required objects and methods\n",
    "from projectq import MainEngine\n",
    "from projectq.ops import H,X,Measure,All, C, NOT, Barrier\n",
    "from projectq.backends import CircuitDrawerMatplotlib, Simulator\n",
    "from projectq.setups.default import get_engine_list\n",
    "measurement_dict = {}\n",
    "\n",
    "for i in range(10000):\n",
    "    qdrawer = CircuitDrawerMatplotlib()\n",
    "    qengine = MainEngine(backend = Simulator(), engine_list = [qdrawer]+get_engine_list())\n",
    "\n",
    "    qubit = qengine.allocate_qureg(5)\n",
    "    \n",
    "    # Set Ancilla\n",
    "    X | qubit[3]\n",
    "    H | qubit[3]\n",
    "\n",
    "    Barrier | qubit\n",
    "    \n",
    "    # Apply Inversion\n",
    "    big_inversion(qengine,qubit)\n",
    "    \n",
    "    # Put ancilla back into state |0>\n",
    "    H | qubit[3]\n",
    "    X | qubit[3]\n",
    "    \n",
    "    Barrier | qubit\n",
    "    \n",
    "    All(Measure) | qubit\n",
    "    \n",
    "    measured_val = \"\".join([str(int(integer)) for integer in qubit[:3]])\n",
    "    \n",
    "    if measured_val in measurement_dict.keys():\n",
    "        measurement_dict[measured_val] += 1\n",
    "    else:\n",
    "        measurement_dict[measured_val] = 1\n",
    "    \n",
    "for key in measurement_dict:\n",
    "    print(key, \"is observed\", measurement_dict.get(key), \"times\")\n",
    "\n",
    "print(qdrawer.draw())"
   ]
  },
  {
   "cell_type": "markdown",
   "metadata": {},
   "source": [
    "<a id=\"task6\"></a>\n",
    "<h3>Task 6: Testing Grover's search for 8 elements (Optional, challenging)</h3>\n",
    "\n",
    "Now we will test Grover's search on 8 elements.\n",
    "\n",
    "You are given the operator $U_{f_8}$. First run the following cell to load it. You can access it via:\n",
    "\n",
    "<pre>Uf_8(circuit,qreg)</pre>\n",
    "    \n",
    "Which state do you observe the most?"
   ]
  },
  {
   "cell_type": "code",
   "execution_count": null,
   "metadata": {},
   "outputs": [],
   "source": [
    "%run quantum.py"
   ]
  },
  {
   "cell_type": "markdown",
   "metadata": {},
   "source": [
    "<h3>Solution</h3>"
   ]
  },
  {
   "cell_type": "code",
   "execution_count": 27,
   "metadata": {},
   "outputs": [],
   "source": [
    "def big_inversion(qengine,qubit):\n",
    "    \n",
    "    for i in range(3):\n",
    "        H | qubit[i]\n",
    "        X | qubit[i]\n",
    "    \n",
    "    C(NOT,2) | (qubit[1],qubit[0],qubit[4])\n",
    "    C(NOT,2) | (qubit[2],qubit[4],qubit[3])\n",
    "    C(NOT,2) | (qubit[1],qubit[0],qubit[4])\n",
    "    \n",
    "    for i in range(3):\n",
    "        X | qubit[i]\n",
    "        H | qubit[i]\n",
    "        \n",
    "    X | qubit[3]"
   ]
  },
  {
   "cell_type": "code",
   "execution_count": 28,
   "metadata": {},
   "outputs": [
    {
     "name": "stdout",
     "output_type": "stream",
     "text": [
      "010 is observed 76 times\n",
      "110 is observed 9457 times\n",
      "011 is observed 76 times\n",
      "001 is observed 74 times\n",
      "000 is observed 79 times\n",
      "100 is observed 87 times\n",
      "111 is observed 73 times\n",
      "101 is observed 78 times\n",
      "(<Figure size 2253.79x432 with 1 Axes>, <AxesSubplot:>)\n"
     ]
    },
    {
     "data": {
      "image/png": "[encoded data removed]",
      "text/plain": [
       "<Figure size 2253.79x432 with 1 Axes>"
      ]
     },
     "metadata": {},
     "output_type": "display_data"
    }
   ],
   "source": [
    "# Import all required objects and methods\n",
    "from projectq import MainEngine\n",
    "from projectq.ops import H,X,Measure,All, C, NOT, Barrier\n",
    "from projectq.backends import CircuitDrawerMatplotlib, Simulator\n",
    "from projectq.setups.default import get_engine_list\n",
    "measurement_dict = {}\n",
    "\n",
    "for i in range(10000):\n",
    "    qdrawer = CircuitDrawerMatplotlib()\n",
    "    qengine = MainEngine(backend = Simulator(), engine_list = [qdrawer]+get_engine_list())\n",
    "\n",
    "    qubit = qengine.allocate_qureg(5)\n",
    "    \n",
    "    # Set Ancilla\n",
    "    X | qubit[3]\n",
    "    H | qubit[3]\n",
    "    \n",
    "    for i in range(3):\n",
    "        H | qubit[i]\n",
    "    \n",
    "    Barrier | qubit\n",
    "    \n",
    "    #Try 1,2,6,12 8iterations of Grover\n",
    "    for i in range(2):\n",
    "        Uf_8(qengine,qubit)\n",
    "        Barrier | qubit\n",
    "        big_inversion(qengine,qubit)\n",
    "        Barrier | qubit\n",
    "    \n",
    "    # Put ancilla back into state |0>\n",
    "    H | qubit[3]\n",
    "    X | qubit[3]\n",
    "    \n",
    "    Barrier | qubit\n",
    "    \n",
    "    All(Measure) | qubit\n",
    "    \n",
    "    measured_val = \"\".join([str(int(integer)) for integer in qubit[:3]])\n",
    "    \n",
    "    if measured_val in measurement_dict.keys():\n",
    "        measurement_dict[measured_val] += 1\n",
    "    else:\n",
    "        measurement_dict[measured_val] = 1\n",
    "    \n",
    "for key in measurement_dict:\n",
    "    print(key, \"is observed\", measurement_dict.get(key), \"times\")\n",
    "\n",
    "print(qdrawer.draw())"
   ]
  },
  {
   "cell_type": "markdown",
   "metadata": {},
   "source": [
    "<a id=\"task8\"></a>\n",
    "\n",
    "<h3>Task 8</h3>\n",
    "\n",
    "Implement an oracle function which marks the element 00. Run Grover's search with the oracle you have implemented. "
   ]
  },
  {
   "cell_type": "markdown",
   "metadata": {},
   "source": [
    "<h3>Solution</h3>"
   ]
  },
  {
   "cell_type": "code",
   "execution_count": 36,
   "metadata": {},
   "outputs": [],
   "source": [
    "def oracle_00(qengine,qubit):\n",
    "    X | qubit[0]\n",
    "    X | qubit[1]\n",
    "    C(NOT,2) | (qubit[0],qubit[1],qubit[2])\n",
    "    X | qubit[0]\n",
    "    X | qubit[1]"
   ]
  },
  {
   "cell_type": "code",
   "execution_count": 37,
   "metadata": {},
   "outputs": [
    {
     "name": "stdout",
     "output_type": "stream",
     "text": [
      "00 is observed 100 times\n",
      "(<Figure size 1179x288 with 1 Axes>, <AxesSubplot:>)\n"
     ]
    },
    {
     "data": {
      "image/png": "[encoded data removed]",
      "text/plain": [
       "<Figure size 1179x288 with 1 Axes>"
      ]
     },
     "metadata": {},
     "output_type": "display_data"
    }
   ],
   "source": [
    "# Import all required objects and methods\n",
    "from projectq import MainEngine\n",
    "from projectq.ops import H,X,Measure,All, C, NOT, Barrier\n",
    "from projectq.backends import CircuitDrawerMatplotlib, Simulator\n",
    "from projectq.setups.default import get_engine_list\n",
    "measurement_dict = {}\n",
    "\n",
    "for i in range(100):\n",
    "    qdrawer = CircuitDrawerMatplotlib()\n",
    "    qengine = MainEngine(backend = Simulator(), engine_list = [qdrawer]+get_engine_list())\n",
    "\n",
    "    qubit = qengine.allocate_qureg(3)\n",
    "    \n",
    "    for i in range(2):\n",
    "        H | qubit[i]\n",
    "        \n",
    "    # Set Ancilla\n",
    "    X | qubit[2]\n",
    "    H | qubit[2]\n",
    "\n",
    "    Barrier | qubit\n",
    "    \n",
    "    #Try 1,2,6,12 8iterations of Grover\n",
    "    iterations=1\n",
    "    \n",
    "    for i in range(iterations):\n",
    "        oracle_00(qengine,qubit)\n",
    "        Barrier | qubit\n",
    "        inversion(qengine,qubit)\n",
    "        Barrier | qubit\n",
    "    \n",
    "    # Put ancilla back into state |0>\n",
    "    H | qubit[2]\n",
    "    X | qubit[2]\n",
    "    \n",
    "    Barrier | qubit\n",
    "    \n",
    "    All(Measure) | qubit\n",
    "    \n",
    "    measured_val = \"\".join([str(int(integer)) for integer in qubit[:2]])\n",
    "    \n",
    "    if measured_val in measurement_dict.keys():\n",
    "        measurement_dict[measured_val] += 1\n",
    "    else:\n",
    "        measurement_dict[measured_val] = 1\n",
    "    \n",
    "for key in measurement_dict:\n",
    "    print(key, \"is observed\", measurement_dict.get(key), \"times\")\n",
    "\n",
    "print(qdrawer.draw())"
   ]
  }
 ],
 "metadata": {
  "kernelspec": {
   "display_name": "Python 3",
   "language": "python",
   "name": "python3"
  },
  "language_info": {
   "codemirror_mode": {
    "name": "ipython",
    "version": 3
   },
   "file_extension": ".py",
   "mimetype": "text/x-python",
   "name": "python",
   "nbconvert_exporter": "python",
   "pygments_lexer": "ipython3",
   "version": "3.8.10"
  }
 },
 "nbformat": 4,
 "nbformat_minor": 4
}
