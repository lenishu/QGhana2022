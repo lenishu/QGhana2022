{
 "cells": [
  {
   "cell_type": "markdown",
   "metadata": {},
   "source": [
    "<a href=\"https://qworld.net\" target=\"_blank\" align=\"left\"><img src=\"../qworld/images/header.jpg\"  align=\"left\"></a>\n",
    "$ \\newcommand{\\bra}[1]{\\langle #1|} $\n",
    "$ \\newcommand{\\ket}[1]{|#1\\rangle} $\n",
    "$ \\newcommand{\\braket}[2]{\\langle #1|#2\\rangle} $\n",
    "$ \\newcommand{\\dot}[2]{ #1 \\cdot #2} $\n",
    "$ \\newcommand{\\biginner}[2]{\\left\\langle #1,#2\\right\\rangle} $\n",
    "$ \\newcommand{\\mymatrix}[2]{\\left( \\begin{array}{#1} #2\\end{array} \\right)} $\n",
    "$ \\newcommand{\\myvector}[1]{\\mymatrix{c}{#1}} $\n",
    "$ \\newcommand{\\myrvector}[1]{\\mymatrix{r}{#1}} $\n",
    "$ \\newcommand{\\mypar}[1]{\\left( #1 \\right)} $\n",
    "$ \\newcommand{\\mybigpar}[1]{ \\Big( #1 \\Big)} $\n",
    "$ \\newcommand{\\sqrttwo}{\\frac{1}{\\sqrt{2}}} $\n",
    "$ \\newcommand{\\dsqrttwo}{\\dfrac{1}{\\sqrt{2}}} $\n",
    "$ \\newcommand{\\onehalf}{\\frac{1}{2}} $\n",
    "$ \\newcommand{\\donehalf}{\\dfrac{1}{2}} $\n",
    "$ \\newcommand{\\hadamard}{ \\mymatrix{rr}{ \\sqrttwo & \\sqrttwo \\\\ \\sqrttwo & -\\sqrttwo }} $\n",
    "$ \\newcommand{\\vzero}{\\myvector{1\\\\0}} $\n",
    "$ \\newcommand{\\vone}{\\myvector{0\\\\1}} $\n",
    "$ \\newcommand{\\stateplus}{\\myvector{ \\sqrttwo \\\\  \\sqrttwo } } $\n",
    "$ \\newcommand{\\stateminus}{ \\myrvector{ \\sqrttwo \\\\ -\\sqrttwo } } $\n",
    "$ \\newcommand{\\myarray}[2]{ \\begin{array}{#1}#2\\end{array}} $\n",
    "$ \\newcommand{\\X}{ \\mymatrix{cc}{0 & 1 \\\\ 1 & 0}  } $\n",
    "$ \\newcommand{\\I}{ \\mymatrix{rr}{1 & 0 \\\\ 0 & 1}  } $\n",
    "$ \\newcommand{\\Z}{ \\mymatrix{rr}{1 & 0 \\\\ 0 & -1}  } $\n",
    "$ \\newcommand{\\Htwo}{ \\mymatrix{rrrr}{ \\frac{1}{2} & \\frac{1}{2} & \\frac{1}{2} & \\frac{1}{2} \\\\ \\frac{1}{2} & -\\frac{1}{2} & \\frac{1}{2} & -\\frac{1}{2} \\\\ \\frac{1}{2} & \\frac{1}{2} & -\\frac{1}{2} & -\\frac{1}{2} \\\\ \\frac{1}{2} & -\\frac{1}{2} & -\\frac{1}{2} & \\frac{1}{2} } } $\n",
    "$ \\newcommand{\\CNOT}{ \\mymatrix{cccc}{1 & 0 & 0 & 0 \\\\ 0 & 1 & 0 & 0 \\\\ 0 & 0 & 0 & 1 \\\\ 0 & 0 & 1 & 0} } $\n",
    "$ \\newcommand{\\norm}[1]{ \\left\\lVert #1 \\right\\rVert } $\n",
    "$ \\newcommand{\\pstate}[1]{ \\lceil \\mspace{-1mu} #1 \\mspace{-1.5mu} \\rfloor } $\n",
    "$ \\newcommand{\\greenbit}[1] {\\mathbf{{\\color{green}#1}}} $\n",
    "$ \\newcommand{\\bluebit}[1] {\\mathbf{{\\color{blue}#1}}} $\n",
    "$ \\newcommand{\\redbit}[1] {\\mathbf{{\\color{red}#1}}} $\n",
    "$ \\newcommand{\\brownbit}[1] {\\mathbf{{\\color{brown}#1}}} $\n",
    "$ \\newcommand{\\blackbit}[1] {\\mathbf{{\\color{black}#1}}} $"
   ]
  },
  {
   "cell_type": "markdown",
   "metadata": {},
   "source": [
    "<font style=\"font-size:28px;\" align=\"left\"><b> Multiple Control Constructions with ProjectQ </b></font>\n",
    "<br>\n",
    "_prepared by Maksim Dimitrijev and Abuzer Yakaryilmaz_\n"
   ]
  },
  {
   "cell_type": "markdown",
   "metadata": {},
   "source": [
    "Remember that when appying CNOT gate, NOT operator is applied to the target qubit if the control qubit is in state $\\ket{1}$:\n",
    "\n",
    "$$ CNOT= \\mymatrix{cc|cc}{\\blackbit{1} & 0 & 0 & 0 \\\\ 0 & \\blackbit{1} & 0 & 0 \\\\ \\hline 0 & 0 & 0 & \\bluebit{1} \\\\  0 & 0 & \\bluebit{1} & 0} . $$\n",
    "\n",
    "How can we obtain the following operator, in which the NOT operator is applied to the target qubit if the control qubit is in state $ \\ket{0} $?\n",
    "\n",
    "$$ C_0NOT = \\mymatrix{cc|cc}{0 & \\bluebit{1} & 0 & 0 \\\\ \\bluebit{1} & 0 & 0 & 0 \\\\ \\hline 0 & 0 & \\blackbit{1} & 0 \\\\  0 & 0 & 0 & \\blackbit{1}} . $$\n",
    "\n",
    "As also mentioned in the notebook [Operators on Multiple Bits](../classical-systems/CS40_Operators_on_Multiple_Bits.ipynb), we can apply a $ NOT $ operator on the control bit before applying $ CNOT $ operator so that the $ NOT $ operator is applied to the target qubit when the control qubit has been in state $ \\ket{0} $. To recover the previous value of the control qubit, we apply the $ NOT $ operator once more after the $ CNOT $ operator. In short:\n",
    "<ul>\n",
    "    <li>apply $ NOT $ operator to the control qubit,</li>\n",
    "    <li>apply $ CNOT $ operator, and,</li>\n",
    "    <li>apply $ NOT $ operator to the control qubit.</li>\n",
    "</ul>\n",
    "\n",
    "We can implement this idea in ProjectQ as follows."
   ]
  },
  {
   "cell_type": "code",
   "execution_count": 4,
   "metadata": {},
   "outputs": [
    {
     "name": "stdout",
     "output_type": "stream",
     "text": [
      "(<Figure size 319.464x216 with 1 Axes>, <AxesSubplot:>)\n",
      "CNOT(0) = \n",
      "0.0  1.0  0.0  0.0  \n",
      "1.0  0.0  0.0  0.0  \n",
      "0.0  0.0  1.0  0.0  \n",
      "0.0  0.0  0.0  1.0  \n"
     ]
    },
    {
     "data": {
      "image/png": "[encoded data removed]",
      "text/plain": [
       "<Figure size 319.464x216 with 1 Axes>"
      ]
     },
     "metadata": {},
     "output_type": "display_data"
    }
   ],
   "source": [
    "# Import all required objects and methods\n",
    "from projectq import MainEngine\n",
    "from projectq.ops import H,X,Measure,All, C, NOT, Barrier\n",
    "from projectq.backends import CircuitDrawerMatplotlib, UnitarySimulator\n",
    "from projectq.setups.default import get_engine_list\n",
    "\n",
    "# Initialize engine objects for simulation and drawings\n",
    "qdrawer = CircuitDrawerMatplotlib()\n",
    "qengine = MainEngine(backend = UnitarySimulator(), engine_list = [qdrawer]+get_engine_list())\n",
    "\n",
    "# Define number of qubits and allocate them\n",
    "qubit = qengine.allocate_qureg(2)\n",
    "\n",
    "# Apply X gate to Qubit 1\n",
    "X | qubit[1]\n",
    "\n",
    "# Aplly CNOT with qubit[1] as control and qubit[0] as target\n",
    "C(NOT) | (qubit[1], qubit[0])\n",
    "\n",
    "# Apply X gate to Qubit 1\n",
    "X | qubit[1]\n",
    "\n",
    "# Flush engine\n",
    "qengine.flush()\n",
    "\n",
    "# Measure Qubits\n",
    "All(Measure)| qubit\n",
    "\n",
    "# Draw Circuit and print measurements\n",
    "print(qdrawer.draw())\n",
    "\n",
    "circuit_unitary = qengine.backend.unitary\n",
    "\n",
    "print(\"CNOT(0) = \")\n",
    "for row in circuit_unitary:\n",
    "    column_val = \"\"\n",
    "    for value in row:\n",
    "        column_val = column_val + str(round(value.real,10)) + \"  \"\n",
    "    print(column_val)"
   ]
  },
  {
   "cell_type": "markdown",
   "metadata": {},
   "source": [
    "By using this trick, more complex conditional operators can be implemented."
   ]
  },
  {
   "cell_type": "markdown",
   "metadata": {},
   "source": [
    "<h3>CCNOT</h3>\n",
    "\n",
    "Now we introduce $ CCNOT $ gate: **controlled-controlled-not operator** ([Toffoli gate](https://en.wikipedia.org/wiki/Toffoli_gate)), which is controlled by two qubits. The implementation of $CCNOT$ gate in ProjectQ is as follows:\n",
    "\n",
    "    C(X, 2) | (ctrl1, ctrl2, tgt) \n",
    "\n",
    "That is, $ NOT $ operator is applied to the target qubit when both control qubits are in state $\\ket{1}$. Its matrix representation is as follows:\n",
    "\n",
    "$$ CCNOT = \\mymatrix{cc|cc|cc|cc}{\\blackbit{1} & 0 & 0 & 0 & 0 & 0 & 0 & 0 \\\\ 0 & \\blackbit{1} & 0 & 0 & 0 & 0 & 0 & 0 \\\\ \\hline 0 & 0 & \\blackbit{1} & 0 & 0 & 0 & 0 & 0 \\\\ 0 & 0 & 0 & \\blackbit{1} & 0 & 0 & 0 & 0 \\\\ \\hline 0 & 0 & 0 & 0 & \\blackbit{1} & 0 & 0 & 0 \\\\ 0 & 0 & 0 & 0 & 0 & \\blackbit{1} & 0 & 0 \\\\ \\hline 0 & 0 & 0 & 0 & 0 & 0 & 0 & \\bluebit{1} \\\\ 0 & 0 & 0 & 0 & 0 & 0 & \\bluebit{1} & 0}. $$"
   ]
  },
  {
   "cell_type": "markdown",
   "metadata": {},
   "source": [
    "<h3>Task 1</h3>\n",
    "\n",
    "Implement each of the following operators in ProjectQ by using three qubits. Verify your implementation by using \"UnitarySimulator\" backend. <br><br>\n",
    "\n",
    "<font size=\"-2\">\n",
    "$$\n",
    "    C_0C_0NOT = \\mymatrix{cc|cc|cc|cc}{0 & \\bluebit{1} & 0 & 0 & 0 & 0 & 0 & 0 \\\\ \\bluebit{1} & 0 & 0 & 0 & 0 & 0 & 0 & 0 \\\\ \\hline 0 & 0 & \\blackbit{1} & 0 & 0 & 0 & 0 & 0 \\\\ 0 & 0 & 0 & \\blackbit{1} & 0 & 0 & 0 & 0 \\\\ \\hline 0 & 0 & 0 & 0 & \\blackbit{1} & 0 & 0 & 0 \\\\ 0 & 0 & 0 & 0 & 0 & \\blackbit{1} & 0 & 0 \\\\ \\hline 0 & 0 & 0 & 0 & 0 & 0 & \\blackbit{1} & 0 \\\\ 0 & 0 & 0 & 0 & 0 & 0 & 0 & \\blackbit{1}}, ~~\n",
    "    C_0C_1NOT = \\mymatrix{cc|cc|cc|cc}{ \\blackbit{1} & 0 & 0 & 0 & 0 & 0 & 0 & 0 \\\\ 0 & \\blackbit{1} & 0 & 0 & 0 & 0 & 0 & 0 \\\\ \\hline 0 & 0 & 0 & \\bluebit{1}  & 0 & 0 & 0 & 0 \\\\ 0 & 0 & \\bluebit{1}  & 0 & 0 & 0 & 0 & 0 \\\\ \\hline 0 & 0 & 0 & 0 & \\blackbit{1} & 0 & 0 & 0 \\\\ 0 & 0 & 0 & 0 & 0 & \\blackbit{1} & 0 & 0 \\\\ \\hline 0 & 0 & 0 & 0 & 0 & 0 & \\blackbit{1} & 0 \\\\ 0 & 0 & 0 & 0 & 0 & 0 & 0 & \\blackbit{1}}, ~~ \\mbox{and} ~~\n",
    "    C_1C_0NOT = \\mymatrix{cc|cc|cc|cc}{\\blackbit{1} & 0 & 0 & 0 & 0 & 0 & 0 & 0 \\\\ 0 & \\blackbit{1} & 0 & 0 & 0 & 0 & 0 & 0 \\\\ \\hline 0 & 0 & \\blackbit{1} & 0 & 0 & 0 & 0 & 0 \\\\ 0 & 0 & 0 & \\blackbit{1} & 0 & 0 & 0 & 0 \\\\ \\hline 0 & 0 & 0 & 0 & 0 & \\bluebit{1} & 0 & 0 \\\\ 0 & 0 & 0 & 0 & \\bluebit{1} & 0 & 0 & 0 \\\\ \\hline 0 & 0 & 0 & 0 & 0 & 0 & \\blackbit{1} & 0 \\\\ 0 & 0 & 0 & 0 & 0 & 0 & 0 & \\blackbit{1}}.   \n",
    "$$\n",
    "    </font>"
   ]
  },
  {
   "cell_type": "code",
   "execution_count": null,
   "metadata": {},
   "outputs": [],
   "source": [
    "# Import necessary objects and methods for creating circuits \n",
    "from projectq import MainEngine\n",
    "from projectq.ops import H,X,Measure,All, C, NOT\n",
    "from projectq.backends import CircuitDrawerMatplotlib, UnitarySimulator\n",
    "from projectq.setups.default import get_engine_list\n",
    "\n",
    "######################\n",
    "# Enter your code here\n",
    "######################\n"
   ]
  },
  {
   "cell_type": "markdown",
   "metadata": {},
   "source": [
    "<a href=\"Q80_Multiple_Control_Constructions_Solutions_ProjectQ.ipynb#task1\">click for our solution</a>"
   ]
  },
  {
   "cell_type": "markdown",
   "metadata": {},
   "source": [
    "<h3>More controls</h3>\n",
    "\n",
    "Here we present basic methods on how to implement $ NOT $ gates controlled by more than two qubits by using $CNOT$, $ CCNOT $, and some ancilla (auxiliary) qubits. \n",
    "\n",
    "*(Note that ProjectQ has a method called \"ControlledGate\" to apply such gatess. You can control any gate in ProjectQ conviniently using the ControlledGate operation.)*"
   ]
  },
  {
   "cell_type": "markdown",
   "metadata": {},
   "source": [
    "#### Implementation of CCCNOT gate\n",
    "\n",
    "We give the implementation of $ CCCNOT $ gate: $NOT$ operator is applied to target qubit when the control qubits are in state $ \\ket{111} $. This gate requires 4 qubits. We also use an auxiliary qubit. \n",
    "\n",
    "Our qubits are $ q_{aux}, q_3, q_2, q_1, q_0 $, and the auxiliary qubit $q_{aux}$ should be in state $\\ket{0}$ after each use. The implementation of the $ CCCNOT $ gate in ProjectQ is given below. The short explanations are given as comments."
   ]
  },
  {
   "cell_type": "code",
   "execution_count": null,
   "metadata": {},
   "outputs": [],
   "source": [
    "# Import all required objects and methods\n",
    "from projectq import MainEngine\n",
    "from projectq.ops import H,X,Measure,All, C, NOT, Barrier\n",
    "from projectq.backends import CircuitDrawerMatplotlib, Simulator\n",
    "from projectq.setups.default import get_engine_list\n",
    "\n",
    "# Initialize engine objects for simulation and drawings\n",
    "qdrawer = CircuitDrawerMatplotlib()\n",
    "qengine = MainEngine(backend = Simulator(), engine_list = [qdrawer]+get_engine_list())\n",
    "\n",
    "# Define number of qubits and allocate them\n",
    "qubit = qengine.allocate_qureg(4)\n",
    "qaux = qengine.allocate_qureg(1)\n",
    "\n",
    "# Step 1: set qaux to |1> if both q3 and q2 are in |1>\n",
    "C(NOT,2) | (qubit[3], qubit[2], qaux[0])\n",
    "\n",
    "# Step 2: apply NOT gate to q0 if both qaux and q1 are in |1>\n",
    "C(NOT,2) | (qaux[0], qubit[1], qubit[0])\n",
    "\n",
    "# Step 3: set qaux to |0> if both q3 and q2 are in |1> by reversing the affect of step 1\n",
    "C(NOT,2) | (qubit[3], qubit[2], qaux[0])\n",
    "\n",
    "# Draw Circuit\n",
    "print(qdrawer.draw())"
   ]
  },
  {
   "cell_type": "markdown",
   "metadata": {},
   "source": [
    "Now, we execute this circuit on every possible inputs and verify the correctness of the implementation experimentally."
   ]
  },
  {
   "cell_type": "code",
   "execution_count": null,
   "metadata": {},
   "outputs": [],
   "source": [
    "# Import all required objects and methods\n",
    "from projectq import MainEngine\n",
    "from projectq.ops import H,X,Measure,All, C, NOT, Barrier\n",
    "from projectq.backends import CircuitDrawerMatplotlib, Simulator\n",
    "from projectq.setups.default import get_engine_list\n",
    "\n",
    "# Set all Inputs\n",
    "all_inputs=[]\n",
    "for q3 in ['0','1']:\n",
    "    for q2 in ['0','1']:\n",
    "        for q1 in ['0','1']:\n",
    "            for q0 in ['0','1']:\n",
    "                all_inputs.append(q3+q2+q1+q0)\n",
    "# print(all_inputs)     \n",
    "\n",
    "print(\"input --> output\")\n",
    "for the_input in all_inputs:\n",
    "    \n",
    "    # Initialize engine objects for simulation and drawings\n",
    "    qdrawer = CircuitDrawerMatplotlib()\n",
    "    qengine = MainEngine(backend = Simulator(), engine_list = [qdrawer]+get_engine_list())\n",
    "\n",
    "    # Define number of qubits and allocate them\n",
    "    qubit = qengine.allocate_qureg(4)\n",
    "    qaux = qengine.allocate_qureg(1)\n",
    "    \n",
    "    # Set the initial value of the circuit w.r.t. the input\n",
    "    if the_input[0] =='1': X | qubit[0]\n",
    "    if the_input[1] =='1': X | qubit[1]\n",
    "    if the_input[2] =='1': X | qubit[2]\n",
    "    if the_input[3] =='1': X | qubit[3]\n",
    "    \n",
    "    # Step 1: set qaux to |1> if both q3 and q2 are in |1>\n",
    "    C(NOT,2) | (qubit[3], qubit[2], qaux[0])\n",
    "    # Step 2: apply NOT gate to q0 if both qaux and q1 are in |1>\n",
    "    C(NOT,2) | (qaux[0], qubit[1], qubit[0])\n",
    "    # Step 3: set qaux to |0> if both q3 and q2 are in |1> by reversing the affect of step 1\n",
    "    C(NOT,2) | (qubit[3], qubit[2], qaux[0])\n",
    "\n",
    "    # Draw Circuit\n",
    "    # print(qdrawer.draw())\n",
    "    \n",
    "    # Flush Engine\n",
    "    qengine.flush()\n",
    "    \n",
    "    # Measure all qubits\n",
    "    All(Measure) | qubit\n",
    "    \n",
    "    # Get Measurement results\n",
    "    counts = [int(q) for q in qubit]\n",
    "    strings = [str(integer) for integer in counts]\n",
    "    string_counts = \"\".join(strings)\n",
    "    counts = int(string_counts)\n",
    "    \n",
    "    #for key in counts: \n",
    "    the_output = string_counts\n",
    "    #print(the_output)\n",
    "    printed_str = the_input[3:0:-1]+\" \"+the_input[0]+\" --> \"+the_output[3:0:-1]+\" \"+the_output[0]\n",
    "    if (the_input!=the_output): printed_str = printed_str + \" the output is different than the input\"\n",
    "    print(printed_str)\n"
   ]
  },
  {
   "cell_type": "markdown",
   "metadata": {},
   "source": [
    "<h3>Task 2</h3>\n",
    "\n",
    "Provide an implementation of the NOT operator controlled by 4 qubits ($CCCCNOT$) in ProjectQ. Verify its correctness by executing your solution on all possible inputs. (See the above example)\n",
    "\n",
    "*You may use two auxiliary qubits.*"
   ]
  },
  {
   "cell_type": "code",
   "execution_count": null,
   "metadata": {},
   "outputs": [],
   "source": [
    "# Import necessary objects and methods for creating circuits \n",
    "from projectq import MainEngine\n",
    "from projectq.ops import H,X,Measure,All, C, NOT\n",
    "from projectq.backends import CircuitDrawerMatplotlib, Simulator\n",
    "from projectq.setups.default import get_engine_list\n",
    "\n",
    "######################\n",
    "# Enter your code here\n",
    "######################\n",
    "\n"
   ]
  },
  {
   "cell_type": "markdown",
   "metadata": {},
   "source": [
    "<a href=\"Q80_Multiple_Control_Constructions_Solutions_ProjectQ.ipynb#task2\">click for our solution</a>"
   ]
  },
  {
   "cell_type": "markdown",
   "metadata": {},
   "source": [
    "<h3>Task 3</h3>\n",
    "\n",
    "Repeat Task 2 for the operator $C_1C_0C_1C_0NOT$: $NOT$ operator is applied to the target qubit if the four control qubits are in state $ \\ket{1010} $."
   ]
  },
  {
   "cell_type": "code",
   "execution_count": null,
   "metadata": {},
   "outputs": [],
   "source": [
    "# Import necessary objects and methods for creating circuits \n",
    "from projectq import MainEngine\n",
    "from projectq.ops import H,X,Measure,All, C, NOT\n",
    "from projectq.backends import CircuitDrawerMatplotlib, Simulator\n",
    "from projectq.setups.default import get_engine_list\n",
    "\n",
    "######################\n",
    "# Enter your code here\n",
    "######################\n"
   ]
  },
  {
   "cell_type": "markdown",
   "metadata": {},
   "source": [
    "<a href=\"Q80_Multiple_Control_Constructions_Solutions_ProjectQ.ipynb#task3\">click for our solution</a>"
   ]
  },
  {
   "cell_type": "markdown",
   "metadata": {},
   "source": [
    "<h3>Task 4 (extra)</h3>\n",
    "\n",
    "Write a function taking a binary string \"$ b_1 b_2 b_3 b_4$ that repeats Task 2 for the operator $ C_{b_1}C_{b_2}C_{b_3}C_{b_4}NOT $ gate, where $ b_1,\\ldots,b_4$ are bits and $ NOT $ operator is applied to target qubit if the control qubits are in state $ \\ket{b_1b_2b_3b_4} $."
   ]
  },
  {
   "cell_type": "code",
   "execution_count": null,
   "metadata": {},
   "outputs": [],
   "source": [
    "# Import necessary objects and methods for creating circuits \n",
    "from projectq import MainEngine\n",
    "from projectq.ops import H,X,Measure,All, C, NOT\n",
    "from projectq.backends import CircuitDrawerMatplotlib, Simulator\n",
    "from projectq.setups.default import get_engine_list\n",
    "\n",
    "def c4not(control_state='1111'):\n",
    "    \n",
    "######################\n",
    "# Enter your code here\n",
    "######################\n",
    "\n",
    "\n",
    "    "
   ]
  },
  {
   "cell_type": "code",
   "execution_count": null,
   "metadata": {},
   "outputs": [],
   "source": [
    "# try different values\n",
    "\n",
    "#c4not()\n",
    "#c4not('1001')\n",
    "c4not('0011')\n",
    "#c4not('1101')\n",
    "#c4not('0000')"
   ]
  },
  {
   "cell_type": "markdown",
   "metadata": {},
   "source": [
    "<a href=\"Q80_Multiple_Control_Constructions_Solutions_ProjectQ.ipynb#task4\">click for our solution</a>"
   ]
  }
 ],
 "metadata": {
  "kernelspec": {
   "display_name": "Python 3",
   "language": "python",
   "name": "python3"
  },
  "language_info": {
   "codemirror_mode": {
    "name": "ipython",
    "version": 3
   },
   "file_extension": ".py",
   "mimetype": "text/x-python",
   "name": "python",
   "nbconvert_exporter": "python",
   "pygments_lexer": "ipython3",
   "version": "3.8.10"
  }
 },
 "nbformat": 4,
 "nbformat_minor": 4
}
