{
 "cells": [
  {
   "cell_type": "markdown",
   "metadata": {},
   "source": [
    "<a href=\"https://qworld.net\" target=\"_blank\" align=\"left\"><img src=\"./images/header.jpg\"  align=\"left\"></a>\n",
    "$ \\newcommand{\\bra}[1]{\\langle #1|} $\n",
    "$ \\newcommand{\\ket}[1]{|#1\\rangle} $\n",
    "$ \\newcommand{\\braket}[2]{\\langle #1|#2\\rangle} $\n",
    "$ \\newcommand{\\dot}[2]{ #1 \\cdot #2} $\n",
    "$ \\newcommand{\\biginner}[2]{\\left\\langle #1,#2\\right\\rangle} $\n",
    "$ \\newcommand{\\mymatrix}[2]{\\left( \\begin{array}{#1} #2\\end{array} \\right)} $\n",
    "$ \\newcommand{\\myvector}[1]{\\mymatrix{c}{#1}} $\n",
    "$ \\newcommand{\\myrvector}[1]{\\mymatrix{r}{#1}} $\n",
    "$ \\newcommand{\\mypar}[1]{\\left( #1 \\right)} $\n",
    "$ \\newcommand{\\mybigpar}[1]{ \\Big( #1 \\Big)} $\n",
    "$ \\newcommand{\\sqrttwo}{\\frac{1}{\\sqrt{2}}} $\n",
    "$ \\newcommand{\\dsqrttwo}{\\dfrac{1}{\\sqrt{2}}} $\n",
    "$ \\newcommand{\\onehalf}{\\frac{1}{2}} $\n",
    "$ \\newcommand{\\donehalf}{\\dfrac{1}{2}} $\n",
    "$ \\newcommand{\\hadamard}{ \\mymatrix{rr}{ \\sqrttwo & \\sqrttwo \\\\ \\sqrttwo & -\\sqrttwo }} $\n",
    "$ \\newcommand{\\vzero}{\\myvector{1\\\\0}} $\n",
    "$ \\newcommand{\\vone}{\\myvector{0\\\\1}} $\n",
    "$ \\newcommand{\\stateplus}{\\myvector{ \\sqrttwo \\\\  \\sqrttwo } } $\n",
    "$ \\newcommand{\\stateminus}{ \\myrvector{ \\sqrttwo \\\\ -\\sqrttwo } } $\n",
    "$ \\newcommand{\\myarray}[2]{ \\begin{array}{#1}#2\\end{array}} $\n",
    "$ \\newcommand{\\X}{ \\mymatrix{cc}{0 & 1 \\\\ 1 & 0}  } $\n",
    "$ \\newcommand{\\I}{ \\mymatrix{rr}{1 & 0 \\\\ 0 & 1}  } $\n",
    "$ \\newcommand{\\Z}{ \\mymatrix{rr}{1 & 0 \\\\ 0 & -1}  } $\n",
    "$ \\newcommand{\\Htwo}{ \\mymatrix{rrrr}{ \\frac{1}{2} & \\frac{1}{2} & \\frac{1}{2} & \\frac{1}{2} \\\\ \\frac{1}{2} & -\\frac{1}{2} & \\frac{1}{2} & -\\frac{1}{2} \\\\ \\frac{1}{2} & \\frac{1}{2} & -\\frac{1}{2} & -\\frac{1}{2} \\\\ \\frac{1}{2} & -\\frac{1}{2} & -\\frac{1}{2} & \\frac{1}{2} } } $\n",
    "$ \\newcommand{\\CNOT}{ \\mymatrix{cccc}{1 & 0 & 0 & 0 \\\\ 0 & 1 & 0 & 0 \\\\ 0 & 0 & 0 & 1 \\\\ 0 & 0 & 1 & 0} } $\n",
    "$ \\newcommand{\\norm}[1]{ \\left\\lVert #1 \\right\\rVert } $\n",
    "$ \\newcommand{\\pstate}[1]{ \\lceil \\mspace{-1mu} #1 \\mspace{-1.5mu} \\rfloor } $\n",
    "$ \\newcommand{\\greenbit}[1] {\\mathbf{{\\color{green}#1}}} $\n",
    "$ \\newcommand{\\bluebit}[1] {\\mathbf{{\\color{blue}#1}}} $\n",
    "$ \\newcommand{\\redbit}[1] {\\mathbf{{\\color{red}#1}}} $\n",
    "$ \\newcommand{\\brownbit}[1] {\\mathbf{{\\color{brown}#1}}} $\n",
    "$ \\newcommand{\\blackbit}[1] {\\mathbf{{\\color{black}#1}}} $"
   ]
  },
  {
   "cell_type": "markdown",
   "metadata": {},
   "source": [
    "<font style=\"font-size:28px;\" align=\"left\"><b> ProjectQ: Quick Reference </b></font>\n",
    "<br>\n",
    "_prepared by Abuzer Yakaryilmaz_\n",
    "<br><br>"
   ]
  },
  {
   "cell_type": "markdown",
   "metadata": {},
   "source": [
    "<hr>\n",
    "<h3> Important import statements in ProjectQ </h3>"
   ]
  },
  {
   "cell_type": "markdown",
   "metadata": {},
   "source": [
    "Import the engine object, simulators and supplementary engines you need to use for your program\n",
    "\n",
    "    - from projectq import MainEngine\n",
    "    - from projectq.backends import CircuitDrawerMatplotlib, Simulator\n",
    "    - from projectq.setups.default import get_engine_list"
   ]
  },
  {
   "cell_type": "markdown",
   "metadata": {},
   "source": [
    "Note: Always remember to also import in the gates you require from the projectq.ops library for easy gate implementations"
   ]
  },
  {
   "cell_type": "markdown",
   "metadata": {},
   "source": [
    "<hr>\n",
    "<h3>Creating a quantum circuit</h3>"
   ]
  },
  {
   "cell_type": "markdown",
   "metadata": {},
   "source": [
    "To initialise the quantum circuit you need to declare the engine object and specify your backends and engines you will use. Below here is the most common use with the default simulator and the CircuitDrawerMatplotlib drawing engine to draw your circuit.\n",
    "    \n",
    "    qdrawer = CircuitDrawerMatplotlib()\n",
    "    qengine = MainEngine(backend = Simulator(), engine_list = [qdrawer]+get_engine_list())\n",
    "    \n",
    "To allocate qubits we can use the allocate_qubit or allocate_qureg for multiple registers\n",
    "\n",
    "    qubit = qengine.allocate_qureg(*insert number of qubits*)"
   ]
  },
  {
   "cell_type": "markdown",
   "metadata": {},
   "source": [
    "<hr>\n",
    "<h3>One qubit gates</h3>\n",
    "Here are some quick references to implementing one qubit gates in ProjectQ"
   ]
  },
  {
   "cell_type": "markdown",
   "metadata": {},
   "source": [
    "<br>\n",
    "<h4> Pauli X-gate (NOT operator) </h4>\n",
    "\n",
    "$ X = \\mymatrix{cc}{0&1\\\\1&0} $ \n",
    "\n",
    "    X | qubit[index]\n",
    "<br>"
   ]
  },
  {
   "cell_type": "markdown",
   "metadata": {},
   "source": [
    "<h4> Pauli Z-gate (Z operator) </h4>\n",
    "\n",
    "$ Z = \\mymatrix{rr}{1&0\\\\0&-1} $ \n",
    "\n",
    "\n",
    "    Z | qubit[index]\n",
    "<br>"
   ]
  },
  {
   "cell_type": "markdown",
   "metadata": {},
   "source": [
    "<h4> H-gate (Hadamard operator) </h4>\n",
    "\n",
    "$ H = \\hadamard $ \n",
    "\n",
    "    H | qubit[index]\n",
    "<br>"
   ]
  },
  {
   "cell_type": "markdown",
   "metadata": {},
   "source": [
    "<h4> RY-gate (rotation operator) </h4>\n",
    "\n",
    "This is a rotation operator on a (real-valued) qubit in counter-clockwise direction.\n",
    "\n",
    "The matrix representing the rotation with angle $a$ on two-dimensional space:\n",
    "\n",
    "$ Ry(a) = \\mymatrix{rr}{\\cos(a) & -\\sin(a) \\\\ \\sin(a) & \\cos(a) } $ \n",
    "\n",
    "\n",
    "    Ry(angle) | qubit[index]\n",
    "    \n",
    "Remark that we pass the double of the rotation angle for the rotations on the unit circle."
   ]
  },
  {
   "cell_type": "markdown",
   "metadata": {},
   "source": [
    "<hr>\n",
    "<h3>Two-qubit gates</h3>\n",
    "\n",
    "<font color=\"#0000CC\"><i>In ProjectQ, when the system has two qubits $qubit[0]$ and $ qubit[1] $, then they are combined as $ qubit[1] \\otimes qubit[0] $.</i></font> "
   ]
  },
  {
   "cell_type": "markdown",
   "metadata": {},
   "source": [
    "<b>Controlled X-gate (CNOT operator or cx gate in qiskit)</b>"
   ]
  },
  {
   "cell_type": "markdown",
   "metadata": {},
   "source": [
    "$ CNOT = \\mymatrix{cccc}{\\blackbit{1} & 0 & 0 & 0 \\\\ 0 & \\blackbit{1} & 0 & 0 \\\\ 0 & 0 & 0 & \\bluebit{1} \\\\ 0 & 0 & \\bluebit{1} & 0} . $\n",
    "<br><br>\n",
    "\n",
    "Here, the Control qubit is qubit[1] -- the first parameter <br>\n",
    "Target qubit is qubit[0] -- the second parameter\n",
    "\n",
    "    ControlledGate(X, 1) | (qubit[1], qubit[0])\n",
    "Alternatively, one can also use the following syntax\n",
    "\n",
    "    C(X, 1) | (qubit[1], qubit[0])"
   ]
  },
  {
   "cell_type": "markdown",
   "metadata": {},
   "source": [
    "<b>Controlled Y-gate (CRy operator)</b>\n",
    "\n",
    "We use this gate for controlled ry-gate in this tutorial."
   ]
  },
  {
   "cell_type": "markdown",
   "metadata": {},
   "source": [
    "$ CRy = \\mymatrix{cccc}{1 & 0 & 0 & 0 \\\\ 0 & 1 & 0 & 0  \\\\ 0 & 0 & \\cos a & -\\sin a \\\\ 0 & 0 & \\sin a & \\cos a} . $\n",
    "<br><br>\n",
    "\n",
    "Here, the Control qubit is qubit[1] -- the first parameter <br>\n",
    "Target qubit is qubit[0] -- the second parameter\n",
    "\n",
    "    ControlledGate(Ry, 1) | (qubit[1], qubit[0])\n",
    "    \n",
    "Alternatively, one can also use the following syntax\n",
    "\n",
    "    C(Ry, 1) | (qubit[1], qubit[0])"
   ]
  },
  {
   "cell_type": "markdown",
   "metadata": {},
   "source": [
    "<hr>\n",
    "<h3>Three-qubit gate</h3>\n",
    "\n",
    "<font color=\"#0000CC\"><i>In ProjectQ, when the system has three qubits $qubit[0], qubit[1], qubit[2] $, then they are combined as $ qubit[2] \\otimes qreg[1] \\otimes qubit[0] $.</i></font> "
   ]
  },
  {
   "cell_type": "markdown",
   "metadata": {},
   "source": [
    "<b>ccx-gate (Toffoli (CCNOT) operator)</b>"
   ]
  },
  {
   "cell_type": "markdown",
   "metadata": {},
   "source": [
    "$ CCNOT = \\mymatrix{cccccccc}{\n",
    "    \\blackbit{1} & 0 & 0 & 0 & 0 & 0 & 0 & 0 \\\\ \n",
    "    0 & \\blackbit{1} & 0 & 0 & 0 & 0 & 0 & 0 \\\\\n",
    "    0 & 0 & \\blackbit{1} & 0 & 0 & 0 & 0 & 0 \\\\\n",
    "    0 & 0 & 0 & \\blackbit{1} & 0 & 0 & 0 & 0 \\\\\n",
    "    0 & 0 & 0 & 0 & \\blackbit{1} & 0 & 0 & 0 \\\\\n",
    "    0 & 0 & 0 & 0 & 0 & \\blackbit{1} & 0 & 0 \\\\\n",
    "    0 & 0 & 0 & 0 & 0 & 0 & 0 & \\bluebit{1} \\\\\n",
    "    0 & 0 & 0 & 0 & 0 & 0 & \\bluebit{1} & 0 \\\\ \n",
    "    } . $\n",
    "<br><br>\n",
    "\n",
    "Here we have:<br>\n",
    "1st controller qubit is qreg[2] -- the first parameter<br>\n",
    "2nd controller qubit is qreg[1] -- the second parameter<br>\n",
    "target qubit is qreg[0] -- the third parameter\n",
    "\n",
    "    ControlledGate(X, 2) | (qubit[2],qubit[1],qubit[0])"
   ]
  },
  {
   "cell_type": "markdown",
   "metadata": {},
   "source": [
    "<hr>\n",
    "<h3>Measuring a quantum circuit</h3>"
   ]
  },
  {
   "cell_type": "markdown",
   "metadata": {},
   "source": [
    "1)  We can usually measure the whole circuit with one line of code. We include the All function to measure all the qubits. Before that, do not forget to flush the qengine object to pass on the values to the backend for measurement.\n",
    "\n",
    "        qengine.flush()\n",
    "        All(Measure) | qubit\n",
    "   \n",
    "    <br>This associaties each measurement value to the qubit index corresponding to it. You can also use the following:\n",
    "\n",
    "    qengine.get_measurement_result(qubit[0]) == int(qubit)"
   ]
  },
  {
   "cell_type": "markdown",
   "metadata": {},
   "source": [
    "2) Each quantum bit can be associated with a specified classical bit as follows:\n",
    "\n",
    "        print(\"Measured: {}{}{}\".format(int(qubit[0]),int(qubit[1]),int(qubit[2])))\n",
    "        \n",
    "   Or you could print it reversed if you wish by just reversing the order of printing\n",
    "   \n",
    "        print(\"Measured: {}{}{}\".format(int(qubit[2]),int(qubit[1]),int(qubit[0])))\n",
    "        \n",
    "   Or if you wish to print them as a matrix together:\n",
    "   \n",
    "       print([int(q) for q in qubit])"
   ]
  },
  {
   "cell_type": "markdown",
   "metadata": {},
   "source": [
    "<hr>\n",
    "<h3>Drawing or printing a quantum circuit</h3>"
   ]
  },
  {
   "cell_type": "markdown",
   "metadata": {},
   "source": [
    "There are different methods to draw a circuit.\n",
    "\n",
    "We use a method of drawing using the Matplotlib Circuit drawing qengine called CircuitDrawerMatplotlib\n",
    "\n",
    "1) The following command will result the circuit drawn by using <b>Matloptlib</b>.\n",
    "\n",
    "        qdrawer = CircuitDrawerMatplotlib()\n",
    "        print(qdrawer.draw())"
   ]
  },
  {
   "cell_type": "markdown",
   "metadata": {},
   "source": [
    "3) The circuit can be drawn by using <b>LaTex</b>. We shall use the CircuitDrawer library for the same<br><br>\n",
    "    \n",
    "        qdrawer = CircuitDrawer()\n",
    "        print(qdrawer.get_latex())\n",
    "    \n",
    "    <br>This will generate a LaTeX code for your circuit. This code is not MathJax compatible hence will need a full LaTeX installation. If you have a LaTeX installation, you can capture in the output or store this as a tex file and call in pdflatex to convert it into a pdf and display it."
   ]
  },
  {
   "cell_type": "markdown",
   "metadata": {},
   "source": [
    "<hr>\n",
    "<h3>Executing a quantum program on an IBM QX Simulator</h3>"
   ]
  },
  {
   "cell_type": "markdown",
   "metadata": {},
   "source": [
    "You can use the IBM Q experience backends for executing your circuits. This includes their classical simulators too. <br><font color=\"#0000CC\"><i>Bear in mind, you will need your API key to access the same, even the simulators will need the API key for access.</i></font>\n",
    "\n",
    "<br>\n",
    "Lets import the IBM backend<br>\n",
    "\n",
    "    from projectq.setups import ibm\n",
    "    from projectq.backends import IBMBackend\n",
    "    \n",
    "You have to declare the qengine object for IBMQ experience and specify which device to use. Here we have used \"ibmq-manilla\" as our backend. You can set the number of shots as \"num_runs\" variable.  \n",
    "\n",
    "       qengine = MainEngine(IBMBackend(use_hardware=True, num_runs=1024,verbose=False, device='ibmq-manilla'),\n",
    "                 engine_list=projectq.setups.ibm.get_engine_list())\n",
    "\n",
    "It will ask you for your IBMQ API Key now. Enter it and the rest is basically the same as you would measure in ProjectQ.\n",
    "\n",
    "To use the IBMQ Simulator, set the use_hardware flag as False. Here is the default syntax for the same:\n",
    "\n",
    "       qengine = MainEngine(IBMBackend(use_hardware=False, num_runs=1024, verbose=False, device='ibmq_essex', num_retries=3000)\n",
    "        \n",
    "Using the simulator will also need your IBMQ experience API keys bear in mind.\n",
    "        \n"
   ]
  },
  {
   "cell_type": "code",
   "execution_count": null,
   "metadata": {},
   "outputs": [],
   "source": []
  }
 ],
 "metadata": {
  "kernelspec": {
   "display_name": "Python 3",
   "language": "python",
   "name": "python3"
  },
  "language_info": {
   "codemirror_mode": {
    "name": "ipython",
    "version": 3
   },
   "file_extension": ".py",
   "mimetype": "text/x-python",
   "name": "python",
   "nbconvert_exporter": "python",
   "pygments_lexer": "ipython3",
   "version": "3.8.10"
  }
 },
 "nbformat": 4,
 "nbformat_minor": 4
}
