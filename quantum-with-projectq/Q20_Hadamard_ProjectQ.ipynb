{
 "cells": [
  {
   "cell_type": "markdown",
   "metadata": {},
   "source": [
    "<a href=\"https://qworld.net\" target=\"_blank\" align=\"left\"><img src=\"./images/header.jpg\"  align=\"left\"></a>\n",
    "$ \\newcommand{\\bra}[1]{\\langle #1|} $\n",
    "$ \\newcommand{\\ket}[1]{|#1\\rangle} $\n",
    "$ \\newcommand{\\braket}[2]{\\langle #1|#2\\rangle} $\n",
    "$ \\newcommand{\\dot}[2]{ #1 \\cdot #2} $\n",
    "$ \\newcommand{\\biginner}[2]{\\left\\langle #1,#2\\right\\rangle} $\n",
    "$ \\newcommand{\\mymatrix}[2]{\\left( \\begin{array}{#1} #2\\end{array} \\right)} $\n",
    "$ \\newcommand{\\myvector}[1]{\\mymatrix{c}{#1}} $\n",
    "$ \\newcommand{\\myrvector}[1]{\\mymatrix{r}{#1}} $\n",
    "$ \\newcommand{\\mypar}[1]{\\left( #1 \\right)} $\n",
    "$ \\newcommand{\\mybigpar}[1]{ \\Big( #1 \\Big)} $\n",
    "$ \\newcommand{\\sqrttwo}{\\frac{1}{\\sqrt{2}}} $\n",
    "$ \\newcommand{\\dsqrttwo}{\\dfrac{1}{\\sqrt{2}}} $\n",
    "$ \\newcommand{\\onehalf}{\\frac{1}{2}} $\n",
    "$ \\newcommand{\\donehalf}{\\dfrac{1}{2}} $\n",
    "$ \\newcommand{\\hadamard}{ \\mymatrix{rr}{ \\sqrttwo & \\sqrttwo \\\\ \\sqrttwo & -\\sqrttwo }} $\n",
    "$ \\newcommand{\\vzero}{\\myvector{1\\\\0}} $\n",
    "$ \\newcommand{\\vone}{\\myvector{0\\\\1}} $\n",
    "$ \\newcommand{\\stateplus}{\\myvector{ \\sqrttwo \\\\  \\sqrttwo } } $\n",
    "$ \\newcommand{\\stateminus}{ \\myrvector{ \\sqrttwo \\\\ -\\sqrttwo } } $\n",
    "$ \\newcommand{\\myarray}[2]{ \\begin{array}{#1}#2\\end{array}} $\n",
    "$ \\newcommand{\\X}{ \\mymatrix{cc}{0 & 1 \\\\ 1 & 0}  } $\n",
    "$ \\newcommand{\\I}{ \\mymatrix{rr}{1 & 0 \\\\ 0 & 1}  } $\n",
    "$ \\newcommand{\\Z}{ \\mymatrix{rr}{1 & 0 \\\\ 0 & -1}  } $\n",
    "$ \\newcommand{\\Htwo}{ \\mymatrix{rrrr}{ \\frac{1}{2} & \\frac{1}{2} & \\frac{1}{2} & \\frac{1}{2} \\\\ \\frac{1}{2} & -\\frac{1}{2} & \\frac{1}{2} & -\\frac{1}{2} \\\\ \\frac{1}{2} & \\frac{1}{2} & -\\frac{1}{2} & -\\frac{1}{2} \\\\ \\frac{1}{2} & -\\frac{1}{2} & -\\frac{1}{2} & \\frac{1}{2} } } $\n",
    "$ \\newcommand{\\CNOT}{ \\mymatrix{cccc}{1 & 0 & 0 & 0 \\\\ 0 & 1 & 0 & 0 \\\\ 0 & 0 & 0 & 1 \\\\ 0 & 0 & 1 & 0} } $\n",
    "$ \\newcommand{\\norm}[1]{ \\left\\lVert #1 \\right\\rVert } $\n",
    "$ \\newcommand{\\pstate}[1]{ \\lceil \\mspace{-1mu} #1 \\mspace{-1.5mu} \\rfloor } $\n",
    "$ \\newcommand{\\greenbit}[1] {\\mathbf{{\\color{green}#1}}} $\n",
    "$ \\newcommand{\\bluebit}[1] {\\mathbf{{\\color{blue}#1}}} $\n",
    "$ \\newcommand{\\redbit}[1] {\\mathbf{{\\color{red}#1}}} $\n",
    "$ \\newcommand{\\brownbit}[1] {\\mathbf{{\\color{brown}#1}}} $\n",
    "$ \\newcommand{\\blackbit}[1] {\\mathbf{{\\color{black}#1}}} $"
   ]
  },
  {
   "cell_type": "markdown",
   "metadata": {},
   "source": [
    "<font style=\"font-size:28px;\" align=\"left\"><b>Hadamard Operator</b></font>\n",
    "<br>\n",
    "_prepared by Abuzer Yakaryilmaz_\n",
    "<br><br>\n"
   ]
  },
  {
   "cell_type": "markdown",
   "metadata": {},
   "source": [
    "An example quantum operator for quantum coin-flipping is Hadamard. \n",
    "\n",
    "It is defined as H-gate in ProjectQ (which you might recall is similar to Qiskit)\n",
    "\n",
    "We implement all three experiments by using ProjectQ. Here we present the first and third experiment. The second experiment will be presented later.\n",
    "\n",
    "_This will be a warm-up step before introducing a quantum bit more formally._  "
   ]
  },
  {
   "cell_type": "markdown",
   "metadata": {},
   "source": [
    "<h3> The first experiment</h3>\n",
    "\n",
    "Our quantum bit (<b>qubit</b>) starts in state 0, which is shown as $ \\ket{0} = \\myvector{1 \\\\ 0} $.\n",
    "\n",
    "<i>$ \\ket{\\cdot} $ is called ket-notation:  Ket-notation is used to represent a column vector in quantum mechanics. \n",
    "For a given column vector $ \\ket{v} $, its conjugate transpose is a row vector represented as $ \\bra{v} $ (bra-notation). \n",
    "</i>"
   ]
  },
  {
   "cell_type": "markdown",
   "metadata": {},
   "source": [
    "<h4> The circuit with a single Hadamard </h4>\n",
    "\n",
    "We design a circuit with one qubit and apply quantum coin-flipping once."
   ]
  },
  {
   "cell_type": "code",
   "execution_count": 8,
   "metadata": {},
   "outputs": [
    {
     "name": "stdout",
     "output_type": "stream",
     "text": [
      "Output: 0\n",
      "(<Figure size 204.9x144 with 1 Axes>, <AxesSubplot:>)\n",
      "The design of the circuit is done.\n"
     ]
    },
    {
     "data": {
      "image/png": "[encoded data removed]",
      "text/plain": [
       "<Figure size 204.9x144 with 1 Axes>"
      ]
     },
     "metadata": {},
     "output_type": "display_data"
    }
   ],
   "source": [
    "# Import necessary objects and methods for creating circuits \n",
    "from projectq import MainEngine\n",
    "from projectq.ops import H,X,Measure,All\n",
    "from projectq.backends import CircuitDrawerMatplotlib, Simulator\n",
    "from projectq.setups.default import get_engine_list\n",
    "\n",
    "# Initialize engine objects for simulation and drawings\n",
    "qdrawer = CircuitDrawerMatplotlib()\n",
    "qengine = MainEngine(backend = Simulator(), engine_list = [qdrawer]+get_engine_list())\n",
    "\n",
    "# Define number of qubits and allocate them\n",
    "qubit = qengine.allocate_qureg(1)\n",
    "\n",
    "# Apply H-gate (Recall :H-Gate is our quantum \"coin-flipping\" gate) to the first qubit\n",
    "H | qubit[0]\n",
    "\n",
    "# Flush circuit to backend\n",
    "qengine.flush()\n",
    "\n",
    "# Measure qubit value and extract it out\n",
    "Measure | qubit\n",
    "\n",
    "# Print the measured output\n",
    "print(\"Output: {}\".format(int(qubit[0])))\n",
    "\n",
    "# Print the circuit out\n",
    "print(qdrawer.draw())\n",
    "\n",
    "# Confirm circuit run\n",
    "print(\"The design of the circuit is done.\")"
   ]
  },
  {
   "cell_type": "markdown",
   "metadata": {},
   "source": [
    "<img src=\"./images/photon1.jpg\" width=\"40%\">"
   ]
  },
  {
   "cell_type": "code",
   "execution_count": 5,
   "metadata": {},
   "outputs": [
    {
     "name": "stdout",
     "output_type": "stream",
     "text": [
      "{'Zero': 5051, 'One': 4949}\n",
      "State 0 is observed with frequency % 50.51\n",
      "State 1 is observed with frequency % 49.49\n"
     ]
    },
    {
     "data": {
      "image/png": "[encoded data removed]",
      "text/plain": [
       "<Figure size 432x288 with 1 Axes>"
      ]
     },
     "metadata": {
      "needs_background": "light"
     },
     "output_type": "display_data"
    }
   ],
   "source": [
    "# Let us create a dictionary to store measurements\n",
    "measurement_dict = {\"Zero\":0, \"One\":0}\n",
    "\n",
    "# Looping over the circuit 10000 times\n",
    "\"The circuit resets after each mesurement back to its initial state hence we are looping over the gates as well\"\n",
    "for i in range(10000):\n",
    "    # Apply H-gate\n",
    "    H | qubit[0]\n",
    "    # Flush circuit to backend\n",
    "    qengine.flush()\n",
    "    # Measure qubit value and extract it out\n",
    "    Measure | qubit\n",
    "\n",
    "    # Segregate measured value into dictionaries\n",
    "    if (int(qubit[0]) == 0):\n",
    "        measurement_dict[\"Zero\"] += 1\n",
    "    else:\n",
    "        measurement_dict[\"One\"] += 1\n",
    "\n",
    "# Print values\n",
    "print(measurement_dict)\n",
    "print(\"State 0 is observed with frequency %\",100*measurement_dict[\"Zero\"]/(10000))\n",
    "print(\"State 1 is observed with frequency %\",100*measurement_dict[\"One\"]/(10000))\n",
    "\n",
    "# Plot histogram using matplotlib\n",
    "import matplotlib.pyplot as plt\n",
    "\n",
    "# Plot Dictionary keys and values in a bar plot\n",
    "plt.bar(list(measurement_dict.keys()), measurement_dict.values())\n",
    "\n",
    "# Show plot\n",
    "plt.show()"
   ]
  },
  {
   "cell_type": "markdown",
   "metadata": {},
   "source": [
    "The numbers of outcomes '0's and '1's are expected to be close to each other.\n",
    "\n",
    "<img src=\"./images/photon2.jpg\" width=\"40%\" align=\"left\">"
   ]
  },
  {
   "cell_type": "markdown",
   "metadata": {},
   "source": [
    "<b style=\"color:black;\"> As we have observed after this implementation, quantum systems output probabilistically.</b>"
   ]
  },
  {
   "cell_type": "markdown",
   "metadata": {},
   "source": [
    "<h3> The third experiment </h3>\n",
    "\n",
    "_We will examine the second experiment later because it requires intermediate measurement. (We can do intermediate measurements in simulators, but it is not possible in the real machines.)_\n",
    "\n",
    "Now, we implement the third experiment.\n",
    "\n",
    "<img src=\"./images/photon6.jpg\" width=\"60%\" align=\"left\">"
   ]
  },
  {
   "cell_type": "markdown",
   "metadata": {},
   "source": [
    "<h4> The circuit with two Hadamards </h4>\n",
    "\n",
    "We design a circuit with one qubit and apply quantum coin-flipping twice."
   ]
  },
  {
   "cell_type": "code",
   "execution_count": 9,
   "metadata": {},
   "outputs": [
    {
     "name": "stdout",
     "output_type": "stream",
     "text": [
      "Output: 0\n",
      "(<Figure size 258.6x144 with 1 Axes>, <AxesSubplot:>)\n",
      "The design of the circuit is done.\n"
     ]
    },
    {
     "data": {
      "image/png": "[encoded data removed]",
      "text/plain": [
       "<Figure size 258.6x144 with 1 Axes>"
      ]
     },
     "metadata": {},
     "output_type": "display_data"
    }
   ],
   "source": [
    "# Import necessary objects and methods for creating circuits \n",
    "from projectq import MainEngine\n",
    "from projectq.ops import H,X,Measure,All\n",
    "from projectq.backends import CircuitDrawerMatplotlib, Simulator\n",
    "from projectq.setups.default import get_engine_list\n",
    "\n",
    "# Initialize engine objects for simulation and drawings\n",
    "qdrawer = CircuitDrawerMatplotlib()\n",
    "qengine = MainEngine(backend = Simulator(), engine_list = [qdrawer]+get_engine_list())\n",
    "\n",
    "# Define number of qubits and allocate them. Lets name them qreg\n",
    "qubit = qengine.allocate_qureg(1)\n",
    "\n",
    "# Apply H-gate to qubit twice.\n",
    "H | qubit\n",
    "H | qubit\n",
    "\n",
    "# Flush circuit to backend\n",
    "qengine.flush()\n",
    "\n",
    "# Measure qubit value and extract it out\n",
    "Measure | qubit\n",
    "\n",
    "# Print the measured output\n",
    "print(\"Output: {}\".format(int(qubit[0])))\n",
    "\n",
    "# Print the circuit out\n",
    "print(qdrawer.draw())\n",
    "\n",
    "# Confirm circuit run\n",
    "print(\"The design of the circuit is done.\")"
   ]
  },
  {
   "cell_type": "code",
   "execution_count": 10,
   "metadata": {},
   "outputs": [
    {
     "name": "stdout",
     "output_type": "stream",
     "text": [
      "{'Zero': 10000, 'One': 0}\n"
     ]
    }
   ],
   "source": [
    "# execute the circuit 10000 times in the local simulator\n",
    "\n",
    "# Let us create a dictionary to store measurements\n",
    "measurement_dict = {\"Zero\":0, \"One\":0}\n",
    "\n",
    "# Looping over the circuit 10000 times. Apply gates and measure.\n",
    "for i in range(10000):\n",
    "    H | qubit\n",
    "    H | qubit\n",
    "    qengine.flush()\n",
    "    Measure | qubit\n",
    "    \n",
    "    if (int(qubit[0]) == 0):\n",
    "        measurement_dict[\"Zero\"] += 1\n",
    "    else:\n",
    "        measurement_dict[\"One\"] += 1\n",
    "        \n",
    "# Print values\n",
    "print(measurement_dict)"
   ]
  },
  {
   "cell_type": "markdown",
   "metadata": {},
   "source": [
    "The <u>only outcome</u> must be '0'.\n",
    "\n",
    "<img src=\"./images/photon7.jpg\" width=\"60%\" align=\"left\">"
   ]
  },
  {
   "cell_type": "markdown",
   "metadata": {},
   "source": [
    "<h3> Task 1 </h3>\n",
    "\n",
    "Remember that x-gate flips the value of a qubit.\n",
    "\n",
    "Design a quantum circuit with a single qubit.\n",
    "\n",
    "The qubit is initially set to $ \\ket{0} $.\n",
    "\n",
    "Set the value of qubit to $ \\ket{1} $ by using x-gate.\n",
    "\n",
    "Experiment 1: Apply one Hadamard gate, make measurement, and execute your program 10000 times.\n",
    "\n",
    "Experiment 2: Apply two Hadamard gates, make measurement, and execute your program 10000 times.\n",
    "\n",
    "Compare your results.\n",
    "\n",
    "The following two diagrams represent these experiments."
   ]
  },
  {
   "cell_type": "markdown",
   "metadata": {},
   "source": [
    "<table>\n",
    "    <tr>\n",
    "        <td><img src=\"./images/photon8.jpg\" width=\"80%\"></td>\n",
    "        <td><img src=\"./images/photon9.jpg\" width=\"70%\"></td>\n",
    "    </tr>\n",
    "</table>"
   ]
  },
  {
   "cell_type": "code",
   "execution_count": null,
   "metadata": {},
   "outputs": [],
   "source": [
    "######################\n",
    "# Enter your code here\n",
    "######################\n"
   ]
  },
  {
   "cell_type": "markdown",
   "metadata": {},
   "source": [
    "<a href=\"Q20_Hadamard_Solution_ProjectQ.ipynb#task1\">click for our solution</a>"
   ]
  }
 ],
 "metadata": {
  "kernelspec": {
   "display_name": "Python 3",
   "language": "python",
   "name": "python3"
  },
  "language_info": {
   "codemirror_mode": {
    "name": "ipython",
    "version": 3
   },
   "file_extension": ".py",
   "mimetype": "text/x-python",
   "name": "python",
   "nbconvert_exporter": "python",
   "pygments_lexer": "ipython3",
   "version": "3.8.10"
  }
 },
 "nbformat": 4,
 "nbformat_minor": 4
}
