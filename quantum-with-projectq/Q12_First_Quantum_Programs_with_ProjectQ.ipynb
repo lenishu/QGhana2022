{
 "cells": [
  {
   "cell_type": "markdown",
   "metadata": {},
   "source": [
    "<a href=\"https://qworld.net\" target=\"_blank\" align=\"left\"><img src=\"./images/header.jpg\"  align=\"left\"></a>\n",
    "$ \\newcommand{\\bra}[1]{\\langle #1|} $\n",
    "$ \\newcommand{\\ket}[1]{|#1\\rangle} $\n",
    "$ \\newcommand{\\braket}[2]{\\langle #1|#2\\rangle} $\n",
    "$ \\newcommand{\\dot}[2]{ #1 \\cdot #2} $\n",
    "$ \\newcommand{\\biginner}[2]{\\left\\langle #1,#2\\right\\rangle} $\n",
    "$ \\newcommand{\\mymatrix}[2]{\\left( \\begin{array}{#1} #2\\end{array} \\right)} $\n",
    "$ \\newcommand{\\myvector}[1]{\\mymatrix{c}{#1}} $\n",
    "$ \\newcommand{\\myrvector}[1]{\\mymatrix{r}{#1}} $\n",
    "$ \\newcommand{\\mypar}[1]{\\left( #1 \\right)} $\n",
    "$ \\newcommand{\\mybigpar}[1]{ \\Big( #1 \\Big)} $\n",
    "$ \\newcommand{\\sqrttwo}{\\frac{1}{\\sqrt{2}}} $\n",
    "$ \\newcommand{\\dsqrttwo}{\\dfrac{1}{\\sqrt{2}}} $\n",
    "$ \\newcommand{\\onehalf}{\\frac{1}{2}} $\n",
    "$ \\newcommand{\\donehalf}{\\dfrac{1}{2}} $\n",
    "$ \\newcommand{\\hadamard}{ \\mymatrix{rr}{ \\sqrttwo & \\sqrttwo \\\\ \\sqrttwo & -\\sqrttwo }} $\n",
    "$ \\newcommand{\\vzero}{\\myvector{1\\\\0}} $\n",
    "$ \\newcommand{\\vone}{\\myvector{0\\\\1}} $\n",
    "$ \\newcommand{\\stateplus}{\\myvector{ \\sqrttwo \\\\  \\sqrttwo } } $\n",
    "$ \\newcommand{\\stateminus}{ \\myrvector{ \\sqrttwo \\\\ -\\sqrttwo } } $\n",
    "$ \\newcommand{\\myarray}[2]{ \\begin{array}{#1}#2\\end{array}} $\n",
    "$ \\newcommand{\\X}{ \\mymatrix{cc}{0 & 1 \\\\ 1 & 0}  } $\n",
    "$ \\newcommand{\\I}{ \\mymatrix{rr}{1 & 0 \\\\ 0 & 1}  } $\n",
    "$ \\newcommand{\\Z}{ \\mymatrix{rr}{1 & 0 \\\\ 0 & -1}  } $\n",
    "$ \\newcommand{\\Htwo}{ \\mymatrix{rrrr}{ \\frac{1}{2} & \\frac{1}{2} & \\frac{1}{2} & \\frac{1}{2} \\\\ \\frac{1}{2} & -\\frac{1}{2} & \\frac{1}{2} & -\\frac{1}{2} \\\\ \\frac{1}{2} & \\frac{1}{2} & -\\frac{1}{2} & -\\frac{1}{2} \\\\ \\frac{1}{2} & -\\frac{1}{2} & -\\frac{1}{2} & \\frac{1}{2} } } $\n",
    "$ \\newcommand{\\CNOT}{ \\mymatrix{cccc}{1 & 0 & 0 & 0 \\\\ 0 & 1 & 0 & 0 \\\\ 0 & 0 & 0 & 1 \\\\ 0 & 0 & 1 & 0} } $\n",
    "$ \\newcommand{\\norm}[1]{ \\left\\lVert #1 \\right\\rVert } $\n",
    "$ \\newcommand{\\pstate}[1]{ \\lceil \\mspace{-1mu} #1 \\mspace{-1.5mu} \\rfloor } $\n",
    "$ \\newcommand{\\greenbit}[1] {\\mathbf{{\\color{green}#1}}} $\n",
    "$ \\newcommand{\\bluebit}[1] {\\mathbf{{\\color{blue}#1}}} $\n",
    "$ \\newcommand{\\redbit}[1] {\\mathbf{{\\color{red}#1}}} $\n",
    "$ \\newcommand{\\brownbit}[1] {\\mathbf{{\\color{brown}#1}}} $\n",
    "$ \\newcommand{\\blackbit}[1] {\\mathbf{{\\color{black}#1}}} $"
   ]
  },
  {
   "cell_type": "markdown",
   "metadata": {},
   "source": [
    "# First Quantum Programs with ProjectQ"
   ]
  },
  {
   "cell_type": "markdown",
   "metadata": {},
   "source": [
    "_prepared by Abuzer Yakaryilmaz_\n",
    "\n",
    "_ProjectQ adaptation by Vishal Bajpe and Marija Šćekić_\n",
    "<br><br>"
   ]
  },
  {
   "cell_type": "markdown",
   "metadata": {},
   "source": [
    "In principle, every reversible classical program (i.e., a classical program containing only reversible operators) is also a quantum program. \n",
    " \n",
    "NOT operator is a classical reversible operator, and so we can design quantum programs by using NOT operator.\n",
    "<hr>"
   ]
  },
  {
   "cell_type": "markdown",
   "metadata": {},
   "source": [
    "For our quantum programs, we will design quantum circuits by using quantum programming framework <a href=\"https://projectq.ch/\" target=\"_blank\">ProjectQ</a>.\n",
    "Click on the link highlighted to learn more about the framework.\n",
    "\n",
    "As a warm-up example, here we design a circuit with a single quantum bit (qubit).\n",
    "\n",
    "We highlight the details on designing quantum circuits as comments along with our codes."
   ]
  },
  {
   "cell_type": "markdown",
   "metadata": {},
   "source": [
    "<h3> Design a circuit</h3>\n",
    "\n",
    "We design a quantum circuit with a single quantum bit and a single classical bit.\n",
    "\n",
    "We apply the NOT operator on the quantum bit, and then we measure the quantum bit, the outcome of which will be saved on the classical bit."
   ]
  },
  {
   "cell_type": "code",
   "execution_count": null,
   "metadata": {},
   "outputs": [],
   "source": [
    "# We begin our circuit creation by first importing the objects required for our quantum circuit\n",
    "\"\"\"\n",
    "The first object we import is the MainEngine. The MainEngine object is responsible for  creation of qubits and provides\n",
    "all basic functionality to our quantum program. Here we use it to initialize our qubit and keep track of measurement results \n",
    "\"\"\"\n",
    "\n",
    "from projectq import MainEngine # import the main compiler engine\n",
    "\n",
    "# Now next, we import the operations that we want to perform on our qubit \n",
    "from projectq.ops import X, Measure  # We import NOT gate and Measurement operator\n",
    "\n",
    "# Let us now create a default compiler object to call it for every operation. Let us name it \"qengine\"\n",
    "qengine = MainEngine() # create a default compiler (the back-end is a simulator)\n",
    "\n",
    "# Now let us allocate our single qubit by using our \"quantum engine\". \n",
    "qubit = qengine.allocate_qubit()  # Here we are allocating one qubit named \"qubit\".\n",
    "\n",
    "# Our quantum circuit is defined. Let us apply operations to our circuit now.\n",
    "\n",
    "\"\"\"\n",
    "Operators are called as gates. Let us apply the NOT operator represented as \"X\" in ProjectQ. We need to specify which\n",
    "qubit we are applying our operator to after the \"|\" symbol. We use our previous qubit named \"qubit\" in this example\n",
    "\"\"\"\n",
    "# Let us apply the X gate to our \"qubit\". \n",
    "X | qubit # apply X gate\n",
    "\n",
    "# Let us now Measure the circuit. for the same, we use the \"Measure\" operation applied to our qubit to be measured\n",
    "Measure | qubit # apply Measurement operation\n",
    "\n",
    "print(\"Everything looks fine, let's continue :)\")"
   ]
  },
  {
   "cell_type": "markdown",
   "metadata": {},
   "source": [
    "<h3>Execute the circuit</h3>\n",
    "\n",
    "A quantum program can be executed on a real quantum computer or a local classical simulator or a simulator in the cloud. Here we use a local classical simulator provided by ProjectQ and so our results will be (almost) accurate. \n",
    "\n",
    "_ProjectQ also provide backends for IBM Quantum and IonQ Hardware. Remark that the existing real quantum computers are  noisy and so the observed results will be inaccurate._\n",
    "\n",
    "To measure, we first flush the circuit to the backend using the \"flush() function\", and then we can print our result as integer as shown below:"
   ]
  },
  {
   "cell_type": "code",
   "execution_count": null,
   "metadata": {},
   "outputs": [],
   "source": [
    "# We flush the circuit and print the outcome\n",
    "\n",
    "# First we call the flush() function on our \"qengine\"\n",
    "qengine.flush() # flushing all operators including the measurement to the default backend \"ProjectQ Simulator\"\n",
    "# in other words, the whole circuit is executed on the backend\n",
    "\n",
    "# Second we print the value of qubit as integer by using \"int()\" method\n",
    "print(\"The outcome of the qubit is\",int(qubit))"
   ]
  },
  {
   "cell_type": "markdown",
   "metadata": {},
   "source": [
    "That is, the outcome is 1 and the circuit has been executed as expected.\n",
    "\n",
    "On real hardware, we may also observe the outcome \"0\" due to noise. "
   ]
  },
  {
   "cell_type": "markdown",
   "metadata": {},
   "source": [
    "<h3> Visualize the circuit </h3>\n",
    "\n",
    "Visualizing quantum circuits are always helpful.\n",
    "\n",
    "There are two circuit drawers in ProjectQ, and they are defined as backends. In order to use a backend, it should be added to the main engine.\n",
    "\n",
    "We use \"CircuitDrawerMatplotlib\", a compiler engine using Matplotlib library for drawing quantum circuits.\n",
    "\n",
    "By using its method called \"draw()\", the plot of the quantum circuit stored so far is generated and shown.\n",
    "\n",
    "In the following example, we create the same circuit and draw it."
   ]
  },
  {
   "cell_type": "code",
   "execution_count": null,
   "metadata": {},
   "outputs": [],
   "source": [
    "from projectq import MainEngine \n",
    "from projectq.ops import X, Measure\n",
    "\n",
    "# To draw in ProjectQ, we use a special backend called CircuitDrawerMatplotlib.\n",
    "from projectq.backends import CircuitDrawerMatplotlib\n",
    "\n",
    "# Now we create an instance of this backend\n",
    "qdrawer = CircuitDrawerMatplotlib()\n",
    "\n",
    "# We add our drawing backend to our main engine, and we use \"engine_list\" to keep the backends besides the default one\n",
    "qengine = MainEngine(engine_list=[qdrawer])\n",
    "\n",
    "# Creating our qubit and naming it \"qubit\"\n",
    "qubit = qengine.allocate_qubit() # allocate 1 qubit\n",
    "# We draw the circuit so far\n",
    "display(qdrawer.draw())\n",
    "\n",
    "X | qubit # apply X gate\n",
    "# We draw the circuit so far\n",
    "display(qdrawer.draw())\n",
    "\n",
    "Measure | qubit # apply Measurement operation\n",
    "# We draw the circuit so far\n",
    "display(qdrawer.draw())\n",
    "\n",
    "# We execute the circuit and print the value of the qubit\n",
    "qengine.flush()\n",
    "print(\"The outcome of the qubit is\",int(qubit))\n",
    "# We draw the circuit so far\n",
    "display(qdrawer.draw()) \n",
    "\n",
    "# re-run the cell if the figures are not shown"
   ]
  },
  {
   "cell_type": "markdown",
   "metadata": {},
   "source": [
    "<h3> The Circuit </h3>\n",
    "\n",
    "As seen explicitly in the diagrams, the default value of a quantum bit is 0 at the beginning. \n",
    "\n",
    "_As a convention in quantum computing (mechanics), state 0 is denoted as $ \\ket{0} $. This notation is called as **ket**._\n",
    "\n",
    "Each quantum bit is represented as a single straight line which you may think of as wires.\n",
    "\n",
    "The X-gate is shown as $ \\oplus $ and the measurement operator is shown similar to speedometer."
   ]
  },
  {
   "cell_type": "markdown",
   "metadata": {},
   "source": [
    "<h3> A quantum circuit with more quantum bits</h3>\n",
    "\n",
    "We design a new quantum circuit with four quantum bits.\n",
    "\n",
    "*When using more functionalities, we may need some other engines, and to stay in safe side, we recommend to add all available engines by \"get_engine_list()\".*"
   ]
  },
  {
   "cell_type": "code",
   "execution_count": null,
   "metadata": {},
   "outputs": [],
   "source": [
    "# A quantum circuit with four quantum bits\n",
    "\n",
    "# Import all objects and methods at once\n",
    "from projectq import MainEngine \n",
    "from projectq.backends import CircuitDrawerMatplotlib\n",
    "from projectq.ops import X, Measure, Barrier, All, BarrierGate\n",
    "from projectq.setups.default import get_engine_list\n",
    "\n",
    "# backend for drawing\n",
    "qdrawer = CircuitDrawerMatplotlib()\n",
    "\n",
    "# main engine with qdrawer and the other available engines\n",
    "qengine = MainEngine(engine_list=[qdrawer]+get_engine_list())\n",
    "#eng = MainEngine(backend = Simulator(), engine_list=[drawing_engine]+get_engine_list())\n",
    "\n",
    "# Allocate four qubits, which form a quantum register\n",
    "qreg = qengine.allocate_qureg(4)\n",
    "# we access each qubit on the register with its index, i.e., qreg[0], qreg[1], qreg[2], and qreg[3].\n",
    "\n",
    "# Apply x-gate to the first quantum bit twice.\n",
    "X | qreg[0]\n",
    "X | qreg[0]\n",
    "\n",
    "# Apply x-gate to the fourth quantum bit once\n",
    "X | qreg[3]\n",
    "\n",
    "# Apply x-gate to the third quantum bit three times\n",
    "X | qreg[2]\n",
    "X | qreg[2]\n",
    "X | qreg[2]\n",
    "\n",
    "# Apply x-gate to the second quantum bit four times\n",
    "# Let us apply the gates using a for loop this time for a change.\n",
    "for i in range (4):\n",
    "    X | qreg[1]\n",
    "\n",
    "    \n",
    "# Define a barrier\n",
    "Barrier | qreg\n",
    "# Barriers are used to separate a part of the program from the rest, \n",
    "#     which matters when compiling or optimizing the whole program.\n",
    "# Here we use it for getting a better visualization to show the measurement operator after all operators\n",
    "# You may also re-run this cell by commenting out Barrier\n",
    "\n",
    "# Measure gate is designed for a single qubit.\n",
    "# Thus, we use the method All to measure the whole register\n",
    "All(Measure) | qreg\n",
    "\n",
    "# draw the circuit\n",
    "print(qdrawer.draw())"
   ]
  },
  {
   "cell_type": "markdown",
   "metadata": {},
   "source": [
    "<h3> Task 1 </h3>\n",
    "\n",
    "Guess the outcome of the circuit by checking the circuit diagram.\n",
    "\n",
    "Then, compare your guess with the result obtained after executing the circuit below."
   ]
  },
  {
   "cell_type": "code",
   "execution_count": null,
   "metadata": {},
   "outputs": [],
   "source": [
    "# Flush circuit to the default backend\n",
    "qengine.flush()\n",
    "\n",
    "# Print the measured outcomes as a binary string\n",
    "print(\"Output: {}{}{}{}\".format(int(qreg[0]),int(qreg[1]),int(qreg[2]),int(qreg[3])))\n",
    "print()"
   ]
  },
  {
   "cell_type": "markdown",
   "metadata": {},
   "source": [
    "<h3>Reading order</h3> \n",
    "\n",
    "In ProjectQ, we access the value of each qubit is separately. \n",
    "\n",
    "Therefore, it is up to the user/designer\n",
    "- in which order to concatenate the values, e.g., 0011 or 1100, and\n",
    "- how to process the outcomes, i.e., outputting as a binary string or (signed/unsigned) integer, etc."
   ]
  },
  {
   "cell_type": "markdown",
   "metadata": {},
   "source": [
    "<h3>Pick a random number in python</h3>\n",
    "\n",
    "In the following task, you will be asked to apply a x-gate or not randomly.\n",
    "\n",
    "Here is one of the methods to pick a random number in python."
   ]
  },
  {
   "cell_type": "code",
   "execution_count": null,
   "metadata": {},
   "outputs": [],
   "source": [
    "from random import randrange\n",
    "n = 20\n",
    "r=randrange(n) # pick a number from the list {0,1,...,n-1}\n",
    "print(r)\n",
    "\n",
    "# test this method by using a loop\n",
    "for i in range(10):\n",
    "    print(randrange(n))"
   ]
  },
  {
   "cell_type": "markdown",
   "metadata": {},
   "source": [
    "<h3> Task 2: Randomly picking an 8-bit binary number </h3>\n",
    "\n",
    "Design a quantum circuit with 8 quantum bits.\n",
    "\n",
    "For each quantum bit:\n",
    "- flip a coin by python, e.g., use \"randrange()\", and \n",
    "- apply x-gate if the outcome is head.\n",
    "\n",
    "Measure all quantum bits.\n",
    "\n",
    "Draw your circuit and guess the outcome.\n",
    "\n",
    "Execute the circuit and compare it with your guess.\n",
    "\n",
    "Repeat this task as much as you want, and enjoy your random choices."
   ]
  },
  {
   "cell_type": "code",
   "execution_count": null,
   "metadata": {},
   "outputs": [],
   "source": [
    "######################\n",
    "# Enter your code here\n",
    "######################\n"
   ]
  },
  {
   "cell_type": "markdown",
   "metadata": {},
   "source": [
    "[click for our solution](Q12_First_Quantum_Programs_with_ProjectQ_Solutions.ipynb#task2)"
   ]
  },
  {
   "cell_type": "markdown",
   "metadata": {},
   "source": [
    "### Reading the output as an integer\n",
    "\n",
    "In Task 2, we can output the result as a single integer between 0 and 255, i.e., 8-bit (unsigned) binary number.\n",
    "\n",
    "Then, would you output the result as $(qreg[0],\\ldots,qreg[7])_2 ~~~~~or~~~~~ (qreg[7],\\ldots,qreg[0])_2 $?\n",
    "\n",
    "Remark that $ 13 = 2^3 + 2^2 + 2^0 $ and so $ 13 = (1101)_2 $. \n",
    "\n",
    "Can we corralate the exponents of 2 with the indices of bits (or quantum bits) if this number is read from a circuit?\n",
    "\n",
    "You can implement the next based on your answer, and then check our solution."
   ]
  },
  {
   "cell_type": "markdown",
   "metadata": {},
   "source": [
    "<h3> Task 3 </h3>\n",
    "\n",
    "We repeat Task 2 and output the result as a single integer.\n",
    "\n",
    "_The method $ int(x,2) $ gives the decimal value of binary string $ x $._"
   ]
  },
  {
   "cell_type": "code",
   "execution_count": null,
   "metadata": {},
   "outputs": [],
   "source": [
    "######################\n",
    "# Enter your code here\n",
    "######################\n"
   ]
  },
  {
   "cell_type": "markdown",
   "metadata": {},
   "source": [
    "[click for our solution](Q12_First_Quantum_Programs_with_ProjectQ_Solutions.ipynb#task3)"
   ]
  }
 ],
 "metadata": {
  "kernelspec": {
   "display_name": "Python 3",
   "language": "python",
   "name": "python3"
  },
  "language_info": {
   "codemirror_mode": {
    "name": "ipython",
    "version": 3
   },
   "file_extension": ".py",
   "mimetype": "text/x-python",
   "name": "python",
   "nbconvert_exporter": "python",
   "pygments_lexer": "ipython3",
   "version": "3.8.10"
  }
 },
 "nbformat": 4,
 "nbformat_minor": 4
}
